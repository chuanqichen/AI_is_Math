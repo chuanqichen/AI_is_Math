{
 "cells": [
  {
   "cell_type": "markdown",
   "metadata": {},
   "source": [
    "# Exercise: Tennis\n",
    "\n",
    "In this exercise we will load the Tennis dataset, choose one of the datasets, and fit a logistic model to try and predict if the player won a game."
   ]
  },
  {
   "cell_type": "markdown",
   "metadata": {},
   "source": [
    "Step-by-step instructions:\n",
    "\n",
    "- Use whatever table columns you want as features (i.e. independent variables, $x$s), see `df.columns` for ideas.\n",
    "- Create a new column that has a boolean specifiying if the plater won the game (see the columns `player1 name` and `winner`).\n",
    "- Create a regression model and fit it to the chosen data (using scikit, statsmodels, or our own hand-crafted).\n",
    "- Check the accuracy (score) of the fitted model.\n",
    "- Use the `pickle` model to dump the fitted model so it can be used again later for prediction or re-fitting.\n",
    "\n",
    "For bonus points:\n",
    "- Use [`sklearn.model_selection.train_test_split`](http://scikit-learn.org/stable/modules/generated/sklearn.model_selection.train_test_split.html#sklearn.model_selection.train_test_split) (click the link for docs) to split the `X` and `y` into a training and testing set.\n",
    "- Fit the model on the training set.\n",
    "- Score the model on the test set.\n",
    "\n",
    "Solution is given in [solutions/logistic_tennis.py](../solutions/logistic_tennis.py)."
   ]
  },
  {
   "cell_type": "code",
   "execution_count": null,
   "metadata": {},
   "outputs": [],
   "source": []
  },
  {
   "cell_type": "code",
   "execution_count": null,
   "metadata": {},
   "outputs": [],
   "source": []
  },
  {
   "cell_type": "code",
   "execution_count": null,
   "metadata": {},
   "outputs": [],
   "source": []
  },
  {
   "cell_type": "code",
   "execution_count": null,
   "metadata": {},
   "outputs": [],
   "source": []
  },
  {
   "cell_type": "markdown",
   "metadata": {},
   "source": [
    "Below you can see how I load a model I previously fitted (`solutions/logistic_tennis.model`) with data for Rafael Nadal and columns `player1 aces`, `player1 double faults` as features, and use it to predict the result in a game in which Rafa had one ace and two double faults."
   ]
  },
  {
   "cell_type": "code",
   "execution_count": 5,
   "metadata": {},
   "outputs": [
    {
     "name": "stdout",
     "output_type": "stream",
     "text": [
      "Accuracy: 0.8265107212475633\n",
      "Saving model to ../solutions/logistic_tennis.model\n",
      "player1 aces             1.0\n",
      "player1 double faults    1.0\n",
      "Name: 479, dtype: float64 True\n"
     ]
    },
    {
     "name": "stderr",
     "output_type": "stream",
     "text": [
      "/Users/yoavram/miniconda3/envs/Py4Eng/lib/python3.7/site-packages/sklearn/linear_model/logistic.py:433: FutureWarning: Default solver will be changed to 'lbfgs' in 0.22. Specify a solver to silence this warning.\n",
      "  FutureWarning)\n"
     ]
    }
   ],
   "source": [
    "%run ../solutions/logistic-tennis.py"
   ]
  },
  {
   "cell_type": "code",
   "execution_count": 9,
   "metadata": {},
   "outputs": [
    {
     "name": "stdout",
     "output_type": "stream",
     "text": [
      "Win? [ True]\n"
     ]
    }
   ],
   "source": [
    "import pickle\n",
    "\n",
    "with open('../solutions/logistic_tennis.model', 'rb') as f:\n",
    "    model = pickle.load(f)\n",
    "\n",
    "aces = 1\n",
    "dbl = 2\n",
    "print(\"Win?\", model.predict([[aces, dbl]]))"
   ]
  }
 ],
 "metadata": {
  "kernelspec": {
   "display_name": "Python [conda env:Py4Eng]",
   "language": "python",
   "name": "conda-env-Py4Eng-py"
  },
  "language_info": {
   "codemirror_mode": {
    "name": "ipython",
    "version": 3
   },
   "file_extension": ".py",
   "mimetype": "text/x-python",
   "name": "python",
   "nbconvert_exporter": "python",
   "pygments_lexer": "ipython3",
   "version": "3.7.3"
  }
 },
 "nbformat": 4,
 "nbformat_minor": 2
}
