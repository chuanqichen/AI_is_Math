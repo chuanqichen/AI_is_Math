{
 "cells": [
  {
   "cell_type": "markdown",
   "metadata": {},
   "source": [
    "![Py4Eng](img/logo.png)\n",
    "\n",
    "# File format: CSV\n",
    "## Yoav Ram"
   ]
  },
  {
   "cell_type": "markdown",
   "metadata": {},
   "source": [
    "### The CSV format\n",
    "Comma separated values (CSV) is a very common and useful format for storing tabular data. It is similar to an Excel file, only it is completely text based. Let's have a look at an example file, both using Excel and a simple text editor.\n",
    "\n",
    "We can, quite easily, create our own functions for dealing with CSV files, for example by splitting each line by commas. However, Python has a built-in module for exactly this purpose, so why bother?\n",
    "\n",
    "## Reading CSV files\n",
    "The most simple way to read a CSV file is to use the modules `reader` function. This function receives a file object (created with `open()`) and returns a reader object.\n",
    "\n",
    "Once we have defined the csv reader, we can use it to iterate over the file lines. Each row is returned as a list of the column values."
   ]
  },
  {
   "cell_type": "code",
   "execution_count": 4,
   "metadata": {
    "collapsed": false
   },
   "outputs": [],
   "source": [
    "import csv"
   ]
  },
  {
   "cell_type": "code",
   "execution_count": 8,
   "metadata": {
    "collapsed": false
   },
   "outputs": [
    {
     "name": "stdout",
     "output_type": "stream",
     "text": [
      "accession\n",
      "101AV/Ge-0\n",
      "157AV/Ita-0\n",
      "162AV/Ct-1\n",
      "163AV/Can-0\n",
      "166AV/Cvi-0\n",
      "172AV/Bur-0\n",
      "180AV/Blh-1\n",
      "186AV/Col-0\n",
      "200AV/Gre-0\n",
      "215AV/Mh-1\n",
      "224AV/Oy-0\n",
      "236AV/Shadahra\n",
      "252AV/Akita\n",
      "257AV/Sakata\n",
      "25AV/Jea\n",
      "266AV/N13\n",
      "42AV/Bl-1\n",
      "62AV/St-0\n",
      "70AV/Kn-0\n",
      "83AV/Edi-0\n",
      "8AV/Pyl-1\n",
      "91AV/Tsu-0\n",
      "94AV/Mt-0\n",
      "96AV/An-1\n"
     ]
    }
   ],
   "source": [
    "experiments_file = r'..\\data\\electrolyte_leakage.csv'\n",
    "with open(experiments_file, 'r') as f:\n",
    "    csv_reader = csv.reader(f)\n",
    "    for row in csv_reader:\n",
    "        print(row[0])"
   ]
  },
  {
   "cell_type": "markdown",
   "metadata": {},
   "source": [
    "## Writing CSV files\n",
    "Writing is also rather straightforward. The csv module supplies the `csv.writer` object, which has the method `writerow()`. This function receives a list, and prints it as a csv line."
   ]
  },
  {
   "cell_type": "code",
   "execution_count": 9,
   "metadata": {
    "collapsed": true
   },
   "outputs": [],
   "source": [
    "import tempfile"
   ]
  },
  {
   "cell_type": "code",
   "execution_count": 14,
   "metadata": {
    "collapsed": false
   },
   "outputs": [
    {
     "name": "stdout",
     "output_type": "stream",
     "text": [
      "Writing to C:\\Users\\yoavram\\AppData\\Local\\Temp\\tmpo2eujh1z.csv\n"
     ]
    }
   ],
   "source": [
    "fname = tempfile.mktemp(suffix='.csv')\n",
    "print(\"Writing to\", fname)\n",
    "with open(fname, 'w', newline='') as fo:    # notice the 'w' instead of 'r'\n",
    "    csv_writer = csv.writer(fo)\n",
    "    csv_writer.writerow(['these','are','the','column','headers'])\n",
    "    csv_writer.writerow(['and','these','are','the','values'])"
   ]
  },
  {
   "cell_type": "code",
   "execution_count": 15,
   "metadata": {
    "collapsed": false
   },
   "outputs": [],
   "source": [
    "!open $fname"
   ]
  },
  {
   "cell_type": "markdown",
   "metadata": {},
   "source": [
    "## Exercise\n",
    "\n",
    "The `electrolyte_leakage.csv` file features the results of experiments on different `Arabidopsis` ecotypes (accessions). In each row, there are 3 control plants and 3 plants tested under draught stress.\n",
    "\n",
    "Read the CSV file, calculate the mean result for control and for test plants of each ecotype, and print the result as a new CSV file, in the following way:  \n",
    " \n",
    "| Accession  |  control mean  |  test mean  |\n",
    "|----------|----------------|---------------|\n",
    "|101AV/Ge-0 |      7.34      |     3.03  |\n",
    "|157AV/Ita-0|     16.85      |     2.92  |\n",
    "  \n",
    "Use the provided accessory function to calculate means.  "
   ]
  },
  {
   "cell_type": "code",
   "execution_count": null,
   "metadata": {
    "collapsed": false
   },
   "outputs": [],
   "source": []
  },
  {
   "cell_type": "markdown",
   "metadata": {},
   "source": [
    "## Colophon\n",
    "This notebook was written by [Yoav Ram](http://python.yoavram.com) and is part of the [_Python for Engineers_](https://github.com/yoavram/Py4Eng) course.\n",
    "\n",
    "The notebook was written using [Python](http://python.org/) 3.6.1.\n",
    "Dependencies listed in [environment.yml](../environment.yml), full versions in [environment_full.yml](../environment_full.yml).\n",
    "\n",
    "This work is licensed under a CC BY-NC-SA 4.0 International License.\n",
    "\n",
    "![Python logo](https://www.python.org/static/community_logos/python-logo.png)"
   ]
  }
 ],
 "metadata": {
  "kernelspec": {
   "display_name": "Python [default]",
   "language": "python",
   "name": "python3"
  },
  "language_info": {
   "codemirror_mode": {
    "name": "ipython",
    "version": 3
   },
   "file_extension": ".py",
   "mimetype": "text/x-python",
   "name": "python",
   "nbconvert_exporter": "python",
   "pygments_lexer": "ipython3",
   "version": "3.6.2"
  }
 },
 "nbformat": 4,
 "nbformat_minor": 0
}
