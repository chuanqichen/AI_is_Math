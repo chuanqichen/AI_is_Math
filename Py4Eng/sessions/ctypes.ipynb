{
 "cells": [
  {
   "cell_type": "markdown",
   "metadata": {},
   "source": [
    "![Py4Eng](img/logo.png)\n",
    "\n",
    "# Calling C functions from Python with `ctypes`\n",
    "## Yoav Ram"
   ]
  },
  {
   "cell_type": "markdown",
   "metadata": {},
   "source": [
    "# `ctypes`\n",
    "\n",
    "[ctypes](https://docs.python.org/3/library/ctypes.html) is a foreign function library for Python. It provides C compatible data types, and allows calling functions in DLLs or shared libraries. It can be used to wrap these libraries in pure Python."
   ]
  },
  {
   "cell_type": "code",
   "execution_count": 1,
   "metadata": {
    "collapsed": true
   },
   "outputs": [],
   "source": [
    "import ctypes"
   ]
  },
  {
   "cell_type": "markdown",
   "metadata": {},
   "source": [
    "We'll start by loading the standard C library (`msvcrt` on Windows, `libc` on Linux):"
   ]
  },
  {
   "cell_type": "code",
   "execution_count": 7,
   "metadata": {
    "collapsed": false
   },
   "outputs": [
    {
     "name": "stdout",
     "output_type": "stream",
     "text": [
      "darwin\n"
     ]
    }
   ],
   "source": [
    "import sys\n",
    "print(sys.platform)\n",
    "if sys.platform == 'win32': # windows\n",
    "    libc = ctypes.cdll.msvcrt\n",
    "elif sys.platform == 'darwin': # osx\n",
    "    libc = ctypes.CDLL('/usr/lib/libc.dylib')\n",
    "else: # linux\n",
    "    libc = ctypes.CDLL(\"libc.so.6\")"
   ]
  },
  {
   "cell_type": "markdown",
   "metadata": {},
   "source": [
    "(In general we can find the shared library path using `ctypes.util.find_library(\"c\"))`).\n",
    "\n",
    "We can now get functions from the standard library:"
   ]
  },
  {
   "cell_type": "code",
   "execution_count": 8,
   "metadata": {
    "collapsed": false
   },
   "outputs": [
    {
     "data": {
      "text/plain": [
       "19"
      ]
     },
     "execution_count": 8,
     "metadata": {},
     "output_type": "execute_result"
    }
   ],
   "source": [
    "libc.printf(b\"Hello, %s\\n\", b\"World!\")\n",
    "libc.printf(b\"%d bottles of beer\\n\", 42)"
   ]
  },
  {
   "cell_type": "markdown",
   "metadata": {},
   "source": [
    "`printf` prints to the real standard output channel, not to `sys.stdout`; look for the output in the notebook server console. \n",
    "\n",
    "> `None`, integers, bytes objects and (unicode) strings are the only native Python objects that can directly be used as parameters in these function calls. `None` is passed as a C NULL pointer, bytes objects and strings are passed as pointer to the memory block that contains their data (char * or wchar_t *). Python integers are passed as the platforms default C int type, their value is masked to fit into the C type.\n",
    "\n",
    "However, `printf` expects ANSI and not unicode, so we need to pass it `bytes` rather than `str`:"
   ]
  },
  {
   "cell_type": "code",
   "execution_count": 9,
   "metadata": {
    "collapsed": false
   },
   "outputs": [
    {
     "data": {
      "text/plain": [
       "1"
      ]
     },
     "execution_count": 9,
     "metadata": {},
     "output_type": "execute_result"
    }
   ],
   "source": [
    "libc.printf(\"Hello, %s\\n\", \"World!\")"
   ]
  },
  {
   "cell_type": "markdown",
   "metadata": {},
   "source": [
    "Another example is the `time` function:"
   ]
  },
  {
   "cell_type": "code",
   "execution_count": 10,
   "metadata": {
    "collapsed": false
   },
   "outputs": [
    {
     "name": "stdout",
     "output_type": "stream",
     "text": [
      "<_FuncPtr object at 0x103dbb750>\n"
     ]
    },
    {
     "data": {
      "text/plain": [
       "1467612136"
      ]
     },
     "execution_count": 10,
     "metadata": {},
     "output_type": "execute_result"
    }
   ],
   "source": [
    "print(libc.time)\n",
    "libc.time(None)"
   ]
  },
  {
   "cell_type": "markdown",
   "metadata": {},
   "source": [
    "Compare with Python's `time.time`:"
   ]
  },
  {
   "cell_type": "code",
   "execution_count": 11,
   "metadata": {
    "collapsed": false
   },
   "outputs": [
    {
     "data": {
      "text/plain": [
       "1467612138.192701"
      ]
     },
     "execution_count": 11,
     "metadata": {},
     "output_type": "execute_result"
    }
   ],
   "source": [
    "import time\n",
    "time.time()"
   ]
  },
  {
   "cell_type": "markdown",
   "metadata": {},
   "source": [
    "Python's `time` gave us extra precision!\n",
    "\n",
    "Here is another example, it uses the [`strchr`](http://www.cplusplus.com/reference/cstring/strchr/) function, which expects a string pointer and a char, and returns a pointer to a string that starts with that char:"
   ]
  },
  {
   "cell_type": "code",
   "execution_count": 12,
   "metadata": {
    "collapsed": false
   },
   "outputs": [
    {
     "data": {
      "text/plain": [
       "69446147"
      ]
     },
     "execution_count": 12,
     "metadata": {},
     "output_type": "execute_result"
    }
   ],
   "source": [
    "libc.strchr(b\"abcdef\", ord(\"d\")) "
   ]
  },
  {
   "cell_type": "markdown",
   "metadata": {},
   "source": [
    "By default functions are assumed to return the C `int` type. Other return types can be specified by setting the `restype` attribute of the function object. Since `strchr` returns a string, we need to set the result type to `c_char_p` - "
   ]
  },
  {
   "cell_type": "code",
   "execution_count": 13,
   "metadata": {
    "collapsed": false
   },
   "outputs": [
    {
     "data": {
      "text/plain": [
       "b'def'"
      ]
     },
     "execution_count": 13,
     "metadata": {},
     "output_type": "execute_result"
    }
   ],
   "source": [
    "libc.strchr.restype = ctypes.c_char_p\n",
    "libc.strchr(b\"abcdef\", ord(\"d\")) "
   ]
  },
  {
   "cell_type": "markdown",
   "metadata": {},
   "source": [
    "Similarly, functions expect integers, bytes, strings and `None`, so if we want to avoid the `ord(\"x\")` call we can set the `argtypes` attribute, and the second argument will be converted from a single character Python object into a C wchar:"
   ]
  },
  {
   "cell_type": "code",
   "execution_count": 14,
   "metadata": {
    "collapsed": false
   },
   "outputs": [
    {
     "data": {
      "text/plain": [
       "b'def'"
      ]
     },
     "execution_count": 14,
     "metadata": {},
     "output_type": "execute_result"
    }
   ],
   "source": [
    "libc.strchr.argtypes = [ctypes.c_char_p, ctypes.c_wchar]\n",
    "libc.strchr(b\"abcdef\", \"d\")"
   ]
  },
  {
   "cell_type": "markdown",
   "metadata": {},
   "source": [
    "Other ctypes types can be found in the [documentation](https://docs.python.org/3/library/ctypes.html#fundamental-data-types)."
   ]
  },
  {
   "cell_type": "markdown",
   "metadata": {
    "collapsed": true
   },
   "source": [
    "## Using your own C extension\n",
    "\n",
    "We'll use a C extension that implements the Fibonacci series using recursion.\n",
    "\n",
    "This example follows the [SciPy Cookbook](https://scipy-cookbook.readthedocs.org/items/Ctypes.html#fibonacci-example-using-numpy-arrays-c-and-scons).\n",
    "\n",
    "First, let's change to the example directory:"
   ]
  },
  {
   "cell_type": "code",
   "execution_count": 15,
   "metadata": {
    "collapsed": false
   },
   "outputs": [
    {
     "name": "stdout",
     "output_type": "stream",
     "text": [
      "/Users/yoavram/Work/Py4Eng/scripts/ctypes\n"
     ]
    }
   ],
   "source": [
    "%cd ../scripts/ctypes/"
   ]
  },
  {
   "cell_type": "markdown",
   "metadata": {},
   "source": [
    "Have a look at the C file. Note that we export the three functions (`fib`, `fibseries`, and `fibmatrix`) with `dllexport`, and that we don't use an `h`."
   ]
  },
  {
   "cell_type": "code",
   "execution_count": 16,
   "metadata": {
    "collapsed": false
   },
   "outputs": [],
   "source": [
    "%less fibonacci.c"
   ]
  },
  {
   "cell_type": "markdown",
   "metadata": {},
   "source": [
    "There's nothing special here, and the same code could be written in Python, too, with some changes:"
   ]
  },
  {
   "cell_type": "code",
   "execution_count": 17,
   "metadata": {
    "collapsed": false
   },
   "outputs": [],
   "source": [
    "import numpy as np\n",
    "\n",
    "def fib(a):\n",
    "    if a <= 0: #  Error -- wrong input will return -1. \n",
    "        return -1\n",
    "    elif a == 1:\n",
    "        return 0;\n",
    "    elif a == 2 or a == 3:\n",
    "        return 1\n",
    "    else:\n",
    "        return fib(a - 2) + fib(a - 1)\n",
    "\n",
    "def fibseries(a):\n",
    "    series = np.empty_like(a, dtype=int)\n",
    "    for i in range(len(a)):\n",
    "        series[i] = fib(a[i])\n",
    "    return series\n",
    "\n",
    "def fibmatrix(a):\n",
    "    rows, columns = a.shape\n",
    "    matrix = np.empty_like(a, dtype=int)\n",
    "    for i in range(rows):\n",
    "        for j in range(columns):\n",
    "            matrix[i,j] = fib(a[i,j])\n",
    "    return matrix"
   ]
  },
  {
   "cell_type": "markdown",
   "metadata": {},
   "source": [
    "We need to compile `fibonacci.c`. \n",
    "\n",
    "- On Windows: run the `build.bat` file; but first make sure `vcvarsall.bat` is in the `PATH` environment variable.\n",
    "- On Linux/OSX, you can use [scons](http://www.scons.org), which only works with Python 2.7. On *Binder* just use the system `pip` to install it (`pip install scons`); on your own machine you should create a virtual enviornment using `conda create -n py27 python=2.7 scons`, then `conda run -n activate py27` and then `scons`."
   ]
  },
  {
   "cell_type": "code",
   "execution_count": null,
   "metadata": {
    "collapsed": false
   },
   "outputs": [],
   "source": [
    "!build.bat"
   ]
  },
  {
   "cell_type": "markdown",
   "metadata": {},
   "source": [
    "Now that we have our shared library, let's have a look at the Python wrapper around `fibonacci.dll` (Windows) or `libfibonacci.so` (Linux):"
   ]
  },
  {
   "cell_type": "code",
   "execution_count": 23,
   "metadata": {
    "collapsed": true
   },
   "outputs": [],
   "source": [
    "%less fibonacci.py"
   ]
  },
  {
   "cell_type": "markdown",
   "metadata": {},
   "source": [
    "This Python module loads the DLL, reads the relevant functions, annotates the argument and return value types, and then defines wrapper Python function that create the output arguments and communicate with the ctypes functions. There is also a lot of add docstrings. Note that we also make use of `numpy.ctypeslib`, which allows to use NumPy arrays wherever data buffers are used in the C code."
   ]
  },
  {
   "cell_type": "code",
   "execution_count": 25,
   "metadata": {
    "collapsed": false
   },
   "outputs": [],
   "source": [
    "import fibonacci as fb"
   ]
  },
  {
   "cell_type": "code",
   "execution_count": 26,
   "metadata": {
    "collapsed": false
   },
   "outputs": [
    {
     "data": {
      "text/plain": [
       "array([ 0,  3, 21], dtype=int32)"
      ]
     },
     "execution_count": 26,
     "metadata": {},
     "output_type": "execute_result"
    }
   ],
   "source": [
    "fb.fibseries([1, 5, 9])"
   ]
  },
  {
   "cell_type": "markdown",
   "metadata": {},
   "source": [
    "Compare to the pure-Python function:"
   ]
  },
  {
   "cell_type": "code",
   "execution_count": 27,
   "metadata": {
    "collapsed": false
   },
   "outputs": [
    {
     "data": {
      "text/plain": [
       "array([ 0,  3, 21])"
      ]
     },
     "execution_count": 27,
     "metadata": {},
     "output_type": "execute_result"
    }
   ],
   "source": [
    "fibseries([1, 5, 9])"
   ]
  },
  {
   "cell_type": "code",
   "execution_count": 28,
   "metadata": {
    "collapsed": false
   },
   "outputs": [
    {
     "name": "stdout",
     "output_type": "stream",
     "text": [
      "100000 loops, best of 3: 18.4 µs per loop\n",
      "The slowest run took 13.10 times longer than the fastest. This could mean that an intermediate result is being cached.\n",
      "1000000 loops, best of 3: 1.2 µs per loop\n"
     ]
    }
   ],
   "source": [
    "%timeit fib(10)\n",
    "%timeit fb.fib(10)"
   ]
  },
  {
   "cell_type": "code",
   "execution_count": 29,
   "metadata": {
    "collapsed": false
   },
   "outputs": [
    {
     "name": "stdout",
     "output_type": "stream",
     "text": [
      "1000 loops, best of 3: 955 µs per loop\n",
      "The slowest run took 7.16 times longer than the fastest. This could mean that an intermediate result is being cached.\n",
      "10000 loops, best of 3: 21.3 µs per loop\n"
     ]
    }
   ],
   "source": [
    "v = np.arange(1, 15)\n",
    "%timeit fibseries(v)\n",
    "%timeit fb.fibseries(v)"
   ]
  },
  {
   "cell_type": "code",
   "execution_count": 30,
   "metadata": {
    "collapsed": false
   },
   "outputs": [
    {
     "name": "stdout",
     "output_type": "stream",
     "text": [
      "100 loops, best of 3: 2.53 ms per loop\n",
      "10000 loops, best of 3: 22.5 µs per loop\n"
     ]
    }
   ],
   "source": [
    "v = np.random.randint(5, 15, (5, 5))\n",
    "%timeit fibmatrix(v)\n",
    "%timeit fb.fibmatrix(v)"
   ]
  },
  {
   "cell_type": "markdown",
   "metadata": {},
   "source": [
    "It's clear that the **C implementation is significantly faster**, especially when given an array of inputs, despite the fast that it perfoms the exact same algorithm as the pure Python version does."
   ]
  },
  {
   "cell_type": "markdown",
   "metadata": {},
   "source": [
    "# References\n",
    "\n",
    "- [ctypes](https://docs.python.org/3/library/ctypes.html)\n",
    "- [SciPy Cookbook](https://scipy-cookbook.readthedocs.org/items/Ctypes.html)\n",
    "- [IPython Cookbook](https://ipython-books.github.io/cookbook/)'s chapter 5 has a section about using C in Python, and some examples are also provided in a [github repo](http://nbviewer.jupyter.org/github/ipython-books/cookbook-code/blob/master/notebooks/chapter05_hpc/03_ctypes.ipynb)."
   ]
  },
  {
   "cell_type": "markdown",
   "metadata": {},
   "source": [
    "## Colophon\n",
    "This notebook was written by [Yoav Ram](http://python.yoavram.com) and is part of the [_Python for Engineers_](https://github.com/yoavram/Py4Eng) course.\n",
    "\n",
    "The notebook was written using [Python](http://python.org/) 3.6.1.\n",
    "Dependencies listed in [environment.yml](../environment.yml), full versions in [environment_full.yml](../environment_full.yml).\n",
    "\n",
    "This work is licensed under a CC BY-NC-SA 4.0 International License.\n",
    "\n",
    "![Python logo](https://www.python.org/static/community_logos/python-logo.png)"
   ]
  }
 ],
 "metadata": {
  "kernelspec": {
   "display_name": "Python [default]",
   "language": "python",
   "name": "python3"
  },
  "language_info": {
   "codemirror_mode": {
    "name": "ipython",
    "version": 3
   },
   "file_extension": ".py",
   "mimetype": "text/x-python",
   "name": "python",
   "nbconvert_exporter": "python",
   "pygments_lexer": "ipython3",
   "version": "3.6.2"
  }
 },
 "nbformat": 4,
 "nbformat_minor": 0
}
