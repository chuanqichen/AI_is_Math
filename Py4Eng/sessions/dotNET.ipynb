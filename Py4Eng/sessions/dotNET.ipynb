{
 "cells": [
  {
   "cell_type": "markdown",
   "metadata": {},
   "source": [
    "![Py4Eng](img/logo.png)\n",
    "\n",
    "# Python .NET interface\n",
    "## Yoav Ram"
   ]
  },
  {
   "cell_type": "markdown",
   "metadata": {},
   "source": [
    "In this session we will see how to call .NET (specifically, C#) from Python. Similarly, Python can also be called from .NET, but we will not cover this here.\n",
    "\n",
    "## Setup \n",
    "\n",
    "First, we need to install .NET:\n",
    "\n",
    "- On Windows, [install the .NET framework](https://msdn.microsoft.com/en-us/library/5a4x27ek.aspx).\n",
    "- On Mac or Linux, install [mono](http://www.mono-project.com) (on Mac, if you have _Homebrew_, just do `brew install mono`).\n",
    "\n",
    "Next, install [Python for .NET](http://pythonnet.github.io): `pip install pythonnet`. If you are having issues, try `pip install pycparser` on Linux/Mac, and try to get the latest code from [github](https://github.com/pythonnet/pythonnet) and install with `python setup.py install`.\n",
    "\n",
    "Now, check that it works - this import should succeed:"
   ]
  },
  {
   "cell_type": "code",
   "execution_count": 1,
   "metadata": {
    "collapsed": true
   },
   "outputs": [],
   "source": [
    "import clr"
   ]
  },
  {
   "cell_type": "markdown",
   "metadata": {},
   "source": [
    "## Simple examples\n",
    "\n",
    "Let's start with a .NET String object:"
   ]
  },
  {
   "cell_type": "code",
   "execution_count": 19,
   "metadata": {
    "collapsed": true
   },
   "outputs": [],
   "source": [
    "from System import String"
   ]
  },
  {
   "cell_type": "code",
   "execution_count": 25,
   "metadata": {
    "collapsed": false
   },
   "outputs": [
    {
     "name": "stdout",
     "output_type": "stream",
     "text": [
      "Hello Microsoft!\n"
     ]
    }
   ],
   "source": [
    "s = String('Hello Microsoft!')\n",
    "print(s)"
   ]
  },
  {
   "cell_type": "code",
   "execution_count": 26,
   "metadata": {
    "collapsed": false
   },
   "outputs": [
    {
     "data": {
      "text/plain": [
       "16"
      ]
     },
     "execution_count": 26,
     "metadata": {},
     "output_type": "execute_result"
    }
   ],
   "source": [
    "s.Length"
   ]
  },
  {
   "cell_type": "code",
   "execution_count": 27,
   "metadata": {
    "collapsed": false
   },
   "outputs": [
    {
     "data": {
      "text/plain": [
       "(False, True)"
      ]
     },
     "execution_count": 27,
     "metadata": {},
     "output_type": "execute_result"
    }
   ],
   "source": [
    "s.Contains('A'), s.Contains('H')"
   ]
  },
  {
   "cell_type": "markdown",
   "metadata": {},
   "source": [
    "We can load a more interesting .NET object:"
   ]
  },
  {
   "cell_type": "code",
   "execution_count": 28,
   "metadata": {
    "collapsed": true
   },
   "outputs": [],
   "source": [
    "from System import Environment"
   ]
  },
  {
   "cell_type": "code",
   "execution_count": 5,
   "metadata": {
    "collapsed": false
   },
   "outputs": [
    {
     "data": {
      "text/plain": [
       "'SilverBullet.home'"
      ]
     },
     "execution_count": 5,
     "metadata": {},
     "output_type": "execute_result"
    }
   ],
   "source": [
    "Environment.MachineName"
   ]
  },
  {
   "cell_type": "markdown",
   "metadata": {},
   "source": [
    "To load additional namespaces, we use the `clr.AddReference` method:"
   ]
  },
  {
   "cell_type": "code",
   "execution_count": 29,
   "metadata": {
    "collapsed": false
   },
   "outputs": [],
   "source": [
    "clr.AddReference('System.Collections');\n",
    "from System.Collections import Hashtable"
   ]
  },
  {
   "cell_type": "code",
   "execution_count": 30,
   "metadata": {
    "collapsed": false
   },
   "outputs": [
    {
     "data": {
      "text/plain": [
       "(True, 6)"
      ]
     },
     "execution_count": 30,
     "metadata": {},
     "output_type": "execute_result"
    }
   ],
   "source": [
    "hashtable = Hashtable()\n",
    "hashtable.Add('Python', 6)\n",
    "hashtable.Add('.NET', 4)\n",
    "\n",
    "hashtable.ContainsKey('Python'), hashtable['Python']"
   ]
  },
  {
   "cell_type": "markdown",
   "metadata": {},
   "source": [
    "## Exercise 1\n",
    "Use [`StringBuilder`](https://msdn.microsoft.com/en-us/library/system.text.stringbuilder(v=vs.110).aspx) (a mutable version of `String`) to build a string representing a triangle of stars. The bottom side of the triangle should have `n` stars.\n",
    "\n",
    "For example, for `n=10`, the result should be:\n",
    "\n",
    "```\n",
    "    *    \n",
    "   ***   \n",
    "  *****  \n",
    " ******* \n",
    "*********\n",
    "```"
   ]
  },
  {
   "cell_type": "code",
   "execution_count": 30,
   "metadata": {
    "collapsed": false
   },
   "outputs": [],
   "source": [
    "from System.Text import StringBuilder"
   ]
  },
  {
   "cell_type": "code",
   "execution_count": 49,
   "metadata": {
    "collapsed": false
   },
   "outputs": [
    {
     "name": "stdout",
     "output_type": "stream",
     "text": [
      "    *    \n",
      "   ***   \n",
      "  *****  \n",
      " ******* \n",
      "*********\n",
      "\n"
     ]
    }
   ],
   "source": []
  },
  {
   "cell_type": "markdown",
   "metadata": {},
   "source": [
    "## Example: XML writer\n",
    "\n",
    "We can use .NET facilities to write an XML writer using the XMLTextWriter class ([source](https://www.thecodingforums.com/threads/example-code-python-pythonnet-ironpython-boo.336422/)). This approach is useful for things that don't exist in Python, are more efficient in .NET, or things we already know how to do in .NET:"
   ]
  },
  {
   "cell_type": "code",
   "execution_count": 2,
   "metadata": {
    "collapsed": true
   },
   "outputs": [],
   "source": [
    "import System.Xml\n",
    "filename = \"tmp.xml\""
   ]
  },
  {
   "cell_type": "code",
   "execution_count": 5,
   "metadata": {
    "collapsed": false
   },
   "outputs": [],
   "source": [
    "writer = System.Xml.XmlTextWriter(filename, None)\n",
    "# Use indenting for readability.\n",
    "writer.Formatting = System.Xml.Formatting.Indented\n",
    "\n",
    "writer.WriteComment(\"XML written from Python using pyhtonnet\")\n",
    "writer.WriteStartElement(\"PythonCourses\")\n",
    "\n",
    "# start course element\n",
    "writer.WriteStartElement(\"Course\")\n",
    "writer.WriteStartAttribute(\"name\")\n",
    "writer.WriteString(\"Py4Eng\")\n",
    "writer.WriteEndAttribute(); \n",
    "\n",
    "# city element\n",
    "writer.WriteStartElement(\"city\")\n",
    "writer.WriteString(\"Rehovot\")\n",
    "writer.WriteEndElement()\n",
    "\n",
    "# students element\n",
    "writer.WriteElementString(\"Students\", \"20\")\n",
    "\n",
    "# website element\n",
    "writer.WriteStartElement(\"website\")\n",
    "writer.WriteString(\"http://python.yoavram.com\")\n",
    "writer.WriteEndElement()\n",
    "\n",
    "# end the course element\n",
    "writer.WriteEndElement()\n",
    "\n",
    "# end the root element\n",
    "writer.WriteEndElement()\n",
    "\n",
    "# write to file and close the writer\n",
    "writer.Flush()\n",
    "writer.Close()"
   ]
  },
  {
   "cell_type": "code",
   "execution_count": 6,
   "metadata": {
    "collapsed": false
   },
   "outputs": [
    {
     "name": "stdout",
     "output_type": "stream",
     "text": [
      "<!--XML written from Python using pyhtonnet-->\r\n",
      "<PythonCourses>\r\n",
      "  <Course name=\"Py4Eng\">\r\n",
      "    <city>Rehovot</city>\r\n",
      "    <Students>20</Students>\r\n",
      "    <website>http://python.yoavram.com</website>\r\n",
      "  </Course>\r\n",
      "</PythonCourses>"
     ]
    }
   ],
   "source": [
    "%cat tmp.xml"
   ]
  },
  {
   "cell_type": "markdown",
   "metadata": {},
   "source": [
    "Now read the file back in and parse to ensure well formed XML:"
   ]
  },
  {
   "cell_type": "code",
   "execution_count": 8,
   "metadata": {
    "collapsed": false
   },
   "outputs": [
    {
     "name": "stdout",
     "output_type": "stream",
     "text": [
      "<!--XML written from Python using pyhtonnet-->\n",
      "<PythonCourses>\n",
      "  <Course name=\"Py4Eng\">\n",
      "    <city>Rehovot</city>\n",
      "    <Students>20</Students>\n",
      "    <website>http://python.yoavram.com</website>\n",
      "  </Course>\n",
      "</PythonCourses>\n"
     ]
    }
   ],
   "source": [
    "doc = System.Xml.XmlDocument()\n",
    "doc.PreserveWhitespace = 1 # Preserve white space for readability.\n",
    "doc.Load(filename)\n",
    "print(doc.InnerXml)"
   ]
  },
  {
   "cell_type": "markdown",
   "metadata": {},
   "source": [
    "## Example: Load C# library\n",
    "\n",
    "Next, we will write a C# library and load it to Python.\n",
    "\n",
    "Start by writing a C# library. We'll write a simple Fibonacci number calculator:"
   ]
  },
  {
   "cell_type": "code",
   "execution_count": 19,
   "metadata": {
    "collapsed": false
   },
   "outputs": [
    {
     "name": "stdout",
     "output_type": "stream",
     "text": [
      "Overwriting FibonacciExample.cs\n"
     ]
    }
   ],
   "source": [
    "%%file FibonacciExample.cs\n",
    "using System;\n",
    "\n",
    "namespace Com.Yoavram.Examples\n",
    "{\n",
    "   public class FibonacciExample\n",
    "   {\n",
    "      public static int Fibonacci(int n)\n",
    "      {\n",
    "          int a = 1;\n",
    "          int b = 1;\n",
    "          int i = 2;\n",
    "          while (i < n) {\n",
    "              int tmp = b;\n",
    "              b = a + b;\n",
    "              a = tmp;\n",
    "              i++;\n",
    "          }\n",
    "          return b;\n",
    "      }\n",
    "      public static void Main(string[] args)\n",
    "      {\n",
    "         Console.WriteLine(\"Fibonacci 10:\");\n",
    "         Console.WriteLine(Fibonacci(10));\n",
    "      }\n",
    "   } \n",
    "}"
   ]
  },
  {
   "cell_type": "markdown",
   "metadata": {},
   "source": [
    "Now to compile it and run it on MacOS (running is calling the `Main` function):"
   ]
  },
  {
   "cell_type": "code",
   "execution_count": 20,
   "metadata": {
    "collapsed": false
   },
   "outputs": [
    {
     "name": "stdout",
     "output_type": "stream",
     "text": [
      "Fibonacci 10:\r\n",
      "55\r\n"
     ]
    }
   ],
   "source": [
    "!mcs FibonacciExample.cs\n",
    "!mono FibonacciExample.exe"
   ]
  },
  {
   "cell_type": "markdown",
   "metadata": {},
   "source": [
    "Now we load the libary to Python and import the namespace:"
   ]
  },
  {
   "cell_type": "code",
   "execution_count": 11,
   "metadata": {
    "collapsed": false
   },
   "outputs": [],
   "source": [
    "assembly = clr.AddReference('FibonacciExample')\n",
    "from Com.Yoavram.Examples import FibonacciExample"
   ]
  },
  {
   "cell_type": "markdown",
   "metadata": {},
   "source": [
    "so that we can use the functions from the namespace:"
   ]
  },
  {
   "cell_type": "code",
   "execution_count": 12,
   "metadata": {
    "collapsed": false
   },
   "outputs": [
    {
     "data": {
      "text/plain": [
       "55"
      ]
     },
     "execution_count": 12,
     "metadata": {},
     "output_type": "execute_result"
    }
   ],
   "source": [
    "FibonacciExample.Fibonacci(10)"
   ]
  },
  {
   "cell_type": "markdown",
   "metadata": {},
   "source": [
    "Let's compete the .NET Fibonacci function with a Python one:"
   ]
  },
  {
   "cell_type": "code",
   "execution_count": 14,
   "metadata": {
    "collapsed": true
   },
   "outputs": [],
   "source": [
    "def fibonacci(n):\n",
    "    a = 1\n",
    "    b = 1\n",
    "    i = 2\n",
    "    while i < n:\n",
    "        a, b = b, a + b\n",
    "        i+= 1\n",
    "    return b"
   ]
  },
  {
   "cell_type": "code",
   "execution_count": 15,
   "metadata": {
    "collapsed": false
   },
   "outputs": [
    {
     "data": {
      "text/plain": [
       "55"
      ]
     },
     "execution_count": 15,
     "metadata": {},
     "output_type": "execute_result"
    }
   ],
   "source": [
    "fibonacci(10)"
   ]
  },
  {
   "cell_type": "code",
   "execution_count": 17,
   "metadata": {
    "collapsed": false
   },
   "outputs": [
    {
     "name": "stdout",
     "output_type": "stream",
     "text": [
      "100000 loops, best of 3: 8.43 µs per loop\n",
      "The slowest run took 20.84 times longer than the fastest. This could mean that an intermediate result is being cached.\n",
      "1000000 loops, best of 3: 1.76 µs per loop\n"
     ]
    }
   ],
   "source": [
    "%timeit fibonacci(100)\n",
    "%timeit FibonacciExample.Fibonacci(100)"
   ]
  },
  {
   "cell_type": "markdown",
   "metadata": {},
   "source": [
    "Alright, the .NET implementation is faster!\n",
    "\n",
    "Now let's write a C# library and wrap it with a Python function. The following code calculates the cumulative sum of a given list/array of integers:"
   ]
  },
  {
   "cell_type": "code",
   "execution_count": 24,
   "metadata": {
    "collapsed": false
   },
   "outputs": [
    {
     "name": "stdout",
     "output_type": "stream",
     "text": [
      "Overwriting CumSumExample.cs\n"
     ]
    }
   ],
   "source": [
    "%%file CumSumExample.cs\n",
    "namespace Com.Yoavram.Examples\n",
    "{\n",
    "   public class CumSumExample\n",
    "   {\n",
    "       public static int[] CumSum(int[] input)\n",
    "      {\n",
    "          int[] output = new int[input.Length];\n",
    "          if (input.Length > 0) {\n",
    "              output[0] = input[0];\n",
    "              for (int i = 1; i < input.Length; i++)\n",
    "              {\n",
    "                 output[i] = input[i] + output[i-1];\n",
    "              }\n",
    "          }\n",
    "          return output;\n",
    "      }\n",
    "      public static void Main(string[] args)\n",
    "      {\n",
    "      }\n",
    "   } \n",
    "}"
   ]
  },
  {
   "cell_type": "code",
   "execution_count": 25,
   "metadata": {
    "collapsed": false
   },
   "outputs": [],
   "source": [
    "!mcs CumSumExample.cs"
   ]
  },
  {
   "cell_type": "markdown",
   "metadata": {},
   "source": [
    "This will be the Python wrapper - it will convert types for us so that we don't even need to know we are using .NET (except for making sure we have .NET and `pythonnet` installed...)."
   ]
  },
  {
   "cell_type": "code",
   "execution_count": 26,
   "metadata": {
    "collapsed": true
   },
   "outputs": [],
   "source": [
    "import clr\n",
    "assembly = clr.AddReference('SumExample')\n",
    "from Com.Yoavram.Examples import SumExample\n",
    "\n",
    "def cumsum(data):\n",
    "    return list(SumExample.Sum(data))"
   ]
  },
  {
   "cell_type": "code",
   "execution_count": 28,
   "metadata": {
    "collapsed": false
   },
   "outputs": [
    {
     "data": {
      "text/plain": [
       "[1, 3, 6, 10, 15, 21, 28, 36, 45]"
      ]
     },
     "execution_count": 28,
     "metadata": {},
     "output_type": "execute_result"
    }
   ],
   "source": [
    "cumsum([1, 2, 3, 4, 5, 6, 7, 8, 9])"
   ]
  },
  {
   "cell_type": "markdown",
   "metadata": {},
   "source": [
    "## Exercise 2\n",
    "\n",
    "Write C# function that given an integer `n`, creates a triangle, such as in Exercise 1, and returns a `String` (not the `StringBuilder`!). Call it from Python."
   ]
  },
  {
   "cell_type": "markdown",
   "metadata": {},
   "source": [
    "## Solutions\n",
    "\n",
    "# Exercise 1"
   ]
  },
  {
   "cell_type": "code",
   "execution_count": 51,
   "metadata": {
    "collapsed": false
   },
   "outputs": [
    {
     "name": "stdout",
     "output_type": "stream",
     "text": [
      "    *    \n",
      "   ***   \n",
      "  *****  \n",
      " ******* \n",
      "*********\n",
      "\n"
     ]
    }
   ],
   "source": [
    "from System.Text import StringBuilder\n",
    "\n",
    "n = 10\n",
    "sb = StringBuilder()\n",
    "for k in range(1, n+1, 2):\n",
    "    sb.Append(' '*((n-k)//2))\n",
    "    sb.Append('*'*k)\n",
    "    sb.Append(' '*((n-k)//2))\n",
    "    sb.Append('\\n')\n",
    "print(sb)"
   ]
  },
  {
   "cell_type": "markdown",
   "metadata": {
    "collapsed": true
   },
   "source": [
    "## Colophon\n",
    "This notebook was written by [Yoav Ram](http://python.yoavram.com) and is part of the [_Python for Engineers_](https://github.com/yoavram/Py4Eng) course.\n",
    "\n",
    "The notebook was written using [Python](http://python.org/) 3.6.1.\n",
    "Dependencies listed in [environment.yml](../environment.yml), full versions in [environment_full.yml](../environment_full.yml).\n",
    "\n",
    "This work is licensed under a CC BY-NC-SA 4.0 International License.\n",
    "\n",
    "![Python logo](https://www.python.org/static/community_logos/python-logo.png)"
   ]
  }
 ],
 "metadata": {
  "kernelspec": {
   "display_name": "Python [default]",
   "language": "python",
   "name": "python3"
  },
  "language_info": {
   "codemirror_mode": {
    "name": "ipython",
    "version": 3
   },
   "file_extension": ".py",
   "mimetype": "text/x-python",
   "name": "python",
   "nbconvert_exporter": "python",
   "pygments_lexer": "ipython3",
   "version": "3.6.2"
  }
 },
 "nbformat": 4,
 "nbformat_minor": 2
}
