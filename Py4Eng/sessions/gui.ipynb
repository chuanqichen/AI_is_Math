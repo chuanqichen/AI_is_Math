{
 "cells": [
  {
   "cell_type": "markdown",
   "metadata": {},
   "source": [
    "![Py4Eng](img/logo.png)\n",
    "\n",
    "# Graphical user interface\n",
    "## Yoav Ram"
   ]
  },
  {
   "cell_type": "markdown",
   "metadata": {},
   "source": [
    "# *Tk* GUI\n",
    "\n",
    "We will be using [*Tk*](http://www.tkdocs.com/), a user interface toolkit that makes it easy to build desktop graphical user interfaces. Tk is cross-platform and it plays nicely with *Matplotlib* and with the Jupyter notebook.\n",
    "\n",
    "We don't need to install anything, because Tk is packaged with Python, and is accessible via the `tkinter` module which is part of the standard library.\n",
    "\n",
    "## Hello World!\n",
    "\n",
    "Let's start with a simple *Hello World!* application - just a window with a button; when the button is clicked, an *Hello World!* dialog comes up. This example follows [Learning IPython for Interactive Computing and Data Visualization](http://ipython-books.github.io/minibook/) by Cyrille Rossant, pg. 85, but modifed to use Tk.\n",
    "\n",
    "We use the notebook's magic command `%gui` to let the notebook know that we are using Tk, then import the `tkinter` module - note that in Python 2 this module was called `Tkinter`. We also import `tkinter.messagebox`, which has helper functions to easily create... message boxes."
   ]
  },
  {
   "cell_type": "code",
   "execution_count": 1,
   "metadata": {},
   "outputs": [],
   "source": [
    "%gui tk\n",
    "import tkinter\n",
    "import tkinter.messagebox"
   ]
  },
  {
   "cell_type": "markdown",
   "metadata": {},
   "source": [
    "Next, we define out main application window, a class we call `HelloWorld`. We add a push-button, with the label `Click me`, and connect it to the method `clicked`. \n",
    "\n",
    "We then create a simple layout and show the window (since it's the main window of the application). \n",
    "\n",
    "The `clicked` method creates a dialog with an `OK` button which says `Hello World!`.\n",
    "\n",
    "Finally, we create the Tk application and the main window. Usually we would need to call `app.master.mainloop()` to start the application mainloop, but Jupyter takes care of that because we called `%gui tk`."
   ]
  },
  {
   "cell_type": "code",
   "execution_count": 6,
   "metadata": {},
   "outputs": [],
   "source": [
    "class HelloWorld:\n",
    "    def __init__(self):\n",
    "        self.master = master = tkinter.Tk()\n",
    "        self.frame = tkinter.Frame(master)\n",
    "        self.frame.pack()\n",
    "        \n",
    "        self.button = tkinter.Button(self.frame)\n",
    "        # the following could have been given in the init above if your prefer\n",
    "        self.button[\"text\"] = \"Click me\"\n",
    "        self.button[\"command\"] = self.clicked\n",
    "        self.button.pack()\n",
    "\n",
    "    def clicked(self):\n",
    "        tkinter.messagebox.showinfo(\"Hello world\", \"You clicked a button.\")        \n",
    "\n",
    "app = HelloWorld()"
   ]
  },
  {
   "cell_type": "markdown",
   "metadata": {},
   "source": [
    "Interestingly, starting the GUI **doesn't block** the notebook (you can see the empty rather than filled circle at the top right of the notebook) which means we can interact with our window through the notebook. This is very useful for testing and debugging.\n",
    "\n",
    "For example, we can trigger the `clicked` method without actually clicking the button:"
   ]
  },
  {
   "cell_type": "code",
   "execution_count": 7,
   "metadata": {},
   "outputs": [],
   "source": [
    "app.clicked()"
   ]
  },
  {
   "cell_type": "markdown",
   "metadata": {},
   "source": [
    "Change the window title and size:"
   ]
  },
  {
   "cell_type": "code",
   "execution_count": 8,
   "metadata": {},
   "outputs": [
    {
     "data": {
      "text/plain": [
       "''"
      ]
     },
     "execution_count": 8,
     "metadata": {},
     "output_type": "execute_result"
    }
   ],
   "source": [
    "app.master.geometry('500x50')\n",
    "app.master.title(\"New title\")"
   ]
  },
  {
   "cell_type": "markdown",
   "metadata": {},
   "source": [
    "And close the window:"
   ]
  },
  {
   "cell_type": "code",
   "execution_count": 9,
   "metadata": {},
   "outputs": [],
   "source": [
    "app.master.destroy()"
   ]
  },
  {
   "cell_type": "markdown",
   "metadata": {},
   "source": [
    "## PyGubu Designer\n",
    "\n",
    "When creating more sophisticated application, it's more convinient to work with a designer - a WYSIWYG GUI editor. \n",
    "\n",
    "[Pygubu](https://github.com/alejandroautalan/pygubu) is such a tool, allowing us to create and edit *XML* files that have an `.ui` extension and define the layout and design of a *Tk* GUI application and then load these XML files from our Python model code to use the design.\n",
    "\n",
    "Let's do a simple example before diving into a more sophisticated example. Install *Pygubu* (`conda run -n Py4Eng XXX` runs `XXX` after activating `Py4Eng` as the Python environment):"
   ]
  },
  {
   "cell_type": "code",
   "execution_count": null,
   "metadata": {},
   "outputs": [],
   "source": [
    "!pip install pygubu"
   ]
  },
  {
   "cell_type": "markdown",
   "metadata": {},
   "source": [
    "Now open the *Pygubu* application on your desktop (the notebook is locked until you close *Pygubu*; if you want to use it in parallel then you should open it from the terminal):"
   ]
  },
  {
   "cell_type": "code",
   "execution_count": 8,
   "metadata": {},
   "outputs": [
    {
     "name": "stdout",
     "output_type": "stream",
     "text": [
      "/bin/sh: pygubu-designer: command not found\n"
     ]
    }
   ],
   "source": [
    "!pygubu-designer"
   ]
  },
  {
   "cell_type": "markdown",
   "metadata": {},
   "source": [
    "*Pygubu* will open and we can start adding widgets to it and design our GUI:\n",
    "\n",
    "![QtDesigner](img/Pygubu.png)\n",
    "\n",
    "We'll build a simple app with just a big textbox to write text to and save\\load to\\from a file.\n",
    "\n",
    "The design is implemented in `../scripts/notepad.ui` - you can open it in the *Pygubu* (File -> Open...).\n",
    "\n",
    "![QtDesigner Notepad UI](img/PygubuNotepad.png)\n",
    "\n",
    "To start a new design you add a `Frame` or `TopLevel` and then you add the widgets you want to it - all from the widget list on the left. Afterwards, you use the widget editor on the bottom to define the widgets' variable name (`id`) and properties such as text, font, and width. \n",
    "\n",
    "![QtDesigner Notepad UI](img/PygubuNotepadLayout.png)\n",
    "\n",
    "Next, you switch to the `Layout` tab to define the layout of the widgets within the frame. The default layout uses a grid system in which you can set the row and column of every widget, their alignment within their grid cell (`sticky`), horizontal and vertical padding (`padx` and `pady`). You can also have one widget span multiple rows or columns using `rowspan` and `colspan` (like I did with the textbox).\n",
    "\n",
    "We can save our design (File -> Save...) it's saved as an XML file:"
   ]
  },
  {
   "cell_type": "code",
   "execution_count": 10,
   "metadata": {},
   "outputs": [
    {
     "data": {
      "text/plain": [
       "<?xml version='1.0' encoding='utf-8'?>\n",
       "<interface>\n",
       "  <object class=\"tk.Frame\" id=\"mainwindow\">\n",
       "    <property name=\"container\">false</property>\n",
       "    <property name=\"height\">200</property>\n",
       "    <property name=\"width\">200</property>\n",
       "    <layout>\n",
       "      <property name=\"column\">0</property>\n",
       "      <property name=\"propagate\">True</property>\n",
       "      <property name=\"row\">0</property>\n",
       "    </layout>\n",
       "    <child>\n",
       "      <object class=\"tk.Text\" id=\"textEdit\">\n",
       "        <property name=\"height\">20</property>\n",
       "        <property name=\"takefocus\">true</property>\n",
       "        <property name=\"width\">40</property>\n",
       "        <property name=\"wrap\">word</property>\n",
       "        <layout>\n",
       "          <property name=\"column\">0</property>\n",
       "          <property name=\"columnspan\">6</property>\n",
       "          <property name=\"padx\">5</property>\n",
       "          <property name=\"pady\">10</property>\n",
       "          <property name=\"propagate\">True</property>\n",
       "          <property name=\"row\">0</property>\n",
       "        </layout>\n",
       "      </object>\n",
       "    </child>\n",
       "    <child>\n",
       "      <object class=\"tk.Label\" id=\"filenameLabel\">\n",
       "        <property name=\"text\" translatable=\"yes\">Filename</property>\n",
       "        <layout>\n",
       "          <property name=\"column\">0</property>\n",
       "          <property name=\"pady\">10</property>\n",
       "          <property name=\"propagate\">True</property>\n",
       "          <property name=\"row\">1</property>\n",
       "          <property name=\"sticky\">e</property>\n",
       "        </layout>\n",
       "      </object>\n",
       "    </child>\n",
       "    <child>\n",
       "      <object class=\"tk.Entry\" id=\"filenameEdit\">\n",
       "        <layout>\n",
       "          <property name=\"column\">1</property>\n",
       "          <property name=\"propagate\">True</property>\n",
       "          <property name=\"row\">1</property>\n",
       "        </layout>\n",
       "      </object>\n",
       "    </child>\n",
       "    <child>\n",
       "      <object class=\"tk.Button\" id=\"browseButton\">\n",
       "        <property name=\"text\" translatable=\"yes\">...</property>\n",
       "        <layout>\n",
       "          <property name=\"column\">2</property>\n",
       "          <property name=\"propagate\">True</property>\n",
       "          <property name=\"row\">1</property>\n",
       "          <property name=\"sticky\">w</property>\n",
       "        </layout>\n",
       "      </object>\n",
       "    </child>\n",
       "    <child>\n",
       "      <object class=\"tk.Button\" id=\"saveButton\">\n",
       "        <property name=\"text\" translatable=\"yes\">Save</property>\n",
       "        <layout>\n",
       "          <property name=\"column\">3</property>\n",
       "          <property name=\"propagate\">True</property>\n",
       "          <property name=\"row\">1</property>\n",
       "          <property name=\"sticky\">w</property>\n",
       "        </layout>\n",
       "      </object>\n",
       "    </child>\n",
       "    <child>\n",
       "      <object class=\"tk.Button\" id=\"loadButton\">\n",
       "        <property name=\"text\" translatable=\"yes\">Load</property>\n",
       "        <layout>\n",
       "          <property name=\"column\">4</property>\n",
       "          <property name=\"propagate\">True</property>\n",
       "          <property name=\"row\">1</property>\n",
       "          <property name=\"sticky\">w</property>\n",
       "        </layout>\n",
       "      </object>\n",
       "    </child>\n",
       "    <child>\n",
       "      <object class=\"tk.Label\" id=\"counterLabel\">\n",
       "        <layout>\n",
       "          <property name=\"column\">5</property>\n",
       "          <property name=\"propagate\">True</property>\n",
       "          <property name=\"row\">1</property>\n",
       "        </layout>\n",
       "      </object>\n",
       "    </child>\n",
       "  </object>\n",
       "</interface>\n"
      ]
     },
     "metadata": {},
     "output_type": "display_data"
    }
   ],
   "source": [
    "%less ../scripts/notepad.ui"
   ]
  },
  {
   "cell_type": "markdown",
   "metadata": {},
   "source": [
    "Once we have a nice design `.ui` file, we can use it in our application code"
   ]
  },
  {
   "cell_type": "code",
   "execution_count": 11,
   "metadata": {},
   "outputs": [
    {
     "name": "stderr",
     "output_type": "stream",
     "text": [
      "ERROR:pygubu.builder.builderobject:Failed to set property 'container' on class '<class 'tkinter.Frame'>'. TclError: can't modify -container option after widget is created\n"
     ]
    }
   ],
   "source": [
    "import pygubu\n",
    "\n",
    "class Notepad:\n",
    "    def __init__(self): \n",
    "        self.master = master = tkinter.Tk()\n",
    "        master.title('Notepad')\n",
    "        # Create a pygubu builder\n",
    "        self.builder = builder = pygubu.Builder()\n",
    "        # Load design file\n",
    "        builder.add_from_file('../scripts/notepad.ui')\n",
    "        # Create the mainwindow widget using a master as parent\n",
    "        self.mainwindow = builder.get_object('mainwindow', master)\n",
    "\n",
    "app = Notepad()"
   ]
  },
  {
   "cell_type": "markdown",
   "metadata": {},
   "source": [
    "Of course, to make this interactive we need to implement button callbacks and other UI logic.\n",
    "We can define the button's callbacks in *Pygubu* (the `command` property), but I find it's better to separate design and functionality, so we will configure the callbacks from the code:"
   ]
  },
  {
   "cell_type": "code",
   "execution_count": 12,
   "metadata": {},
   "outputs": [
    {
     "name": "stderr",
     "output_type": "stream",
     "text": [
      "ERROR:pygubu.builder.builderobject:Failed to set property 'container' on class '<class 'tkinter.Frame'>'. TclError: can't modify -container option after widget is created\n"
     ]
    }
   ],
   "source": [
    "import pygubu\n",
    "\n",
    "class Notepad:\n",
    "    def __init__(self): \n",
    "        self.master = master = tkinter.Tk()\n",
    "        master.title('Notepad')\n",
    "        # Create a pygubu builder\n",
    "        self.builder = builder = pygubu.Builder()\n",
    "        # Load design file\n",
    "        builder.add_from_file('../scripts/notepad.ui')\n",
    "        # Create the mainwindow widget using a master as parent\n",
    "        self.mainwindow = builder.get_object('mainwindow', master)\n",
    "        # Get a button and set it's callback\n",
    "        self.saveButton = builder.get_object('saveButton', master)\n",
    "        self.saveButton[\"command\"] = self.clicked\n",
    "\n",
    "    def clicked(self):\n",
    "        tkinter.messagebox.showinfo(\"Click\", \"You clicked a button.\")\n",
    "                \n",
    "app = Notepad()"
   ]
  },
  {
   "cell_type": "markdown",
   "metadata": {},
   "source": [
    "## Save button\n",
    "\n",
    "We start with the save button. We need to:\n",
    "\n",
    "- implement a new method, `save` that \n",
    "  - reads the text from the editor\n",
    "  - reads the filename from the filename textbox\n",
    "  - opens a file and write the text\n",
    "  - catches exceptions and reports them with a dialog (like the first example in this session)\n",
    "- connect the method to the button"
   ]
  },
  {
   "cell_type": "code",
   "execution_count": 13,
   "metadata": {},
   "outputs": [
    {
     "name": "stderr",
     "output_type": "stream",
     "text": [
      "ERROR:pygubu.builder.builderobject:Failed to set property 'container' on class '<class 'tkinter.Frame'>'. TclError: can't modify -container option after widget is created\n"
     ]
    }
   ],
   "source": [
    "class Notepad:\n",
    "    def __init__(self): \n",
    "        self.master = master = tkinter.Tk()\n",
    "        master.title('Notepad')\n",
    "        self.builder = builder = pygubu.Builder()\n",
    "        builder.add_from_file('../scripts/notepad.ui')\n",
    "        self.mainwindow = builder.get_object('mainwindow', master)\n",
    "        \n",
    "        self.textEdit = builder.get_object('textEdit', master)\n",
    "        self.filenameEdit = builder.get_object('filenameEdit', master)\n",
    "        self.saveButton = builder.get_object('saveButton', master)\n",
    "        self.saveButton[\"command\"] = self.save\n",
    "\n",
    "    def save(self):\n",
    "        text = self.textEdit.get(1.0, tkinter.END)\n",
    "        filename = self.filenameEdit.get()\n",
    "        try:\n",
    "            with open(filename, 'w') as f:\n",
    "                print(text, file=f)\n",
    "        except Exception as e:\n",
    "            tkinter.messagebox.showinfo(\"Error\", str(e))\n",
    "        else:\n",
    "            tkinter.messagebox.showinfo(\"Save\", \n",
    "                    \"Saved to {}\".format(filename))\n",
    "            \n",
    "app = Notepad()"
   ]
  },
  {
   "cell_type": "markdown",
   "metadata": {},
   "source": [
    "Note that while the window is open, you can introspect it in the notebook:"
   ]
  },
  {
   "cell_type": "code",
   "execution_count": 14,
   "metadata": {},
   "outputs": [
    {
     "data": {
      "text/plain": [
       "bla bla\n",
       "\n"
      ]
     },
     "metadata": {},
     "output_type": "display_data"
    }
   ],
   "source": [
    "%less tmp.txt"
   ]
  },
  {
   "cell_type": "code",
   "execution_count": 15,
   "metadata": {},
   "outputs": [
    {
     "name": "stdout",
     "output_type": "stream",
     "text": [
      "tmp.txt\n"
     ]
    }
   ],
   "source": [
    "print(app.filenameEdit.get())"
   ]
  },
  {
   "cell_type": "code",
   "execution_count": 16,
   "metadata": {},
   "outputs": [
    {
     "data": {
      "text/plain": [
       "bla bla\n",
       "\n"
      ]
     },
     "metadata": {},
     "output_type": "display_data"
    }
   ],
   "source": [
    "fname = app.filenameEdit.get()\n",
    "%less $fname"
   ]
  },
  {
   "cell_type": "markdown",
   "metadata": {},
   "source": [
    "## Load button\n",
    "\n",
    "Next, we write a `load` method, which\n",
    "- reads a filename from the filename textbox\n",
    "- reads the text from the file\n",
    "- puts the text in the editor\n",
    "We then connect method to the load button."
   ]
  },
  {
   "cell_type": "code",
   "execution_count": 17,
   "metadata": {},
   "outputs": [
    {
     "name": "stderr",
     "output_type": "stream",
     "text": [
      "ERROR:pygubu.builder.builderobject:Failed to set property 'container' on class '<class 'tkinter.Frame'>'. TclError: can't modify -container option after widget is created\n"
     ]
    }
   ],
   "source": [
    "class Notepad:\n",
    "    def __init__(self): \n",
    "        self.master = master = tkinter.Tk()\n",
    "        master.title('Notepad')\n",
    "        self.builder = builder = pygubu.Builder()\n",
    "        builder.add_from_file('../scripts/notepad.ui')\n",
    "        self.mainwindow = builder.get_object('mainwindow', master)\n",
    "        \n",
    "        self.textEdit = builder.get_object('textEdit', master)\n",
    "        self.filenameEdit = builder.get_object('filenameEdit', master)\n",
    "        self.saveButton = builder.get_object('saveButton', master)\n",
    "        self.loadButton = builder.get_object('loadButton', master)\n",
    "        self.saveButton[\"command\"] = self.save\n",
    "        self.loadButton[\"command\"] = self.load\n",
    "\n",
    "    def save(self):\n",
    "        text = self.textEdit.get(1.0, tkinter.END)\n",
    "        filename = self.filenameEdit.get()\n",
    "        try:\n",
    "            with open(filename, 'w') as f:\n",
    "                print(text, file=f)\n",
    "        except Exception as e:\n",
    "            tkinter.messagebox.showinfo(\"Error\", str(e))\n",
    "        else:\n",
    "            tkinter.messagebox.showinfo(\"Save\", \n",
    "                    \"Saved to {}\".format(filename))\n",
    "\n",
    "    def load(self):\n",
    "        filename = self.filenameEdit.get()\n",
    "        try:\n",
    "            with open(filename) as f:\n",
    "                text = f.read()\n",
    "        except Exception as e:\n",
    "            tkinter.messagebox.showinfo(\"Error\", str(e))\n",
    "        else:\n",
    "            self.textEdit.delete(1.0, tkinter.END)\n",
    "            self.textEdit.insert(1.0, text)\n",
    "\n",
    "app = Notepad()"
   ]
  },
  {
   "cell_type": "code",
   "execution_count": 18,
   "metadata": {},
   "outputs": [
    {
     "data": {
      "text/plain": [
       "'/Users/yoavram/Work/Teaching/Py4Eng/sessions'"
      ]
     },
     "execution_count": 18,
     "metadata": {},
     "output_type": "execute_result"
    }
   ],
   "source": [
    "%pwd"
   ]
  },
  {
   "cell_type": "code",
   "execution_count": 20,
   "metadata": {},
   "outputs": [
    {
     "name": "stdout",
     "output_type": "stream",
     "text": [
      "Hello Python!\n",
      "\n",
      "\n",
      "\n"
     ]
    }
   ],
   "source": [
    "print(app.textEdit.get(1.0, tkinter.END))"
   ]
  },
  {
   "cell_type": "markdown",
   "metadata": {},
   "source": [
    "## Browser button\n",
    "\n",
    "Lastly, we will implement the browse button that will open a file dialog and save the result to the filename textbox. Let's first experiment:"
   ]
  },
  {
   "cell_type": "code",
   "execution_count": 21,
   "metadata": {},
   "outputs": [
    {
     "name": "stdout",
     "output_type": "stream",
     "text": [
      "/Users/yoavram/Work/Teaching/Py4Eng/sessions/tmp.txt\n"
     ]
    }
   ],
   "source": [
    "import tkinter.filedialog\n",
    "filename = tkinter.filedialog.askopenfilename(\n",
    "    defaultextension='.txt', \n",
    "    filetypes=[('all files', '.*'), ('text files', '.txt')],\n",
    "#     parent\n",
    "    title=\"Choose file\"\n",
    ")\n",
    "print(filename)"
   ]
  },
  {
   "cell_type": "code",
   "execution_count": 22,
   "metadata": {},
   "outputs": [
    {
     "name": "stderr",
     "output_type": "stream",
     "text": [
      "ERROR:pygubu.builder.builderobject:Failed to set property 'container' on class '<class 'tkinter.Frame'>'. TclError: can't modify -container option after widget is created\n"
     ]
    }
   ],
   "source": [
    "import tkinter.filedialog\n",
    "import pygubu\n",
    "\n",
    "class Notepad:\n",
    "    def __init__(self): \n",
    "        self.master = master = tkinter.Tk()\n",
    "        master.title('Notepad')\n",
    "        self.builder = builder = pygubu.Builder()\n",
    "        builder.add_from_file('../scripts/notepad.ui')\n",
    "        self.mainwindow = builder.get_object('mainwindow', master)\n",
    "        \n",
    "        self.textEdit = builder.get_object('textEdit', master)\n",
    "        self.filenameEdit = builder.get_object('filenameEdit', master)\n",
    "        self.saveButton = builder.get_object('saveButton', master)\n",
    "        self.loadButton = builder.get_object('loadButton', master)\n",
    "        self.browseButton = builder.get_object('browseButton', master)\n",
    "        self.saveButton[\"command\"] = self.save\n",
    "        self.loadButton[\"command\"] = self.load\n",
    "        self.browseButton[\"command\"] = self.browse\n",
    "\n",
    "    def save(self):\n",
    "        text = self.textEdit.get(1.0, tkinter.END)\n",
    "        filename = self.filenameEdit.get()\n",
    "        try:\n",
    "            with open(filename, 'w') as f:\n",
    "                print(text, file=f)\n",
    "        except Exception as e:\n",
    "            tkinter.messagebox.showinfo(\"Error\", str(e))\n",
    "        else:\n",
    "            tkinter.messagebox.showinfo(\"Save\", \n",
    "                    \"Saved to {}\".format(filename))\n",
    "\n",
    "    def load(self):\n",
    "        filename = self.filenameEdit.get()\n",
    "        try:\n",
    "            with open(filename) as f:\n",
    "                text = f.read()\n",
    "        except Exception as e:\n",
    "            tkinter.messagebox.showinfo(\"Error\", str(e))\n",
    "        else:\n",
    "            self.textEdit.delete(1.0, tkinter.END)\n",
    "            self.textEdit.insert(1.0, text)\n",
    "\n",
    "        \n",
    "    def browse(self):\n",
    "        filename = tkinter.filedialog.askopenfilename(\n",
    "            defaultextension='.txt', \n",
    "            filetypes=[('all files', '.*'), ('text files', '.txt')],\n",
    "            parent=self.mainwindow,\n",
    "            title=\"Choose file\"\n",
    "        )\n",
    "        self.filenameEdit.delete(0, tkinter.END)\n",
    "        self.filenameEdit.insert(0, filename)\n",
    "                \n",
    "app = Notepad()"
   ]
  },
  {
   "cell_type": "markdown",
   "metadata": {},
   "source": [
    "That's it, we have our notepad application.\n",
    "\n",
    "## Exercise\n",
    "\n",
    "Add a button called \"All Caps\" that changes the text to uppercase (using `str.upper()`)."
   ]
  },
  {
   "cell_type": "code",
   "execution_count": null,
   "metadata": {},
   "outputs": [],
   "source": []
  },
  {
   "cell_type": "markdown",
   "metadata": {},
   "source": [
    "# Scheduling and binding\n",
    "\n",
    "Let's add a \"Word Count\" label that displays the number of words in the notepad. We easily write a method `update_word_count`"
   ]
  },
  {
   "cell_type": "code",
   "execution_count": 23,
   "metadata": {},
   "outputs": [
    {
     "name": "stderr",
     "output_type": "stream",
     "text": [
      "ERROR:pygubu.builder.builderobject:Failed to set property 'container' on class '<class 'tkinter.Frame'>'. TclError: can't modify -container option after widget is created\n"
     ]
    }
   ],
   "source": [
    "import pygubu\n",
    "\n",
    "class Notepad:\n",
    "    def __init__(self): \n",
    "        self.master = master = tkinter.Tk()\n",
    "        master.title('Notepad')\n",
    "        self.builder = builder = pygubu.Builder()\n",
    "        builder.add_from_file('../scripts/notepad.ui')\n",
    "        self.mainwindow = builder.get_object('mainwindow', master)\n",
    "        \n",
    "        self.textEdit = builder.get_object('textEdit', master)\n",
    "        self.counterLabel = builder.get_object('counterLabel', master)\n",
    "\n",
    "    def update_word_count(self):\n",
    "        text = self.textEdit.get(1.0, tkinter.END)\n",
    "        words = text.split()\n",
    "        word_count = len(words)\n",
    "        self.counterLabel['text'] = '{:d}'.format(word_count)\n",
    "                \n",
    "app = Notepad()"
   ]
  },
  {
   "cell_type": "markdown",
   "metadata": {},
   "source": [
    "We can update the word count label by calling `update_word_count`:"
   ]
  },
  {
   "cell_type": "code",
   "execution_count": 24,
   "metadata": {},
   "outputs": [],
   "source": [
    "app.update_word_count()"
   ]
  },
  {
   "cell_type": "markdown",
   "metadata": {},
   "source": [
    "However, we would like to do it automatically every second. The first instinct might be to use a thread, but threads cannot change widget; widgets must be changed from the mainloop (which Jupyter notebook starts for use, but with a regular application we would call `app.mainloop()` to start it). \n",
    "\n",
    "However, Tk has a good alternative - we can give a timed callback to the mainloop using `app.after`."
   ]
  },
  {
   "cell_type": "code",
   "execution_count": 25,
   "metadata": {},
   "outputs": [
    {
     "name": "stderr",
     "output_type": "stream",
     "text": [
      "ERROR:pygubu.builder.builderobject:Failed to set property 'container' on class '<class 'tkinter.Frame'>'. TclError: can't modify -container option after widget is created\n"
     ]
    }
   ],
   "source": [
    "class Notepad:\n",
    "    def __init__(self):\n",
    "        self.master = master = tkinter.Tk()\n",
    "        master.title('Notepad')\n",
    "        self.builder = builder = pygubu.Builder()\n",
    "        builder.add_from_file('../scripts/notepad.ui')\n",
    "        self.mainwindow = builder.get_object('mainwindow', master)\n",
    "        \n",
    "        self.textEdit = builder.get_object('textEdit', master)\n",
    "        self.counterLabel = builder.get_object('counterLabel', master)\n",
    "\n",
    "        self.update_word_count()\n",
    "        \n",
    "    ### methods removed for brevity, see sessions/gui.ipynb or scripts/notepad.py\n",
    "    def update_word_count(self):\n",
    "        text = self.textEdit.get(1.0, tkinter.END)\n",
    "        words = text.split()\n",
    "        word_count = len(words)\n",
    "        self.counterLabel['text'] = '{:d}'.format(word_count)\n",
    "        self.master.after(1000, self.update_word_count)\n",
    "\n",
    "app = Notepad()"
   ]
  },
  {
   "cell_type": "markdown",
   "metadata": {},
   "source": [
    "An alternative is to update the counter on every key stroke using by [binding](http://effbot.org/tkinterbook/tkinter-events-and-bindings.htm) `update_word_count` to key events on `textEdit`:"
   ]
  },
  {
   "cell_type": "code",
   "execution_count": 26,
   "metadata": {},
   "outputs": [
    {
     "name": "stderr",
     "output_type": "stream",
     "text": [
      "ERROR:pygubu.builder.builderobject:Failed to set property 'container' on class '<class 'tkinter.Frame'>'. TclError: can't modify -container option after widget is created\n"
     ]
    }
   ],
   "source": [
    "class Notepad:\n",
    "    def __init__(self):\n",
    "        self.master = master = tkinter.Tk()\n",
    "        master.title('Notepad')\n",
    "        self.builder = builder = pygubu.Builder()\n",
    "        builder.add_from_file('../scripts/notepad.ui')\n",
    "        self.mainwindow = builder.get_object('mainwindow', master)        \n",
    "        self.mainwindow = builder.get_object('mainwindow', master)\n",
    "        \n",
    "        self.textEdit = builder.get_object('textEdit', master)\n",
    "        self.counterLabel = builder.get_object('counterLabel', master)\n",
    "\n",
    "        self.textEdit.bind('<Key>', self.update_word_count)\n",
    "        \n",
    "    ### methods removed for brevity, see sessions/gui.ipynb or scripts/notepad.py\n",
    "    def update_word_count(self, *args):\n",
    "        key = args[0].char\n",
    "        if key in (' ', '\\b', '\\t'):\n",
    "            text = self.textEdit.get(1.0, tkinter.END)\n",
    "            words = text.split()\n",
    "            word_count = len(words)\n",
    "            self.counterLabel['text'] = '{:d}'.format(word_count)\n",
    "\n",
    "        \n",
    "app = Notepad()"
   ]
  },
  {
   "cell_type": "markdown",
   "metadata": {},
   "source": [
    "# Tk and Matplotlib\n",
    "\n",
    "[Matplotlib has support for Tk](http://matplotlib.org/examples/user_interfaces/embedding_in_tk.html), so that we can put a plot inside a Tk widget `QWidget`,\n",
    "\n",
    "We have some importing to do. We first import `matplotlib` and set it to use the `TkAgg`. It's important to do this before any other matplotlib-related import.\n",
    "We then import from matplotlib a Tk-specialized canvas and navigation toolbar (the latter is optional, used for zomming and tilting)."
   ]
  },
  {
   "cell_type": "code",
   "execution_count": 1,
   "metadata": {},
   "outputs": [
    {
     "name": "stdout",
     "output_type": "stream",
     "text": [
      "Matplotlib version: 3.0.0\n"
     ]
    },
    {
     "name": "stderr",
     "output_type": "stream",
     "text": [
      "/Users/yoavram/miniconda3/envs/DataSciPy/lib/python3.6/site-packages/ipykernel/__main__.py:6: UserWarning: matplotlib.pyplot as already been imported, this call will have no effect.\n"
     ]
    }
   ],
   "source": [
    "%gui tk\n",
    "import tkinter\n",
    "import numpy as np\n",
    "\n",
    "import matplotlib as mpl\n",
    "mpl.use('TkAgg')\n",
    "print(\"Matplotlib version:\", mpl.__version__)\n",
    "import matplotlib.pyplot as plt\n",
    "\n",
    "from matplotlib.backends.backend_tkagg import FigureCanvasTkAgg as FigureCanvas"
   ]
  },
  {
   "cell_type": "code",
   "execution_count": 2,
   "metadata": {},
   "outputs": [],
   "source": [
    "class MainWindow:\n",
    "    def __init__(self):\n",
    "        self.master = master = tkinter.Tk()\n",
    "        self.master.title(\"Tk and Matplotlib\")\n",
    "        self.fig = mpl.figure.Figure(figsize=(6,4), dpi=100)\n",
    "        self.ax = self.fig.add_subplot(111)\n",
    "        self.canvas = FigureCanvas(self.fig, master=master)\n",
    "        self.canvas.get_tk_widget().pack()\n",
    "\n",
    "app = MainWindow()"
   ]
  },
  {
   "cell_type": "code",
   "execution_count": 3,
   "metadata": {},
   "outputs": [],
   "source": [
    "app.ax.plot(range(10))\n",
    "app.canvas.draw()"
   ]
  },
  {
   "cell_type": "markdown",
   "metadata": {},
   "source": [
    "Now we can plot to the window from the notebook. Most of this code is the same as we always do with matplottlib, only that:\n",
    "- we already have `fig` and `ax` objects, defined in the `__init__` above cell\n",
    "- when we are done plotting we need to call `window.canvas.draw()` to make it update the GUI.\n",
    "\n",
    "Here's a more complex plot:"
   ]
  },
  {
   "cell_type": "code",
   "execution_count": 4,
   "metadata": {},
   "outputs": [],
   "source": [
    "x = np.linspace(0, 2 * np.pi, 100)\n",
    "y1 = np.sin(x)\n",
    "y2 = np.cos(x)\n",
    "\n",
    "app.ax.plot(x, y1)\n",
    "app.ax.plot(x, y2)\n",
    "app.ax.set(\n",
    "    xlabel='x',\n",
    "    ylabel='y',\n",
    "    xlim=(x.min(), x.max()),\n",
    "    ylim=(y1.min(), y1.max()),\n",
    ")\n",
    "app.fig.tight_layout()\n",
    "app.canvas.draw()"
   ]
  },
  {
   "cell_type": "markdown",
   "metadata": {},
   "source": [
    "## Figure events\n",
    "\n",
    "We'd like to be able to act when the user initiates [events on the figure](http://matplotlib.org/users/event_handling.html). \n",
    "\n",
    "We'll start with a simple event: the user clicks on the plot and the app prints the event details to the console:"
   ]
  },
  {
   "cell_type": "code",
   "execution_count": 5,
   "metadata": {},
   "outputs": [],
   "source": [
    "def on_click(event):\n",
    "    print(event)"
   ]
  },
  {
   "cell_type": "markdown",
   "metadata": {},
   "source": [
    "This `onclick` expects a [`MouseEvent`](http://matplotlib.org/api/backend_bases_api.html#matplotlib.backend_bases.MouseEvent) instance that has several attributes:\n",
    "\n",
    "- `button` is the name of the button (1 for left click, 3 for right click)\n",
    "- `x`, `y` are the pixels coordinates\n",
    "- `xdata`, `ydata` are the data coordinates\n",
    "- `dblclick` if the click was a double click\n",
    "- `inaxes` the axes in which the click occured; use to change the plot\n",
    "- `canvas` the canvas in which the click occured; use to update the plot with `canvas.draw()`\n",
    "\n",
    "We connect this callback/event handler to the canvas object of the figure:"
   ]
  },
  {
   "cell_type": "code",
   "execution_count": 6,
   "metadata": {},
   "outputs": [
    {
     "name": "stdout",
     "output_type": "stream",
     "text": [
      "MPL MouseEvent: xy=(314,245) xydata=(2.8866782759331624,0.16262183402653507) button=1 dblclick=False inaxes=AxesSubplot(0.144421,0.145694;0.824745x0.803008)\n",
      "MPL MouseEvent: xy=(375,254) xydata=(3.6612088512828143,0.21865407020489447) button=1 dblclick=False inaxes=AxesSubplot(0.144421,0.145694;0.824745x0.803008)\n",
      "MPL MouseEvent: xy=(445,209) xydata=(4.550014429552906,-0.06150711068690318) button=1 dblclick=False inaxes=AxesSubplot(0.144421,0.145694;0.824745x0.803008)\n",
      "MPL MouseEvent: xy=(302,166) xydata=(2.734311605372575,-0.3292166835390655) button=3 dblclick=False inaxes=AxesSubplot(0.144421,0.145694;0.824745x0.803008)\n"
     ]
    }
   ],
   "source": [
    "cid = app.fig.canvas.mpl_connect('button_press_event', on_click)"
   ]
  },
  {
   "cell_type": "markdown",
   "metadata": {},
   "source": [
    "To disconnect the callback, you can call (you should do this before supplying a different callback):"
   ]
  },
  {
   "cell_type": "code",
   "execution_count": 7,
   "metadata": {},
   "outputs": [],
   "source": [
    "app.fig.canvas.mpl_disconnect(cid)"
   ]
  },
  {
   "cell_type": "markdown",
   "metadata": {},
   "source": [
    "## Example\n",
    "\n",
    "Let's do something more interesting: when the user double clicks the plot, we will add a black circle marker at that point:"
   ]
  },
  {
   "cell_type": "code",
   "execution_count": 8,
   "metadata": {},
   "outputs": [],
   "source": [
    "def on_click_marker(event):\n",
    "    if event.dblclick:\n",
    "        x, y = event.xdata, event.ydata\n",
    "        ax = event.inaxes\n",
    "        ax.plot(x, y, 'ko')\n",
    "        event.canvas.draw()"
   ]
  },
  {
   "cell_type": "code",
   "execution_count": 9,
   "metadata": {},
   "outputs": [],
   "source": [
    "cid = app.fig.canvas.mpl_connect('button_press_event', on_click_marker)"
   ]
  },
  {
   "cell_type": "code",
   "execution_count": 10,
   "metadata": {},
   "outputs": [],
   "source": [
    "app.fig.canvas.mpl_disconnect(cid)"
   ]
  },
  {
   "cell_type": "markdown",
   "metadata": {},
   "source": [
    "## Exercise\n",
    "\n",
    "We also want that when the user clicks the right button mouse on the plot, a straight line will be plotted from the origin to where the mouse is at."
   ]
  },
  {
   "cell_type": "code",
   "execution_count": 33,
   "metadata": {},
   "outputs": [],
   "source": [
    "def on_click_line(event):\n",
    "    pass"
   ]
  },
  {
   "cell_type": "code",
   "execution_count": 34,
   "metadata": {},
   "outputs": [],
   "source": [
    "cid = app.fig.canvas.mpl_connect('button_press_event', on_click_line)"
   ]
  },
  {
   "cell_type": "markdown",
   "metadata": {},
   "source": [
    "# Polygon"
   ]
  },
  {
   "cell_type": "code",
   "execution_count": 11,
   "metadata": {},
   "outputs": [],
   "source": [
    "class Polygonization:\n",
    "    def __init__(self):\n",
    "        self.master = master = tkinter.Tk()\n",
    "        master.title(\"Polygonization\")\n",
    "        self.frame = tkinter.Frame(master)\n",
    "        self.frame.pack(padx=15,pady=15)\n",
    "        \n",
    "        # mpl stuff\n",
    "        self.fig = mpl.figure.Figure(figsize=(6, 4), dpi=100)\n",
    "        self.ax = self.fig.add_subplot(111)\n",
    "        self.canvas = FigureCanvas(self.fig, master=self.frame)\n",
    "        self.canvas.get_tk_widget().pack()\n",
    "        \n",
    "        # callbacks\n",
    "        self.btn_prs_cid = self.fig.canvas.mpl_connect('button_press_event', self.mouse_handler)\n",
    "        self.btn_rls_cid = self.fig.canvas.mpl_connect('button_release_event', self.mouse_handler)\n",
    "        self.btn_mtn_cid = self.fig.canvas.mpl_connect('motion_notify_event', self.mouse_handler)\n",
    "        \n",
    "        # draw plot\n",
    "        x = np.linspace(0, 2 * np.pi, 100)\n",
    "        y = np.sin(x)\n",
    "        self.ax.plot(x, y)\n",
    "\n",
    "    \n",
    "    def mouse_handler(self, event):\n",
    "        if not event.dblclick and event.button == 1 and event.inaxes:\n",
    "            ax = event.inaxes\n",
    "            if event.name == 'button_press_event':\n",
    "                self.path = ax.plot([], [], 'k-')[0]\n",
    "            xdata, ydata = self.path.get_data()\n",
    "            x, y = event.xdata, event.ydata            \n",
    "            xdata = np.append(xdata, x)\n",
    "            ydata = np.append(ydata, y)\n",
    "            if event.name == 'button_release_event':\n",
    "                xdata = np.append(xdata, xdata[0])\n",
    "                ydata = np.append(ydata, ydata[0])\n",
    "            self.path.set_data(xdata, ydata)\n",
    "            if event.name == 'button_release_event':                \n",
    "                data = np.array(self.path.get_data())\n",
    "                self.poly = plt.Polygon(data.T, alpha=0.3)   \n",
    "                if self.poly.contains_point((0,0)):\n",
    "                    self.poly.set_color('r')\n",
    "                ax.add_artist(self.poly)\n",
    "            self.canvas.draw()\n",
    "\n",
    "app = Polygonization()"
   ]
  },
  {
   "cell_type": "code",
   "execution_count": 12,
   "metadata": {},
   "outputs": [
    {
     "data": {
      "text/plain": [
       "(array([2.18290019, 2.18290019, 2.19776363, 2.21262708, 2.28694433,\n",
       "        2.43557882, 2.61394021, 2.7031209 , 2.77743815, 2.7923016 ,\n",
       "        2.80716505, 2.8517554 , 3.22334162, 3.50574716, 3.77328924,\n",
       "        3.95165063, 3.99624098, 4.01110443, 4.02596788, 4.27864651,\n",
       "        4.70968654, 5.03668242, 5.22990725, 5.31908795, 5.34881485,\n",
       "        5.34881485, 5.3636783 , 5.39340519, 5.43799554, 5.45285899,\n",
       "        5.46772244, 5.46772244, 5.40826864, 5.3042245 , 5.00695552,\n",
       "        4.69482309, 4.23405616, 3.89219683, 3.5800644 , 3.29765887,\n",
       "        3.03011679, 2.7625747 , 2.52475952, 2.33153468, 2.21262708,\n",
       "        1.98967535, 1.75186016, 1.49918153, 1.36541048, 1.26136634,\n",
       "        1.17218565, 1.14245875, 1.14245875, 1.20191254, 1.30595669,\n",
       "        1.48431808, 1.76672361, 1.76672361, 2.18290019]),\n",
       " array([ 0.36419256,  0.35690871,  0.35690871,  0.37147641,  0.38604412,\n",
       "         0.42974722,  0.48073418,  0.50258574,  0.51715344,  0.51715344,\n",
       "         0.51715344,  0.52443729,  0.5827081 ,  0.62641121,  0.67011432,\n",
       "         0.69924972,  0.69924972,  0.69924972,  0.68468202,  0.54628884,\n",
       "         0.32048946,  0.14567703,  0.04370311, -0.00728385, -0.02185155,\n",
       "        -0.02913541, -0.05098696, -0.08740622, -0.13110932, -0.14567703,\n",
       "        -0.17481243, -0.23308324, -0.32777331, -0.40789567, -0.53900499,\n",
       "        -0.62641121, -0.71381742, -0.73566898, -0.75023668, -0.77208823,\n",
       "        -0.78665594, -0.80122364, -0.80850749, -0.81579134, -0.81579134,\n",
       "        -0.80850749, -0.75023668, -0.65554661, -0.5827081 , -0.50986959,\n",
       "        -0.41517952, -0.35690871, -0.29135405, -0.23308324, -0.14567703,\n",
       "        -0.00728385,  0.16752858,  0.16752858,  0.36419256]))"
      ]
     },
     "execution_count": 12,
     "metadata": {},
     "output_type": "execute_result"
    }
   ],
   "source": [
    "app.path.get_data()"
   ]
  },
  {
   "cell_type": "markdown",
   "metadata": {},
   "source": [
    "# References\n",
    "\n",
    "-  [TkDocs](http://www.tkdocs.com/)\n",
    "- [Tkinter 8.5 reference](http://infohost.nmt.edu/tcc/help/pubs/tkinter/web/index.html)\n",
    "- [Learning IPython for Interactive Computing and Data Visualization](http://ipython-books.github.io/minibook/) by Cyrille Rossant, pg. 85 (Qt example, but a good tutorial).\n",
    "- [Pygubu](https://github.com/alejandroautalan/pygubu) - Tkinter designer\n",
    "- [Embedding Matplotlib plots in Tk applications](http://matplotlib.org/examples/user_interfaces/embedding_in_tk.html)\n",
    "- [Matplotlib: event handling and picking](http://matplotlib.org/users/event_handling.html)\n",
    "- Jake Vanderplas's [Minesweeper in Matplotlib](https://jakevdp.github.io/blog/2012/12/06/minesweeper-in-matplotlib/), [Quaternions and Key Bindings: Simple 3D Visualization in Matplotlib](http://jakevdp.github.io/blog/2012/11/24/simple-3d-visualization-in-matplotlib/) and [3D Interactive Rubik's Cube in Python](http://jakevdp.github.io/blog/2012/11/26/3d-interactive-rubiks-cube-in-python/) are amazing examples of what can be done with Matplotlib beyond simple plots and using a GUI."
   ]
  },
  {
   "cell_type": "markdown",
   "metadata": {},
   "source": [
    "## Colophon\n",
    "This notebook was written by [Yoav Ram](http://python.yoavram.com) and is part of the [_Python for Engineers_](https://github.com/yoavram/Py4Eng) course.\n",
    "\n",
    "The notebook was written using [Python](http://python.org/) 3.6.1.\n",
    "Dependencies listed in [environment.yml](../environment.yml), full versions in [environment_full.yml](../environment_full.yml).\n",
    "\n",
    "This work is licensed under a CC BY-NC-SA 4.0 International License.\n",
    "\n",
    "![Python logo](https://www.python.org/static/community_logos/python-logo.png)"
   ]
  }
 ],
 "metadata": {
  "kernelspec": {
   "display_name": "Python [conda env:DataSciPy]",
   "language": "python",
   "name": "conda-env-DataSciPy-py"
  },
  "language_info": {
   "codemirror_mode": {
    "name": "ipython",
    "version": 3
   },
   "file_extension": ".py",
   "mimetype": "text/x-python",
   "name": "python",
   "nbconvert_exporter": "python",
   "pygments_lexer": "ipython3",
   "version": "3.6.6"
  }
 },
 "nbformat": 4,
 "nbformat_minor": 2
}
