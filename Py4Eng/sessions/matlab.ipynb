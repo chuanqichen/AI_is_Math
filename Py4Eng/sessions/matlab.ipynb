{
 "cells": [
  {
   "cell_type": "markdown",
   "metadata": {},
   "source": [
    "![Py4Eng](img/logo.png)\n",
    "\n",
    "# Python-Matlab interface\n",
    "## Yoav Ram"
   ]
  },
  {
   "cell_type": "markdown",
   "metadata": {},
   "source": [
    "In this session we will call MATLAB (or Octave) functions and code from Python.\n",
    "\n",
    "# Setup\n",
    "\n",
    "Make sure you have MATLAB installed (on Linux or Mac you can try calling `which matlab` in the terminal). \n",
    "\n",
    "If you don't have MATLAB you can either install it or install _Octave_ for free (see bottom of session for instructions on installing and using Octave in this session).\n",
    "\n",
    "To talk to MATLAB from Python we will use the [`pymatbridge`](https://arokem.github.io/python-matlab-bridge/) package.\n",
    "\n",
    "Install `pymatbridge` and dependencies:\n",
    "\n",
    "```\n",
    "conda install pyzmq numpy\n",
    "pip install pymatbridge\n",
    "```\n",
    "\n",
    "on Mac you might also need to `brew install zeromq`.\n",
    "\n",
    "Let's make sure everything works by importing the bridge and having it start off a MATLAB server:"
   ]
  },
  {
   "cell_type": "code",
   "execution_count": 4,
   "metadata": {
    "collapsed": true
   },
   "outputs": [],
   "source": [
    "import numpy as np\n",
    "from pymatbridge import Octave, Matlab"
   ]
  },
  {
   "cell_type": "code",
   "execution_count": 64,
   "metadata": {
    "collapsed": true
   },
   "outputs": [],
   "source": [
    "# change between Matlab and Octave acording to what you use.\n",
    "# you can also provide path to matlab/octave binary as an argument\n",
    "mat = Octave()"
   ]
  },
  {
   "cell_type": "markdown",
   "metadata": {},
   "source": [
    "If the following fails then you probably had issues installing MATLAB/Octave or `pymatbridge`. Consult the above for MATLAB, the bottom of the session for Octave, or [pymatbridge issues](https://github.com/arokem/python-matlab-bridge/issues) for help."
   ]
  },
  {
   "cell_type": "code",
   "execution_count": 65,
   "metadata": {
    "collapsed": false
   },
   "outputs": [
    {
     "name": "stdout",
     "output_type": "stream",
     "text": [
      "Starting Octave on ZMQ socket ipc:///tmp/pymatbridge-42d7e807-42bb-41d4-b6d0-9cb0e7053ddc\n",
      "Send 'exit' command to kill the server\n",
      ".Octave started and connected!\n"
     ]
    },
    {
     "data": {
      "text/plain": [
       "<pymatbridge.pymatbridge.Octave at 0x10a7f5ba8>"
      ]
     },
     "execution_count": 65,
     "metadata": {},
     "output_type": "execute_result"
    }
   ],
   "source": [
    "mat.start()"
   ]
  },
  {
   "cell_type": "markdown",
   "metadata": {},
   "source": [
    "# Hello MATLAB"
   ]
  },
  {
   "cell_type": "markdown",
   "metadata": {},
   "source": [
    "Let's run some simple MATLAB code to make sure it works. We'll create a variable called `a` and set it to `1`."
   ]
  },
  {
   "cell_type": "code",
   "execution_count": 76,
   "metadata": {
    "collapsed": false
   },
   "outputs": [
    {
     "name": "stdout",
     "output_type": "stream",
     "text": [
      "success: True\n"
     ]
    }
   ],
   "source": [
    "result = mat.run_code('a=1;')\n",
    "print('success:', result['success'])"
   ]
  },
  {
   "cell_type": "markdown",
   "metadata": {},
   "source": [
    "The `result` variable contains the answer from the MATLAB server, which contains both the `success` of the operation, the `stdout` which is useful if it failed or if we expected console output, and some more information."
   ]
  },
  {
   "cell_type": "code",
   "execution_count": 77,
   "metadata": {
    "collapsed": false
   },
   "outputs": [
    {
     "data": {
      "text/plain": [
       "{'content': {'datadir': '/var/folders/qn/3hj7mcx56k19b_09n6dymw8h0000gn/T/MatlabData/',\n",
       "  'figures': [],\n",
       "  'stdout': ''},\n",
       " 'result': [],\n",
       " 'stack': [],\n",
       " 'success': True}"
      ]
     },
     "execution_count": 77,
     "metadata": {},
     "output_type": "execute_result"
    }
   ],
   "source": [
    "result"
   ]
  },
  {
   "cell_type": "markdown",
   "metadata": {},
   "source": [
    "Now let's get the variable value:"
   ]
  },
  {
   "cell_type": "code",
   "execution_count": 78,
   "metadata": {
    "collapsed": false
   },
   "outputs": [
    {
     "name": "stdout",
     "output_type": "stream",
     "text": [
      "1 <class 'int'>\n"
     ]
    }
   ],
   "source": [
    "a = mat.get_variable('a')\n",
    "print(a, type(a))"
   ]
  },
  {
   "cell_type": "markdown",
   "metadata": {},
   "source": [
    "Note that the value was automarically converted for us to `int`. This would happen even if we were to explicitly set it to a `float` because of how numbers are interpreted differently in MATLAB and Python."
   ]
  },
  {
   "cell_type": "code",
   "execution_count": 81,
   "metadata": {
    "collapsed": false
   },
   "outputs": [
    {
     "data": {
      "text/plain": [
       "int"
      ]
     },
     "execution_count": 81,
     "metadata": {},
     "output_type": "execute_result"
    }
   ],
   "source": [
    "a = mat.set_variable('b', 1.0)\n",
    "type(mat.get_variable('b'))"
   ]
  },
  {
   "cell_type": "markdown",
   "metadata": {},
   "source": [
    "We can now use MATLAB operations and functions to process Python data - including NumPy arrays:"
   ]
  },
  {
   "cell_type": "code",
   "execution_count": 89,
   "metadata": {
    "collapsed": false
   },
   "outputs": [
    {
     "data": {
      "text/plain": [
       "array([[  0.,   2.,   4.],\n",
       "       [ 20.,  22.,  24.],\n",
       "       [ 40.,  42.,  44.]])"
      ]
     },
     "execution_count": 89,
     "metadata": {},
     "output_type": "execute_result"
    }
   ],
   "source": [
    "x = np.arange(100).reshape(10, 10)\n",
    "mat.set_variable('x', x)\n",
    "mat.run_code('y=x*2;')\n",
    "y = mat.get_variable('y')\n",
    "y[:3, :3]"
   ]
  },
  {
   "cell_type": "markdown",
   "metadata": {},
   "source": [
    "## Exercise\n",
    "\n",
    "Use MATLAB to calculate the [LU factorization](https://www.mathworks.com/help/matlab/ref/lu.html) of the following matrix `A`. Then use `np.allclose` to verify the result."
   ]
  },
  {
   "cell_type": "code",
   "execution_count": 91,
   "metadata": {
    "collapsed": false
   },
   "outputs": [
    {
     "data": {
      "text/plain": [
       "array([[ 0.08419732,  0.71108106,  0.90856964,  0.09412131,  0.47851473],\n",
       "       [ 0.0816439 ,  0.07997498,  0.53516609,  0.30457407,  0.68684703],\n",
       "       [ 0.97971642,  0.0523722 ,  0.32030873,  0.54089573,  0.64442956],\n",
       "       [ 0.89741285,  0.76780268,  0.48746324,  0.11426007,  0.97184533],\n",
       "       [ 0.58274074,  0.21716351,  0.06096504,  0.4888153 ,  0.07294107]])"
      ]
     },
     "execution_count": 91,
     "metadata": {},
     "output_type": "execute_result"
    }
   ],
   "source": [
    "A = np.random.random((5, 5))\n",
    "A"
   ]
  },
  {
   "cell_type": "code",
   "execution_count": 93,
   "metadata": {
    "collapsed": false
   },
   "outputs": [
    {
     "data": {
      "text/plain": [
       "True"
      ]
     },
     "execution_count": 93,
     "metadata": {},
     "output_type": "execute_result"
    }
   ],
   "source": []
  },
  {
   "cell_type": "markdown",
   "metadata": {},
   "source": [
    "# Calling MATLAB user defined functions\n",
    "\n",
    "Here's a simple MATLAB function that calculates the first `n` Fibonacci numbers."
   ]
  },
  {
   "cell_type": "markdown",
   "metadata": {},
   "source": [
    "## Fibonacci"
   ]
  },
  {
   "cell_type": "code",
   "execution_count": 82,
   "metadata": {
    "collapsed": false
   },
   "outputs": [
    {
     "name": "stdout",
     "output_type": "stream",
     "text": [
      "Overwriting fib.m\n"
     ]
    }
   ],
   "source": [
    "%%file fib.m\n",
    "function f = fibonacci(args)\n",
    "    n = args.n;\n",
    "    f = zeros(n, 1);\n",
    "    f(1) = 1;\n",
    "    f(2) = 1;\n",
    "    for k = 3:n\n",
    "        f(k) = f(k-1) + f(k-2);\n",
    "    end\n",
    "end"
   ]
  },
  {
   "cell_type": "markdown",
   "metadata": {},
   "source": [
    "We can wrap it with a Python function:"
   ]
  },
  {
   "cell_type": "code",
   "execution_count": 87,
   "metadata": {
    "collapsed": false
   },
   "outputs": [
    {
     "name": "stdout",
     "output_type": "stream",
     "text": [
      "[ 1.  1.  2.  3.  5.]\n"
     ]
    },
    {
     "data": {
      "text/plain": [
       "dtype('float64')"
      ]
     },
     "execution_count": 87,
     "metadata": {},
     "output_type": "execute_result"
    }
   ],
   "source": [
    "def matfib(n):\n",
    "    result = mat.run_func('fib.m', dict(n=n))\n",
    "    assert result['success']\n",
    "    return result['result'].squeeze() # MATLAB returns 2D\n",
    "x = matfib(5)\n",
    "print(x)\n",
    "x.dtype"
   ]
  },
  {
   "cell_type": "markdown",
   "metadata": {},
   "source": [
    "Note that the return value was automatically converted to NumPy array with data type `float64` and not a to a Python list of integers.\n",
    "\n",
    "Let's compete the MATLAB version with a NumPy version:"
   ]
  },
  {
   "cell_type": "code",
   "execution_count": 84,
   "metadata": {
    "collapsed": false
   },
   "outputs": [
    {
     "data": {
      "text/plain": [
       "array([ 1.,  1.,  2.,  3.,  5.])"
      ]
     },
     "execution_count": 84,
     "metadata": {},
     "output_type": "execute_result"
    }
   ],
   "source": [
    "def fib(n):\n",
    "    f = np.zeros(n)\n",
    "    f[0] = 1\n",
    "    f[1] = 1\n",
    "    for k in range(2, n):\n",
    "        f[k] = f[k-1] + f[k-2]\n",
    "    return f\n",
    "fib(5)"
   ]
  },
  {
   "cell_type": "code",
   "execution_count": 52,
   "metadata": {
    "collapsed": false
   },
   "outputs": [
    {
     "name": "stdout",
     "output_type": "stream",
     "text": [
      "100000 loops, best of 3: 16.9 µs per loop\n",
      "10 loops, best of 3: 135 ms per loop\n"
     ]
    }
   ],
   "source": [
    "%timeit fib(50)\n",
    "%timeit matfib(50)"
   ]
  },
  {
   "cell_type": "markdown",
   "metadata": {},
   "source": [
    "The NumPy version is faster, probably because there is no inter-process communication and data conversions involved."
   ]
  },
  {
   "cell_type": "markdown",
   "metadata": {},
   "source": [
    "## Exercise 2\n",
    "\n",
    "Write a MATLAB function that given an input 1D array returns the cumulative sum of the array. For example, for `[1, 2, 3]` it should return `[1, 3, 6]`. Then wrap it with a Python function. Make sure the result satisfies the assertion below."
   ]
  },
  {
   "cell_type": "code",
   "execution_count": null,
   "metadata": {
    "collapsed": false
   },
   "outputs": [],
   "source": []
  },
  {
   "cell_type": "code",
   "execution_count": null,
   "metadata": {
    "collapsed": false
   },
   "outputs": [],
   "source": []
  },
  {
   "cell_type": "code",
   "execution_count": 108,
   "metadata": {
    "collapsed": true
   },
   "outputs": [],
   "source": [
    "x = [1, 2, 3, 4, 5, 6, 7, 8, 9, 10]\n",
    "assert np.allclose(\n",
    "    cumsum(x), \n",
    "    np.array([  1.,   3.,   6.,  10.,  15.,  21.,  28.,  36.,  45.,  55.])\n",
    ")"
   ]
  },
  {
   "cell_type": "markdown",
   "metadata": {},
   "source": [
    "# Notebook magic\n",
    "\n",
    "`pymatbridge` has a convinient notebook magic that allows us to run MATLAB code from the notebook without the overhead that we had above."
   ]
  },
  {
   "cell_type": "code",
   "execution_count": 1,
   "metadata": {
    "collapsed": false
   },
   "outputs": [
    {
     "name": "stdout",
     "output_type": "stream",
     "text": [
      "Starting Octave on ZMQ socket ipc:///tmp/pymatbridge-0d2ac3da-e1e4-4ced-a958-d1fe325a1ea0\n",
      "Send 'exit' command to kill the server\n",
      ".Octave started and connected!\n"
     ]
    }
   ],
   "source": [
    "# MATLAB\n",
    "# %load_ext pymatbridge\n",
    "\n",
    "# Octave\n",
    "ip = get_ipython()\n",
    "import pymatbridge\n",
    "pymatbridge.load_ipython_extension(ip, matlab='octave')"
   ]
  },
  {
   "cell_type": "markdown",
   "metadata": {},
   "source": [
    "Check out the `%%matlab` magic help: we can pass input and output between Python and MATLAB, and control other options."
   ]
  },
  {
   "cell_type": "code",
   "execution_count": 2,
   "metadata": {
    "collapsed": false
   },
   "outputs": [],
   "source": [
    "%%matlab?"
   ]
  },
  {
   "cell_type": "code",
   "execution_count": 6,
   "metadata": {
    "collapsed": false
   },
   "outputs": [
    {
     "name": "stdout",
     "output_type": "stream",
     "text": [
      "[[ 0.82974011  0.734994  ]\n",
      " [ 0.08323233  0.11977421]]\n"
     ]
    }
   ],
   "source": [
    "A = np.random.random((2, 2))\n",
    "print(A)"
   ]
  },
  {
   "cell_type": "code",
   "execution_count": 7,
   "metadata": {
    "collapsed": false
   },
   "outputs": [],
   "source": [
    "%%matlab -i A -o B\n",
    "B = A.*2;"
   ]
  },
  {
   "cell_type": "code",
   "execution_count": 8,
   "metadata": {
    "collapsed": false
   },
   "outputs": [
    {
     "name": "stdout",
     "output_type": "stream",
     "text": [
      "[[ 1.65948022  1.46998799]\n",
      " [ 0.16646467  0.23954842]]\n"
     ]
    }
   ],
   "source": [
    "print(B)"
   ]
  },
  {
   "cell_type": "markdown",
   "metadata": {},
   "source": [
    "We can write MATLAB functions using the magic mand evaluate them using additional magic."
   ]
  },
  {
   "cell_type": "code",
   "execution_count": 9,
   "metadata": {
    "collapsed": true
   },
   "outputs": [],
   "source": [
    "%%matlab\n",
    "function [ result ] = fibonacci(n)\n",
    "    if n==0||n==1\n",
    "        result = n;\n",
    "    else\n",
    "        result = fibonacci(n-2) + fibonacci(n-1);\n",
    "    end\n",
    "end"
   ]
  },
  {
   "cell_type": "code",
   "execution_count": 10,
   "metadata": {
    "collapsed": false
   },
   "outputs": [],
   "source": [
    "%%matlab -o f\n",
    "f = fibonacci(10);"
   ]
  },
  {
   "cell_type": "code",
   "execution_count": 11,
   "metadata": {
    "collapsed": false
   },
   "outputs": [
    {
     "data": {
      "text/plain": [
       "55"
      ]
     },
     "execution_count": 11,
     "metadata": {},
     "output_type": "execute_result"
    }
   ],
   "source": [
    "f"
   ]
  },
  {
   "cell_type": "markdown",
   "metadata": {},
   "source": [
    "## Exercise 3\n",
    "\n",
    "Plot x vs. y with MATLAB - you need to use `-g` in the magic command call. Don't be lazy: add axis labels!"
   ]
  },
  {
   "cell_type": "code",
   "execution_count": 27,
   "metadata": {
    "collapsed": true
   },
   "outputs": [],
   "source": [
    "from scipy.special import erf\n",
    "x = np.linspace(0, np.pi)\n",
    "y = erf(x)"
   ]
  },
  {
   "cell_type": "code",
   "execution_count": 26,
   "metadata": {
    "collapsed": false
   },
   "outputs": [
    {
     "data": {
      "image/png": "[encoded data removed]"
     },
     "metadata": {},
     "output_type": "display_data"
    }
   ],
   "source": []
  },
  {
   "cell_type": "markdown",
   "metadata": {
    "collapsed": true
   },
   "source": [
    "# Using Octave\n",
    "\n",
    "To setup minimal (no GUI) Octave on Mac, install _XCode_ from _App Store_, then install [Homebrew](https://brew.sh/) and use it to install Octave (see [formula](https://github.com/Homebrew/homebrew-science/blob/master/octave.rb):\n",
    "```\n",
    "brew tap homebrew/science\n",
    "brew update\n",
    "brew install zeromq\n",
    "brew install octave --without-gui --with-java\n",
    "```\n",
    "\n",
    "Clone [pymatbridge](https://github.com/arokem/python-matlab-bridge) repo, `cd python-matlab-bridge/pymatbridge/messenger`, edit the file `mexmaci64/local.cfg` to have these lines (replacing `USERNAME` with your username):\n",
    "\n",
    "```\n",
    "ZMQ_INC=/Users/USERNAME/homebrew/include\n",
    "ZMQ_LIB=/Users/USERNAME/homebrew/lib\n",
    "```\n",
    "\n",
    "then run `python make.py octave`. If it worked, cd back to the repo folder (`cd ../..`) and run `python setup.py install`.\n",
    "\n",
    "The replace in the above Python code `Matlab` with `Octave`."
   ]
  },
  {
   "cell_type": "markdown",
   "metadata": {},
   "source": [
    "# Solutions\n",
    "\n",
    "## Exercise 1"
   ]
  },
  {
   "cell_type": "code",
   "execution_count": 94,
   "metadata": {
    "collapsed": false
   },
   "outputs": [
    {
     "data": {
      "text/plain": [
       "True"
      ]
     },
     "execution_count": 94,
     "metadata": {},
     "output_type": "execute_result"
    }
   ],
   "source": [
    "mat.set_variable('A', A)\n",
    "mat.run_code('[L, U] = lu(A);')\n",
    "L = mat.get_variable('L')\n",
    "U = mat.get_variable('U')\n",
    "np.allclose(L @ U , A)"
   ]
  },
  {
   "cell_type": "markdown",
   "metadata": {},
   "source": [
    "## Exercise 2"
   ]
  },
  {
   "cell_type": "code",
   "execution_count": null,
   "metadata": {
    "collapsed": true
   },
   "outputs": [],
   "source": [
    "%%file cumsum.m\n",
    "function output = cumsum(args)\n",
    "    input = args.input;\n",
    "    output = zeros(size(input));\n",
    "    output(1) = input(1);\n",
    "    for k = 2:size(input, 2)\n",
    "        output(k) = output(k-1) + input(k);\n",
    "    end\n",
    "end"
   ]
  },
  {
   "cell_type": "code",
   "execution_count": null,
   "metadata": {
    "collapsed": true
   },
   "outputs": [],
   "source": [
    "def cumsum(x):\n",
    "    result = mat.run_func('cumsum.m', dict(input=x))\n",
    "    assert result['success']\n",
    "    return result['result'].squeeze() # MATLAB returns 2D"
   ]
  },
  {
   "cell_type": "markdown",
   "metadata": {},
   "source": [
    "## Exercise 3"
   ]
  },
  {
   "cell_type": "code",
   "execution_count": null,
   "metadata": {
    "collapsed": true
   },
   "outputs": [],
   "source": [
    "%%matlab -g -i x -i y\n",
    "plot(x, y)\n",
    "xlabel('x')\n",
    "ylabel('y')"
   ]
  },
  {
   "cell_type": "markdown",
   "metadata": {},
   "source": [
    "## Colophon\n",
    "This notebook was written by [Yoav Ram](http://python.yoavram.com) and is part of the [_Python for Engineers_](https://github.com/yoavram/Py4Eng) course.\n",
    "\n",
    "The notebook was written using [Python](http://python.org/) 3.6.1.\n",
    "Dependencies listed in [environment.yml](../environment.yml), full versions in [environment_full.yml](../environment_full.yml).\n",
    "\n",
    "This work is licensed under a CC BY-NC-SA 4.0 International License.\n",
    "\n",
    "![Python logo](https://www.python.org/static/community_logos/python-logo.png)"
   ]
  }
 ],
 "metadata": {
  "kernelspec": {
   "display_name": "Python [default]",
   "language": "python",
   "name": "python3"
  },
  "language_info": {
   "codemirror_mode": {
    "name": "ipython",
    "version": 3
   },
   "file_extension": ".py",
   "mimetype": "text/x-python",
   "name": "python",
   "nbconvert_exporter": "python",
   "pygments_lexer": "ipython3",
   "version": "3.6.2"
  }
 },
 "nbformat": 4,
 "nbformat_minor": 2
}
