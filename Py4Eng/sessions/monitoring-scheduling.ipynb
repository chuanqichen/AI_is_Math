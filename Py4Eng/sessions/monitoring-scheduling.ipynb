{
 "cells": [
  {
   "cell_type": "markdown",
   "metadata": {},
   "source": [
    "![Py4Eng](img/logo.png)\n",
    "\n",
    "# Monitoring and scheduling\n",
    "## Yoav Ram"
   ]
  },
  {
   "cell_type": "markdown",
   "metadata": {},
   "source": [
    "# Monitoring file system events\n",
    "\n",
    "We will use the [Watchdog](https://pythonhosted.org/watchdog) package.\n",
    "```\n",
    "conda install watchdog\n",
    "```\n",
    "We will write an event handler for filesystem events, and give it to an observer that will use the event handler to handle events on a specific path, the `img` folder.\n",
    "\n",
    "Our event handler will be very simple, it will just print the filename related to each event."
   ]
  },
  {
   "cell_type": "code",
   "execution_count": 1,
   "metadata": {
    "collapsed": false
   },
   "outputs": [
    {
     "name": "stderr",
     "output_type": "stream",
     "text": [
      "/Users/yoavram/miniconda3/envs/DataSciPy/lib/python3.6/site-packages/watchdog/observers/__init__.py:74: UserWarning: Failed to import fsevents. Fall back to kqueue\n",
      "  warnings.warn(\"Failed to import fsevents. Fall back to kqueue\")\n"
     ]
    }
   ],
   "source": [
    "from watchdog.observers import Observer\n",
    "import watchdog.events"
   ]
  },
  {
   "cell_type": "code",
   "execution_count": 2,
   "metadata": {
    "collapsed": true
   },
   "outputs": [],
   "source": [
    "class MyEventHandler(watchdog.events.FileSystemEventHandler):\n",
    "    def on_any_event(self, event):\n",
    "        fname = event.src_path\n",
    "        print(\"Something happened to\", fname)"
   ]
  },
  {
   "cell_type": "code",
   "execution_count": 3,
   "metadata": {
    "collapsed": true
   },
   "outputs": [],
   "source": [
    "path = './img'\n",
    "event_handler = MyEventHandler()\n",
    "observer = Observer()\n",
    "observer.schedule(event_handler, path, recursive=True)\n",
    "observer.start()"
   ]
  },
  {
   "cell_type": "markdown",
   "metadata": {},
   "source": [
    "When we started the observer, it created a new thread for it to run in.\n",
    "\n",
    "Here we use Jupyter magic to write to a file in that observed path."
   ]
  },
  {
   "cell_type": "code",
   "execution_count": 4,
   "metadata": {},
   "outputs": [
    {
     "name": "stdout",
     "output_type": "stream",
     "text": [
      "Overwriting img/tmp\n",
      "Something happened to /Users/yoavram/Work/Teaching/Py4Eng/sessions/img/tmp\n",
      "Something happened to /Users/yoavram/Work/Teaching/Py4Eng/sessions/img/tmp\n",
      "Something happened to /Users/yoavram/Work/Teaching/Py4Eng/sessions/img/tmp\n"
     ]
    }
   ],
   "source": [
    "%%file img/tmp\n",
    "this is a tmp file"
   ]
  },
  {
   "cell_type": "markdown",
   "metadata": {},
   "source": [
    "Finally we can stop the observer and wait for its thread to join (merge) to the main thread."
   ]
  },
  {
   "cell_type": "code",
   "execution_count": 5,
   "metadata": {
    "collapsed": false
   },
   "outputs": [],
   "source": [
    "observer.stop()\n",
    "observer.join()"
   ]
  },
  {
   "cell_type": "markdown",
   "metadata": {},
   "source": [
    "# Scheduling jobs\n",
    "\n",
    "We will use the [Advanced Python Scheduler](https://apscheduler.readthedocs.org/).\n",
    "```\n",
    "conda install apscheduler\n",
    "```\n",
    "We create a background scheduler (which runs in the background) and start it (in its own thread)."
   ]
  },
  {
   "cell_type": "code",
   "execution_count": 6,
   "metadata": {
    "collapsed": true
   },
   "outputs": [],
   "source": [
    "from apscheduler.schedulers.background import BackgroundScheduler\n",
    "from datetime import datetime"
   ]
  },
  {
   "cell_type": "code",
   "execution_count": 7,
   "metadata": {
    "collapsed": false
   },
   "outputs": [],
   "source": [
    "scheduler = BackgroundScheduler()\n",
    "scheduler.start()"
   ]
  },
  {
   "cell_type": "markdown",
   "metadata": {},
   "source": [
    "Now we right a function that performs some specific job, and add it to the scheduler."
   ]
  },
  {
   "cell_type": "code",
   "execution_count": 8,
   "metadata": {
    "collapsed": false
   },
   "outputs": [
    {
     "name": "stdout",
     "output_type": "stream",
     "text": [
      "Fri May 17 12:42:32 2019: Hello scheduler!\n"
     ]
    }
   ],
   "source": [
    "def job():\n",
    "    print('{time}: Hello scheduler!'.format(time=datetime.now().ctime()))\n",
    "scheduler.add_job(job);"
   ]
  },
  {
   "cell_type": "markdown",
   "metadata": {},
   "source": [
    "Now we add another job, but this time we ask that it will run in half a minute, rather then now."
   ]
  },
  {
   "cell_type": "code",
   "execution_count": 9,
   "metadata": {
    "collapsed": false
   },
   "outputs": [
    {
     "name": "stdout",
     "output_type": "stream",
     "text": [
      "Fri May 17 12:42:34 2019\n",
      "Fri May 17 12:43:04 2019: Hello scheduler!\n"
     ]
    }
   ],
   "source": [
    "scheduler.add_job(job, trigger='interval', minutes=0.5)\n",
    "print(datetime.now().ctime())"
   ]
  },
  {
   "cell_type": "markdown",
   "metadata": {},
   "source": [
    "Finally we can shutdown the scheduler."
   ]
  },
  {
   "cell_type": "code",
   "execution_count": 10,
   "metadata": {
    "collapsed": false
   },
   "outputs": [],
   "source": [
    "scheduler.shutdown()"
   ]
  },
  {
   "cell_type": "markdown",
   "metadata": {},
   "source": [
    "See [more examples](https://apscheduler.readthedocs.io/en/latest/userguide.html#code-examples)."
   ]
  },
  {
   "cell_type": "markdown",
   "metadata": {},
   "source": [
    "## Colophon\n",
    "This notebook was written by [Yoav Ram](http://python.yoavram.com) and is part of the [_Python for Engineers_](https://github.com/yoavram/Py4Eng) course.\n",
    "\n",
    "The notebook was written using [Python](http://python.org/) 3.7.\n",
    "Dependencies listed in [environment.yml](../environment.yml), full versions in [environment_full.yml](../environment_full.yml).\n",
    "\n",
    "This work is licensed under a CC BY-NC-SA 4.0 International License.\n",
    "\n",
    "![Python logo](https://www.python.org/static/community_logos/python-logo.png)"
   ]
  }
 ],
 "metadata": {
  "kernelspec": {
   "display_name": "Python [conda env:DataSciPy]",
   "language": "python",
   "name": "conda-env-DataSciPy-py"
  },
  "language_info": {
   "codemirror_mode": {
    "name": "ipython",
    "version": 3
   },
   "file_extension": ".py",
   "mimetype": "text/x-python",
   "name": "python",
   "nbconvert_exporter": "python",
   "pygments_lexer": "ipython3",
   "version": "3.6.6"
  }
 },
 "nbformat": 4,
 "nbformat_minor": 2
}
