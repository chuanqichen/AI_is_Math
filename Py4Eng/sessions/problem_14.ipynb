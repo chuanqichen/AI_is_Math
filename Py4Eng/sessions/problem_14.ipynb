{
 "cells": [
  {
   "cell_type": "markdown",
   "metadata": {},
   "source": [
    "![Py4Eng](img/logo.png)\n",
    "\n",
    "# [Problem 14](https://projecteuler.net/problem=14)\n",
    "## Yoav Ram"
   ]
  },
  {
   "cell_type": "markdown",
   "metadata": {},
   "source": [
    "We will review two participants solutions to a similar problem and then show an instructor solution.\n",
    "\n",
    "## The problem\n",
    "\n",
    "This is the [Longest Collatz sequence](https://projecteuler.net/problem=14) problem from the [Euler project](https://projecteuler.net/). \n",
    "\n",
    "The following iterative sequence is defined for the set of positive integers:\n",
    "\n",
    "- n → n/2 (n is even)\n",
    "- n → 3n + 1 (n is odd)\n",
    "\n",
    "Using the rule above and starting with 13, we generate the following sequence:\n",
    "\n",
    "13 → 40 → 20 → 10 → 5 → 16 → 8 → 4 → 2 → 1\n",
    "\n",
    "It can be seen that this sequence (starting at 13 and finishing at 1) contains 10 terms. Although it has not been proved yet (Collatz Problem), it is thought that all starting numbers finish at 1.\n",
    "\n",
    "Which starting number, under one million, produces the longest chain?\n",
    "\n",
    "NOTE: Once the chain starts the terms are allowed to go above one million."
   ]
  },
  {
   "cell_type": "markdown",
   "metadata": {},
   "source": [
    "## Participant solution #1\n",
    "\n",
    "This is the naive, straight forward solution.\n",
    "\n",
    "- Spaces before and after opreators.\n",
    "- Use `range(1, max_number + 1)`"
   ]
  },
  {
   "cell_type": "code",
   "execution_count": 99,
   "metadata": {
    "collapsed": false
   },
   "outputs": [],
   "source": [
    "def calculate(number):\n",
    "    current_chain = 0\n",
    "    while number!=1:\n",
    "        number = number//2 if number%2==0 else 3*number+1\n",
    "        current_chain += 1\n",
    "    return current_chain+1\n",
    "    \n",
    "def run_problem_1(max_number):\n",
    "    longest_result = (0, 0)\n",
    "    for i in range(1, max_number):\n",
    "        current_chain = calculate(i)\n",
    "        if current_chain>longest_result[0]:\n",
    "            longest_result = (current_chain, i)\n",
    "    return longest_result"
   ]
  },
  {
   "cell_type": "markdown",
   "metadata": {},
   "source": [
    "## Participant solution #2\n",
    "\n",
    "This dynamic programming approach is great: we create a dictionary `seq_length` mapping sequence start to it's length. We then fill this sequence, using it as we do, and finally use sort of an argmax operator on it.\n",
    "\n",
    "I'm not sure what's the role of the for loop on `cache` here, but I suspect that this part could be improved.\n",
    "Also I'm not sure if it's better to clear cache of create a new dictionary; I would tend to create the dictionary. \n",
    "\n",
    "I would also suggest to break apart to at least two functions."
   ]
  },
  {
   "cell_type": "code",
   "execution_count": 100,
   "metadata": {
    "collapsed": true
   },
   "outputs": [],
   "source": [
    "def run_problem_2(max_number):\n",
    "    seq_length = {1: 1}\n",
    "    cache = {}\n",
    "    for n in range(2, max_number):\n",
    "        x = n\n",
    "        cache.clear()\n",
    "        while x not in seq_length:\n",
    "            if x % 2 == 0:\n",
    "                y = x // 2\n",
    "            else:\n",
    "                y = 3 * x + 1\n",
    "            cache[x] = 0\n",
    "            for key in cache:\n",
    "                cache[key] += 1 + seq_length.get(y, 0)\n",
    "            x = y\n",
    "        seq_length.update(cache)\n",
    "    longest_chain = max(seq_length, key=seq_length.get)\n",
    "    return longest_chain"
   ]
  },
  {
   "cell_type": "markdown",
   "metadata": {},
   "source": [
    "## Instructor solution\n",
    "\n",
    "This solution uses a similar dynamic programming approach. However, the code is constructed differently.\n",
    "\n",
    "There is one function for the Collatz step (`collatz_step`), another one for calculating the length (`collatz_sequence_length`), and another one, `run_problem_3`, to wrap the whole thing up. \n",
    "\n",
    "The length calculating function `collatz_sequence_length` is defined inside `run_problem_3`, so that it can use the the dynamicly defined `mem` variable for memoization between function calls. Note that this could not work if `collatz_sequence_length` was defined outside of `run_problem_3`."
   ]
  },
  {
   "cell_type": "code",
   "execution_count": 103,
   "metadata": {
    "collapsed": true
   },
   "outputs": [],
   "source": [
    "def collatz_step(n):\n",
    "    if n % 2: # odd\n",
    "        return 3*n+1\n",
    "    else: # even\n",
    "        return n//2\n",
    "\n",
    "def run_problem_3(max_number):\n",
    "    mem = dict()\n",
    "    mem[1] = 1\n",
    "    def collatz_sequence_length(n):\n",
    "        start = n\n",
    "        steps = 0\n",
    "        while not n in mem:\n",
    "            n = collatz_step(n)\n",
    "            steps += 1\n",
    "        mem[start] = total = mem[n] + steps\n",
    "        return total\n",
    "    return max(range(1, max_number + 1), key=collatz_sequence_length)"
   ]
  },
  {
   "cell_type": "markdown",
   "metadata": {},
   "source": [
    "## Comparison"
   ]
  },
  {
   "cell_type": "code",
   "execution_count": 104,
   "metadata": {
    "collapsed": false
   },
   "outputs": [
    {
     "name": "stdout",
     "output_type": "stream",
     "text": [
      "run_problem_1 (525, 837799)\n",
      "1 loop, best of 3: 25.4 s per loop\n",
      "run_problem_2 837799\n",
      "1 loop, best of 3: 6.89 s per loop\n",
      "run_problem_3 837799\n",
      "1 loop, best of 3: 2.58 s per loop\n"
     ]
    }
   ],
   "source": [
    "n = 1000000\n",
    "for func in (run_problem_1, run_problem_2, run_problem_3):\n",
    "    print(func.__name__, func(n))\n",
    "    %timeit func(n)"
   ]
  },
  {
   "cell_type": "markdown",
   "metadata": {},
   "source": [
    "## Colophon\n",
    "This notebook was written by [Yoav Ram](http://python.yoavram.com) and is part of the [_Python for Engineers_](https://github.com/yoavram/Py4Eng) course.\n",
    "\n",
    "The notebook was written using [Python](http://python.org/) 3.6.1.\n",
    "Dependencies listed in [environment.yml](../environment.yml), full versions in [environment_full.yml](../environment_full.yml).\n",
    "\n",
    "This work is licensed under a CC BY-NC-SA 4.0 International License.\n",
    "\n",
    "![Python logo](https://www.python.org/static/community_logos/python-logo.png)"
   ]
  }
 ],
 "metadata": {
  "kernelspec": {
   "display_name": "Python [default]",
   "language": "python",
   "name": "python3"
  },
  "language_info": {
   "codemirror_mode": {
    "name": "ipython",
    "version": 3
   },
   "file_extension": ".py",
   "mimetype": "text/x-python",
   "name": "python",
   "nbconvert_exporter": "python",
   "pygments_lexer": "ipython3",
   "version": "3.6.2"
  }
 },
 "nbformat": 4,
 "nbformat_minor": 2
}
