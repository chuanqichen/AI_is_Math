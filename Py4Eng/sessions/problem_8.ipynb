{
 "cells": [
  {
   "cell_type": "markdown",
   "metadata": {},
   "source": [
    "![Py4Eng](img/logo.png)\n",
    "\n",
    "# [Problem 8](https://projecteuler.net/problem=8)\n",
    "## Yoav Ram"
   ]
  },
  {
   "cell_type": "markdown",
   "metadata": {},
   "source": [
    "We will review four participants solutions to a similar problem and then show an instructor solution.\n",
    "\n",
    "## The problem\n",
    "\n",
    "This is the [Largest product in a series](https://projecteuler.net/problem=8) problem from the [Euler project](https://projecteuler.net/). \n",
    "\n",
    "The four adjacent digits in the 1000-digit number that have the greatest product are 9 × 9 × 8 × 9 = 5832.\n",
    "\n",
    "```\n",
    "73167176531330624919225119674426574742355349194934\n",
    "96983520312774506326239578318016984801869478851843\n",
    "85861560789112949495459501737958331952853208805511\n",
    "12540698747158523863050715693290963295227443043557\n",
    "66896648950445244523161731856403098711121722383113\n",
    "62229893423380308135336276614282806444486645238749\n",
    "30358907296290491560440772390713810515859307960866\n",
    "70172427121883998797908792274921901699720888093776\n",
    "65727333001053367881220235421809751254540594752243\n",
    "52584907711670556013604839586446706324415722155397\n",
    "53697817977846174064955149290862569321978468622482\n",
    "83972241375657056057490261407972968652414535100474\n",
    "82166370484403199890008895243450658541227588666881\n",
    "16427171479924442928230863465674813919123162824586\n",
    "17866458359124566529476545682848912883142607690042\n",
    "24219022671055626321111109370544217506941658960408\n",
    "07198403850962455444362981230987879927244284909188\n",
    "84580156166097919133875499200524063689912560717606\n",
    "05886116467109405077541002256983155200055935729725\n",
    "71636269561882670428252483600823257530420752963450\n",
    "```\n",
    "Find the thirteen adjacent digits in the 1000-digit number that have the greatest product. What is the value of this product?"
   ]
  },
  {
   "cell_type": "code",
   "execution_count": 1,
   "metadata": {
    "collapsed": true
   },
   "outputs": [],
   "source": [
    "number = \"\"\"73167176531330624919225119674426574742355349194934\n",
    "96983520312774506326239578318016984801869478851843\n",
    "85861560789112949495459501737958331952853208805511\n",
    "12540698747158523863050715693290963295227443043557\n",
    "66896648950445244523161731856403098711121722383113\n",
    "62229893423380308135336276614282806444486645238749\n",
    "30358907296290491560440772390713810515859307960866\n",
    "70172427121883998797908792274921901699720888093776\n",
    "65727333001053367881220235421809751254540594752243\n",
    "52584907711670556013604839586446706324415722155397\n",
    "53697817977846174064955149290862569321978468622482\n",
    "83972241375657056057490261407972968652414535100474\n",
    "82166370484403199890008895243450658541227588666881\n",
    "16427171479924442928230863465674813919123162824586\n",
    "17866458359124566529476545682848912883142607690042\n",
    "24219022671055626321111109370544217506941658960408\n",
    "07198403850962455444362981230987879927244284909188\n",
    "84580156166097919133875499200524063689912560717606\n",
    "05886116467109405077541002256983155200055935729725\n",
    "71636269561882670428252483600823257530420752963450\"\"\".replace('\\n', '').replace(' ', '')"
   ]
  },
  {
   "cell_type": "markdown",
   "metadata": {},
   "source": [
    "## Participant solution #1\n",
    "\n",
    "The first solution uses imperative Pure Python approach, creating a slice for each substring and calculating it's product, then checking if it's larger than the previous maximum. Lots of copies are made (when slicing), products are calculated for each new slice with an inner loop.\n",
    "In addition, the preparation doesn't pre-allocate the memory for the list of digits (not very dramatic here, could save ~0.05ms for full solution)."
   ]
  },
  {
   "cell_type": "code",
   "execution_count": 2,
   "metadata": {
    "collapsed": true
   },
   "outputs": [],
   "source": [
    "def run_problem_1(number, number_of_digits):\n",
    "    all_digits = [] # better to pre-allocate memory?\n",
    "    for c in number:\n",
    "        try: # EAFP!\n",
    "            code = int(c) - int(\"0\") # int(c) is enough right?\n",
    "            all_digits.append(code)\n",
    "        except:\n",
    "            ; # use pass, not required if we first replace all '\\n' with ''\n",
    "    input_size = len(all_digits)\n",
    "    size_of_text = len(number)\n",
    "\n",
    "    maxValue = 0 # lowercase with underscores\n",
    "    maxIndex = 0\n",
    "\n",
    "    for index in range(0, input_size-number_of_digits+1):\n",
    "        slice = all_digits[index:index+number_of_digits] # slice is a python saved word\n",
    "        current = 1\n",
    "        for digit in slice:\n",
    "            current *= digit\n",
    "        if current>maxValue:\n",
    "            maxValue = current\n",
    "            maxIndex = index\n",
    "        \n",
    "    return maxValue"
   ]
  },
  {
   "cell_type": "markdown",
   "metadata": {},
   "source": [
    "## Participant solution #2\n",
    "\n",
    "Similar approach to the above with slightly different syntax.\n",
    "\n",
    "Notes:\n",
    "- Using `set` is cool but here it's not useful as the set is not returned. Probably good for debugging, though.\n",
    "- Don't use an overall `try` block, as it can catch `ValueError`s that you didn't plan for. The code inside the `try` block should be as short as possible. Definately don't `return` from within a `try`! In this case probably should be (note the detailed error message):\n",
    "\n",
    "```py\n",
    "try:\n",
    "  int(n)\n",
    "except ValueError:\n",
    "  print('Not a valid number: {}'.format(n))\n",
    "```"
   ]
  },
  {
   "cell_type": "code",
   "execution_count": 3,
   "metadata": {
    "collapsed": true
   },
   "outputs": [],
   "source": [
    "def run_problem_2(n, num_digits):\n",
    "#     n=n.replace('\\n', '').replace(' ','') # already done above\n",
    "\n",
    "    try: \n",
    "        int(n)\n",
    "  \n",
    "        max_product=0\n",
    "        val_set=set()\n",
    " \n",
    "        for i in range(0, len(n)-num_digits+1):\n",
    "            val=n[i:i+num_digits]\n",
    "            curr_product=int(val[0])\n",
    "            for j in range (1,num_digits):\n",
    "                curr_product *= int(val[j])\n",
    "            if curr_product>max_product:\n",
    "               max_product=curr_product;\n",
    "               val_set={val};\n",
    "            elif curr_product==max_product:\n",
    "                val_set.add(val)\n",
    "        return max_product\n",
    "    except ValueError:\n",
    "        print( 'Not a valid number')  "
   ]
  },
  {
   "cell_type": "markdown",
   "metadata": {},
   "source": [
    "## Participant solution #3\n",
    "\n",
    "A more efficient implementation uses a \"running product\" approach, dividing by the oldest element and only re-calculating product if said oldest element was zero, this making away with 90% of inner loops (on average).\n",
    "\n",
    "- Probably better to convert everything to `int` in one place in the code, to limit \"forgetting\" to convert; of course this is not useful if requires an additional loop, therefore only useful with \"lazy\" generators, see below.\n",
    "- Product calculation code is repeated - write a separate function.\n",
    "- Same `try` comment as above.\n",
    "- `;` not needed at end of line\n",
    "- Should use `//` rather than `/` to have `int` return type rather than `float`."
   ]
  },
  {
   "cell_type": "code",
   "execution_count": 4,
   "metadata": {
    "collapsed": true
   },
   "outputs": [],
   "source": [
    "def run_problem_3(digits, nd):\n",
    "    try:\n",
    "        product = 1\n",
    "        for i in range(0, nd):\n",
    "            val = digits[i]\n",
    "            product *= int(val[0])\n",
    "        #print(\"First product = {}\".format(product))\n",
    " \n",
    "        max_product = product\n",
    "        for i in range(nd, len(digits)):\n",
    "            val_first = int(digits[i - nd])\n",
    "            val_next = int(digits[i])\n",
    "           \n",
    "            if val_first == 0:\n",
    "                next_product = 1\n",
    "                for j in range(i - nd + 1, i + 1):\n",
    "                    next_product *= int(digits[j])\n",
    "            else:\n",
    "                next_product = product / val_first * val_next; # use //!\n",
    "           \n",
    "            if (next_product > max_product):\n",
    "                max_product = next_product\n",
    "           \n",
    "            product = next_product\n",
    "        #print(\"Maximal product = {}\".format(max_product))\n",
    "        return max_product\n",
    "    except ValueError:\n",
    "        print( 'Not a valid number') "
   ]
  },
  {
   "cell_type": "markdown",
   "metadata": {},
   "source": [
    "## Participant solution #4\n",
    "\n",
    "A different approach, using modulo instead of converting string literals into integers. This is clever, but in effect, sometimes it's better to use the high-level [`int(x)`](https://docs.python.org/3.6/library/functions.html#int) which does the conversion using a more optimized version of the code here.\n",
    "This function also finds and returns the exact substring, which somewhat reduces it's efficiency (~20%), but that depends on what we are interested in.\n",
    "\n",
    "- No `;` needed at end of line\n",
    "- No space needed after function name definition or after `while`.\n",
    "- Creating a new list for every product calculation is wasteful, as all these list are of the same length.\n",
    "- The helper function does more than the name suggests."
   ]
  },
  {
   "cell_type": "code",
   "execution_count": 5,
   "metadata": {
    "collapsed": false
   },
   "outputs": [],
   "source": [
    "x = \"318783123787321331318783123787321331318783123787321331318783123787321331\""
   ]
  },
  {
   "cell_type": "code",
   "execution_count": 6,
   "metadata": {
    "collapsed": false
   },
   "outputs": [
    {
     "name": "stdout",
     "output_type": "stream",
     "text": [
      "100000 loops, best of 3: 14.7 µs per loop\n"
     ]
    }
   ],
   "source": [
    "%%timeit\n",
    "n = int(x)\n",
    "s = 0\n",
    "while n:\n",
    "    s += n%10\n",
    "    n //= 10"
   ]
  },
  {
   "cell_type": "code",
   "execution_count": 7,
   "metadata": {
    "collapsed": false
   },
   "outputs": [
    {
     "name": "stdout",
     "output_type": "stream",
     "text": [
      "10000 loops, best of 3: 16 µs per loop\n"
     ]
    }
   ],
   "source": [
    "%%timeit\n",
    "s = 0\n",
    "for c in x:\n",
    "    s += int(c)"
   ]
  },
  {
   "cell_type": "markdown",
   "metadata": {},
   "source": [
    "The most efficient approach, with shortest code, is to use `sum` with a generator (or `map`):"
   ]
  },
  {
   "cell_type": "code",
   "execution_count": 8,
   "metadata": {
    "collapsed": false
   },
   "outputs": [
    {
     "name": "stdout",
     "output_type": "stream",
     "text": [
      "100000 loops, best of 3: 17 µs per loop\n"
     ]
    }
   ],
   "source": [
    "%timeit sum(int(x) for x in x)"
   ]
  },
  {
   "cell_type": "code",
   "execution_count": 9,
   "metadata": {
    "collapsed": true
   },
   "outputs": [],
   "source": [
    "def calc_digits_product (x):\n",
    "    prod = 1\n",
    "    l = [];\n",
    "    while (x > 0):\n",
    "        digit = x % 10\n",
    "        l.append(digit)\n",
    "        prod *= digit\n",
    "        x //= 10\n",
    "    return prod, l[::-1]\n",
    "\n",
    "def run_problem_4(x, num_digits):\n",
    "    x = int(x) #  to match API of other functions that expect str\n",
    "    max_product = 1\n",
    "    max_product_seq = []\n",
    "    while (x > 0):\n",
    "        prod, seq = calc_digits_product(x % (10 ** num_digits))\n",
    "        if prod > max_product:\n",
    "            max_product = prod\n",
    "            max_product_seq = seq\n",
    "        x //= 10\n",
    "    return max_product#, max_product_seq # to match API of other functions that return product"
   ]
  },
  {
   "cell_type": "markdown",
   "metadata": {},
   "source": [
    "## Instructor solution #1\n",
    "\n",
    "For my solution I utilize some of the functional programming tools: [itertools](https://docs.python.org/3.6/library/itertools.html), [operator](https://docs.python.org/3.6/library/operator.html), [functools.reduce](https://docs.python.org/3.6/library/functools.html#functools.reduce); and the [deque](https://docs.python.org/3.6/library/collections.html?highlight=deque#collections.deque) which allows fast removal and insertion from both sides of the collection."
   ]
  },
  {
   "cell_type": "code",
   "execution_count": 10,
   "metadata": {
    "collapsed": true
   },
   "outputs": [],
   "source": [
    "from itertools import islice\n",
    "from collections import deque\n",
    "from functools import reduce\n",
    "import operator\n",
    "\n",
    "product = lambda iterable: reduce(operator.mul, iterable, 1)\n",
    "\n",
    "def run_problem_5(number, n):\n",
    "    all_digits = (int(x) for x in number)\n",
    "    n_digits = deque(islice(all_digits, n))\n",
    "    max_prod = n_prod = product(n_digits)\n",
    "    \n",
    "    for newest in all_digits:\n",
    "        oldest = n_digits.popleft() # remove oldest\n",
    "        n_digits.append(newest) # add newest\n",
    "        if oldest == 0:\n",
    "            # recalc product\n",
    "            n_prod = product(n_digits)\n",
    "        else:\n",
    "            # update product\n",
    "            n_prod //= oldest \n",
    "            n_prod *= newest\n",
    "        # update max product\n",
    "        max_prod = max_prod if n_prod < max_prod else n_prod\n",
    "    return max_prod"
   ]
  },
  {
   "cell_type": "code",
   "execution_count": 12,
   "metadata": {
    "collapsed": false
   },
   "outputs": [
    {
     "name": "stdout",
     "output_type": "stream",
     "text": [
      "run_problem_1: 1000 loops, best of 3: 1.22 ms per loop\n",
      "run_problem_2: 100 loops, best of 3: 3.5 ms per loop\n",
      "run_problem_3: 1000 loops, best of 3: 909 µs per loop\n",
      "run_problem_4: 100 loops, best of 3: 5.27 ms per loop\n",
      "run_problem_5: 1000 loops, best of 3: 546 µs per loop\n"
     ]
    }
   ],
   "source": [
    "for func in (run_problem_1, run_problem_2, run_problem_3, run_problem_4, run_problem_5):\n",
    "    assert func(number, 13) == 23514624000, func.__name__\n",
    "    print(func.__name__, end=': ')\n",
    "    %timeit func(number, 13)"
   ]
  },
  {
   "cell_type": "markdown",
   "metadata": {},
   "source": [
    "## Instructor solution #2\n",
    "\n",
    "This solution is also amendable to returning the actual substring at a very low cost (memory: O(`n`), time: depends how many maximums are found, worst case is O(`m`) for `m` length of full number)."
   ]
  },
  {
   "cell_type": "code",
   "execution_count": 13,
   "metadata": {
    "collapsed": true
   },
   "outputs": [],
   "source": [
    "def run_problem_6(number, n):\n",
    "    all_digits = (int(x) for x in number)\n",
    "    n_digits = deque(islice(all_digits, n))\n",
    "    max_prod = n_prod = product(n_digits)\n",
    "    max_digits = tuple(n_digits)\n",
    "    \n",
    "    for newest in all_digits:\n",
    "        oldest = n_digits.popleft() # remove oldest\n",
    "        n_digits.append(newest) # add newest\n",
    "        if oldest == 0:\n",
    "            # recalc product\n",
    "            n_prod = product(n_digits)\n",
    "        else:\n",
    "            # update product\n",
    "            n_prod //= oldest \n",
    "            n_prod *= newest\n",
    "        # update max product\n",
    "        max_prod = max_prod if n_prod < max_prod else n_prod\n",
    "        max_digits = max_digits if n_prod < max_prod else tuple(n_digits)\n",
    "    return max_prod, str.join('', (str(x) for x in max_digits))"
   ]
  },
  {
   "cell_type": "code",
   "execution_count": 15,
   "metadata": {
    "collapsed": false
   },
   "outputs": [
    {
     "data": {
      "text/plain": [
       "(23514624000, '5576689664895')"
      ]
     },
     "execution_count": 15,
     "metadata": {},
     "output_type": "execute_result"
    }
   ],
   "source": [
    "run_problem_6(number, 13)"
   ]
  },
  {
   "cell_type": "code",
   "execution_count": 16,
   "metadata": {
    "collapsed": false
   },
   "outputs": [
    {
     "name": "stdout",
     "output_type": "stream",
     "text": [
      "1000 loops, best of 3: 578 µs per loop\n"
     ]
    }
   ],
   "source": [
    "%timeit run_problem_6(number, 13)"
   ]
  },
  {
   "cell_type": "markdown",
   "metadata": {},
   "source": [
    "## Colophon\n",
    "This notebook was written by [Yoav Ram](http://python.yoavram.com) and is part of the [_Python for Engineers_](https://github.com/yoavram/Py4Eng) course.\n",
    "\n",
    "The notebook was written using [Python](http://python.org/) 3.6.1.\n",
    "Dependencies listed in [environment.yml](../environment.yml), full versions in [environment_full.yml](../environment_full.yml).\n",
    "\n",
    "This work is licensed under a CC BY-NC-SA 4.0 International License.\n",
    "\n",
    "![Python logo](https://www.python.org/static/community_logos/python-logo.png)"
   ]
  }
 ],
 "metadata": {
  "kernelspec": {
   "display_name": "Python [default]",
   "language": "python",
   "name": "python3"
  },
  "language_info": {
   "codemirror_mode": {
    "name": "ipython",
    "version": 3
   },
   "file_extension": ".py",
   "mimetype": "text/x-python",
   "name": "python",
   "nbconvert_exporter": "python",
   "pygments_lexer": "ipython3",
   "version": "3.6.2"
  }
 },
 "nbformat": 4,
 "nbformat_minor": 2
}
