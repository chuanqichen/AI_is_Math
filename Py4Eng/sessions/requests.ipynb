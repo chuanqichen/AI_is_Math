{
 "cells": [
  {
   "cell_type": "markdown",
   "metadata": {},
   "source": [
    "![Py4Eng](img/logo.png)\n",
    "\n",
    "# Requests: HTTP for Humans\n",
    "## Yoav Ram"
   ]
  },
  {
   "cell_type": "markdown",
   "metadata": {},
   "source": [
    "In this session we'll learn to use the [requests](docs.python-requests.org/) package to easily send HTTP requests.\n",
    "Install, if not already installed, with `conda install requests` or `pip install requests`."
   ]
  },
  {
   "cell_type": "code",
   "execution_count": 1,
   "metadata": {
    "collapsed": false
   },
   "outputs": [],
   "source": [
    "%matplotlib inline\n",
    "import matplotlib.pyplot as plt\n",
    "import requests\n",
    "import pandas as pd\n",
    "import io\n",
    "import seaborn as sns\n",
    "sns.set_style('white')\n",
    "sns.set_context('talk', font_scale=1.3)"
   ]
  },
  {
   "cell_type": "markdown",
   "metadata": {},
   "source": [
    "requests allows us to communicate with web APIs. \n",
    "\n",
    "For example, we'll use the [World Bank Climate API](http://data.worldbank.org/developers/climate-data-api) to get some data and plot it.\n",
    "\n",
    "The Climate API has several endpoints; we'll use the country endpoint:\n",
    "```\n",
    "http://climatedataapi.worldbank.org/climateweb/rest/v1/country/{type}/{var}/{start}/{end}/{ISO3}.{ext}\n",
    "```\n",
    "- `type` is the data type, like `mavg` which is monthly average\n",
    "- `var` is the variable - `tas` is temperature in Celsius\n",
    "- `start` and `end` are years, corresponding to specific ranges (see docs)\n",
    "- `ISO3` is a country code\n",
    "- `ext` is the data format, like `CSV` or `JSON`\n",
    "\n",
    "Let's get the monthly average temperature in Israel between 1980 and 1999."
   ]
  },
  {
   "cell_type": "code",
   "execution_count": 2,
   "metadata": {
    "collapsed": false
   },
   "outputs": [
    {
     "name": "stdout",
     "output_type": "stream",
     "text": [
      "http://climatedataapi.worldbank.org/climateweb/rest/v1/country/mavg/tas/1980/1999/ISR.CSV\n"
     ]
    }
   ],
   "source": [
    "base_url = 'http://climatedataapi.worldbank.org/climateweb/rest/v1/country/{type}/{var}/{start}/{end}/{ISO3}.{ext}'\n",
    "url = base_url.format(\n",
    "    type='mavg', \n",
    "    var='tas', \n",
    "    start='1980', \n",
    "    end='1999', \n",
    "    ISO3='ISR',\n",
    "    ext='CSV'\n",
    ")\n",
    "print(url)"
   ]
  },
  {
   "cell_type": "markdown",
   "metadata": {},
   "source": [
    "You can click the URL to verify that it is valid.\n",
    "\n",
    "Now we `requests.get` to get the data at the URL, and check that it returned ok:"
   ]
  },
  {
   "cell_type": "code",
   "execution_count": 3,
   "metadata": {
    "collapsed": false
   },
   "outputs": [
    {
     "data": {
      "text/plain": [
       "True"
      ]
     },
     "execution_count": 3,
     "metadata": {},
     "output_type": "execute_result"
    }
   ],
   "source": [
    "r = requests.get(url)\n",
    "r.ok"
   ]
  },
  {
   "cell_type": "markdown",
   "metadata": {},
   "source": [
    "The data is textual so we can print it:"
   ]
  },
  {
   "cell_type": "code",
   "execution_count": 4,
   "metadata": {
    "collapsed": false
   },
   "outputs": [
    {
     "name": "stdout",
     "output_type": "stream",
     "text": [
      "GCM,var,from_year,to_year,Jan,Feb,Mar,Apr,May,Jun,Jul,Aug,Sep,Oct,Nov,Dec\n",
      "bccr_bcm2_0,tas,1980,1999,8.594573975,8.757946777,12.57537842,16.69530029,20.41315918,25.31522217,27.47595825,28.14610596,25.14344482,20.96210937,14.43179932,10.41881714\n",
      "cccma_cgcm3_1,tas,1980,1999,6.280993652,8.580639648,12.74428711,16.52545166,22.13335571,27.51535645,29.61068115,29.19720459,26.05150146,20.656604,12.97927246,7.531481934\n",
      "cnrm_cm3,tas,1980,1999,6.547192383,8.257971191,11.77634888,15.43874512,20.20044556,23.84338379,26.82471313,28.40269775,25.03937378,20.12583618,13.62856445,8.344073486\n",
      "csiro_mk3_5,tas,1980,1999,12.49906616,14.29511719,17.51575928,20.64786377,24.00043335,28.03111572,29.41047974,28.95617065,25.85397339,21.93880615,16.61158447,12.81826782\n",
      "gfdl_cm2_0,tas,1980,1999,7.266522216797999,8.5183227539,11.639929199204001,16.2017211914,19.15825805662,23.14456787112,25.228820800780003,25.28056640626,22.753253173820003,17.92176513672,12.75487060546,9.115472412104001\n",
      "gfdl_cm2_1,tas,1980,1999,8.515155029298,10.07144165039,13.56170043944,16.33302612306,20.49669799804,25.08463134766,28.55566406248,29.01997070312,24.611279296859998,19.38489990236,13.44643554688,9.683312988286001\n",
      "ingv_echam4,tas,1980,1999,9.625219726564001,11.0178100586,14.9162536621,19.69044189454,23.35653686522,26.810723876960004,29.29209594726,29.7566711426,25.61619262694,21.309246826160003,16.13317871092,11.188482666016\n",
      "inmcm3_0,tas,1980,1999,7.463055419919999,8.881768798828,12.01154174806,16.76074218752,21.16318969726,24.56908569334,27.00778808594,26.37967529298,23.072998046880002,15.523980712899998,9.966192626962,7.185314941406\n",
      "ipsl_cm4,tas,1980,1999,7.495361328116,9.15095825195,11.12692260742,15.747717285160002,19.5641784668,24.07557373046,27.097399902339998,27.1000061035,24.460015869119996,19.712207031240002,14.6391479492,10.301861572274\n",
      "miroc3_2_medres,tas,1980,1999,10.677423095706,11.82220458986,14.989215087880002,18.75552368164,22.21495361328,27.44663085936,30.94385375978,30.75719604492,27.09041748048,21.43936767576,16.162011718760002,12.3745361328\n",
      "miub_echo_g,tas,1980,1999,11.390704345706,12.199481201186,14.26759643552,17.18174438476,21.143267822259997,24.26134033206,26.507531738299996,27.37114868164,26.4348876953,22.93074951174,17.699877929679996,13.451751709000002\n",
      "mpi_echam5,tas,1980,1999,9.399005126946,11.717132568339998,14.9192443848,18.393640136720002,22.93827514646,26.317669677740003,28.5532348633,28.80745239258,26.67112426758,22.42280883788,15.572003173819999,10.697180175782\n",
      "mri_cgcm2_3_2a,tas,1980,1999,10.57219238283,12.425592041002002,14.91377563478,18.83765258788,23.74768066406,28.810839843740002,30.515814208979997,30.541735839839998,27.322753906240003,23.17469482424,15.888659667980003,11.049731445304001\n",
      "ukmo_hadcm3,tas,1980,1999,10.01365356446,11.609637451180001,14.971771240219999,16.911285400380002,20.07613525392,23.25275268556,24.27498168944,24.26343383792,22.6840209961,19.4083679199,14.89696044922,11.315466308616\n",
      "ukmo_hadgem1,tas,1980,1999,8.529479980474,9.950073242188001,12.95788574218,16.56742553712,20.8426513672,24.6168029785,25.529193115220004,25.63897705078,23.781921386720004,20.51152954102,14.54721069338,9.659100341788\n",
      "\n"
     ]
    }
   ],
   "source": [
    "print(r.text)"
   ]
  },
  {
   "cell_type": "markdown",
   "metadata": {},
   "source": [
    "But actually we'd like to load it into a data frame. We wrap the string in a `io.StringIO` object that creates a file-like object from the string:"
   ]
  },
  {
   "cell_type": "code",
   "execution_count": 5,
   "metadata": {
    "collapsed": false
   },
   "outputs": [
    {
     "data": {
      "text/html": [
       "<div>\n",
       "<table border=\"1\" class=\"dataframe\">\n",
       "  <thead>\n",
       "    <tr style=\"text-align: right;\">\n",
       "      <th></th>\n",
       "      <th>GCM</th>\n",
       "      <th>var</th>\n",
       "      <th>from_year</th>\n",
       "      <th>to_year</th>\n",
       "      <th>Jan</th>\n",
       "      <th>Feb</th>\n",
       "      <th>Mar</th>\n",
       "      <th>Apr</th>\n",
       "      <th>May</th>\n",
       "      <th>Jun</th>\n",
       "      <th>Jul</th>\n",
       "      <th>Aug</th>\n",
       "      <th>Sep</th>\n",
       "      <th>Oct</th>\n",
       "      <th>Nov</th>\n",
       "      <th>Dec</th>\n",
       "    </tr>\n",
       "  </thead>\n",
       "  <tbody>\n",
       "    <tr>\n",
       "      <th>0</th>\n",
       "      <td>bccr_bcm2_0</td>\n",
       "      <td>tas</td>\n",
       "      <td>1980</td>\n",
       "      <td>1999</td>\n",
       "      <td>8.594574</td>\n",
       "      <td>8.757947</td>\n",
       "      <td>12.575378</td>\n",
       "      <td>16.695300</td>\n",
       "      <td>20.413159</td>\n",
       "      <td>25.315222</td>\n",
       "      <td>27.475958</td>\n",
       "      <td>28.146106</td>\n",
       "      <td>25.143445</td>\n",
       "      <td>20.962109</td>\n",
       "      <td>14.431799</td>\n",
       "      <td>10.418817</td>\n",
       "    </tr>\n",
       "    <tr>\n",
       "      <th>1</th>\n",
       "      <td>cccma_cgcm3_1</td>\n",
       "      <td>tas</td>\n",
       "      <td>1980</td>\n",
       "      <td>1999</td>\n",
       "      <td>6.280994</td>\n",
       "      <td>8.580640</td>\n",
       "      <td>12.744287</td>\n",
       "      <td>16.525452</td>\n",
       "      <td>22.133356</td>\n",
       "      <td>27.515356</td>\n",
       "      <td>29.610681</td>\n",
       "      <td>29.197205</td>\n",
       "      <td>26.051501</td>\n",
       "      <td>20.656604</td>\n",
       "      <td>12.979272</td>\n",
       "      <td>7.531482</td>\n",
       "    </tr>\n",
       "    <tr>\n",
       "      <th>2</th>\n",
       "      <td>cnrm_cm3</td>\n",
       "      <td>tas</td>\n",
       "      <td>1980</td>\n",
       "      <td>1999</td>\n",
       "      <td>6.547192</td>\n",
       "      <td>8.257971</td>\n",
       "      <td>11.776349</td>\n",
       "      <td>15.438745</td>\n",
       "      <td>20.200446</td>\n",
       "      <td>23.843384</td>\n",
       "      <td>26.824713</td>\n",
       "      <td>28.402698</td>\n",
       "      <td>25.039374</td>\n",
       "      <td>20.125836</td>\n",
       "      <td>13.628564</td>\n",
       "      <td>8.344073</td>\n",
       "    </tr>\n",
       "    <tr>\n",
       "      <th>3</th>\n",
       "      <td>csiro_mk3_5</td>\n",
       "      <td>tas</td>\n",
       "      <td>1980</td>\n",
       "      <td>1999</td>\n",
       "      <td>12.499066</td>\n",
       "      <td>14.295117</td>\n",
       "      <td>17.515759</td>\n",
       "      <td>20.647864</td>\n",
       "      <td>24.000433</td>\n",
       "      <td>28.031116</td>\n",
       "      <td>29.410480</td>\n",
       "      <td>28.956171</td>\n",
       "      <td>25.853973</td>\n",
       "      <td>21.938806</td>\n",
       "      <td>16.611584</td>\n",
       "      <td>12.818268</td>\n",
       "    </tr>\n",
       "    <tr>\n",
       "      <th>4</th>\n",
       "      <td>gfdl_cm2_0</td>\n",
       "      <td>tas</td>\n",
       "      <td>1980</td>\n",
       "      <td>1999</td>\n",
       "      <td>7.266522</td>\n",
       "      <td>8.518323</td>\n",
       "      <td>11.639929</td>\n",
       "      <td>16.201721</td>\n",
       "      <td>19.158258</td>\n",
       "      <td>23.144568</td>\n",
       "      <td>25.228821</td>\n",
       "      <td>25.280566</td>\n",
       "      <td>22.753253</td>\n",
       "      <td>17.921765</td>\n",
       "      <td>12.754871</td>\n",
       "      <td>9.115472</td>\n",
       "    </tr>\n",
       "  </tbody>\n",
       "</table>\n",
       "</div>"
      ],
      "text/plain": [
       "             GCM  var  from_year  to_year        Jan        Feb        Mar  \\\n",
       "0    bccr_bcm2_0  tas       1980     1999   8.594574   8.757947  12.575378   \n",
       "1  cccma_cgcm3_1  tas       1980     1999   6.280994   8.580640  12.744287   \n",
       "2       cnrm_cm3  tas       1980     1999   6.547192   8.257971  11.776349   \n",
       "3    csiro_mk3_5  tas       1980     1999  12.499066  14.295117  17.515759   \n",
       "4     gfdl_cm2_0  tas       1980     1999   7.266522   8.518323  11.639929   \n",
       "\n",
       "         Apr        May        Jun        Jul        Aug        Sep  \\\n",
       "0  16.695300  20.413159  25.315222  27.475958  28.146106  25.143445   \n",
       "1  16.525452  22.133356  27.515356  29.610681  29.197205  26.051501   \n",
       "2  15.438745  20.200446  23.843384  26.824713  28.402698  25.039374   \n",
       "3  20.647864  24.000433  28.031116  29.410480  28.956171  25.853973   \n",
       "4  16.201721  19.158258  23.144568  25.228821  25.280566  22.753253   \n",
       "\n",
       "         Oct        Nov        Dec  \n",
       "0  20.962109  14.431799  10.418817  \n",
       "1  20.656604  12.979272   7.531482  \n",
       "2  20.125836  13.628564   8.344073  \n",
       "3  21.938806  16.611584  12.818268  \n",
       "4  17.921765  12.754871   9.115472  "
      ]
     },
     "execution_count": 5,
     "metadata": {},
     "output_type": "execute_result"
    }
   ],
   "source": [
    "with io.StringIO(r.text) as f:\n",
    "    data = pd.read_csv(f)\n",
    "data.head()"
   ]
  },
  {
   "cell_type": "markdown",
   "metadata": {},
   "source": [
    "Now we melt the data so that each monthly measurement is on a separate row:"
   ]
  },
  {
   "cell_type": "code",
   "execution_count": 6,
   "metadata": {
    "collapsed": false
   },
   "outputs": [
    {
     "data": {
      "text/html": [
       "<div>\n",
       "<table border=\"1\" class=\"dataframe\">\n",
       "  <thead>\n",
       "    <tr style=\"text-align: right;\">\n",
       "      <th></th>\n",
       "      <th>GCM</th>\n",
       "      <th>var</th>\n",
       "      <th>from_year</th>\n",
       "      <th>to_year</th>\n",
       "      <th>Month</th>\n",
       "      <th>Temp.</th>\n",
       "    </tr>\n",
       "  </thead>\n",
       "  <tbody>\n",
       "    <tr>\n",
       "      <th>0</th>\n",
       "      <td>bccr_bcm2_0</td>\n",
       "      <td>tas</td>\n",
       "      <td>1980</td>\n",
       "      <td>1999</td>\n",
       "      <td>Jan</td>\n",
       "      <td>8.594574</td>\n",
       "    </tr>\n",
       "    <tr>\n",
       "      <th>1</th>\n",
       "      <td>cccma_cgcm3_1</td>\n",
       "      <td>tas</td>\n",
       "      <td>1980</td>\n",
       "      <td>1999</td>\n",
       "      <td>Jan</td>\n",
       "      <td>6.280994</td>\n",
       "    </tr>\n",
       "    <tr>\n",
       "      <th>2</th>\n",
       "      <td>cnrm_cm3</td>\n",
       "      <td>tas</td>\n",
       "      <td>1980</td>\n",
       "      <td>1999</td>\n",
       "      <td>Jan</td>\n",
       "      <td>6.547192</td>\n",
       "    </tr>\n",
       "    <tr>\n",
       "      <th>3</th>\n",
       "      <td>csiro_mk3_5</td>\n",
       "      <td>tas</td>\n",
       "      <td>1980</td>\n",
       "      <td>1999</td>\n",
       "      <td>Jan</td>\n",
       "      <td>12.499066</td>\n",
       "    </tr>\n",
       "    <tr>\n",
       "      <th>4</th>\n",
       "      <td>gfdl_cm2_0</td>\n",
       "      <td>tas</td>\n",
       "      <td>1980</td>\n",
       "      <td>1999</td>\n",
       "      <td>Jan</td>\n",
       "      <td>7.266522</td>\n",
       "    </tr>\n",
       "  </tbody>\n",
       "</table>\n",
       "</div>"
      ],
      "text/plain": [
       "             GCM  var  from_year  to_year Month      Temp.\n",
       "0    bccr_bcm2_0  tas       1980     1999   Jan   8.594574\n",
       "1  cccma_cgcm3_1  tas       1980     1999   Jan   6.280994\n",
       "2       cnrm_cm3  tas       1980     1999   Jan   6.547192\n",
       "3    csiro_mk3_5  tas       1980     1999   Jan  12.499066\n",
       "4     gfdl_cm2_0  tas       1980     1999   Jan   7.266522"
      ]
     },
     "execution_count": 6,
     "metadata": {},
     "output_type": "execute_result"
    }
   ],
   "source": [
    "data = pd.melt(\n",
    "    data,  \n",
    "    id_vars=['GCM', 'var', 'from_year', 'to_year'],    \n",
    "    value_name='Temp.',\n",
    "    var_name='Month'\n",
    ")\n",
    "data.head()"
   ]
  },
  {
   "cell_type": "code",
   "execution_count": 8,
   "metadata": {
    "collapsed": false
   },
   "outputs": [
    {
     "data": {
      "image/png": "[encoded data removed]",
      "text/plain": [
       "<matplotlib.figure.Figure at 0x10f583780>"
      ]
     },
     "metadata": {},
     "output_type": "display_data"
    }
   ],
   "source": [
    "sns.boxplot(x='Month', y='Temp.', data=data, color='w')\n",
    "sns.despine()"
   ]
  },
  {
   "cell_type": "code",
   "execution_count": 11,
   "metadata": {
    "collapsed": false
   },
   "outputs": [
    {
     "data": {
      "image/png": "[encoded data removed]",
      "text/plain": [
       "<matplotlib.figure.Figure at 0x112191a90>"
      ]
     },
     "metadata": {},
     "output_type": "display_data"
    }
   ],
   "source": [
    "sns.violinplot('Month', 'Temp.', data=data, palette='viridis')\n",
    "sns.despine()"
   ]
  },
  {
   "cell_type": "markdown",
   "metadata": {},
   "source": [
    "## Stack exchange API\n",
    "\n",
    "Next, we connect to the [Stack exchange API](https://api.stackexchange.com/docs/tags) to find the most popular tags.\n",
    "\n",
    "Let's get the 10 most popular tags on stackoverflow - sort by populat, descending order, and limit response to 10 items:"
   ]
  },
  {
   "cell_type": "code",
   "execution_count": 12,
   "metadata": {
    "collapsed": false
   },
   "outputs": [
    {
     "data": {
      "text/plain": [
       "True"
      ]
     },
     "execution_count": 12,
     "metadata": {},
     "output_type": "execute_result"
    }
   ],
   "source": [
    "base_url = \"https://api.stackexchange.com\"\n",
    "query = \"/2.2/tags?page=1&pagesize=60&order=desc&sort=popular&site=stackoverflow\"\n",
    "\n",
    "r = requests.get(base_url + query)\n",
    "r.ok"
   ]
  },
  {
   "cell_type": "markdown",
   "metadata": {},
   "source": [
    "Here the response is in JSON format, which requests parses for us using the `json` function:"
   ]
  },
  {
   "cell_type": "code",
   "execution_count": 13,
   "metadata": {
    "collapsed": false
   },
   "outputs": [
    {
     "data": {
      "text/plain": [
       "dict_keys(['items', 'has_more', 'quota_max', 'quota_remaining'])"
      ]
     },
     "execution_count": 13,
     "metadata": {},
     "output_type": "execute_result"
    }
   ],
   "source": [
    "data = r.json()\n",
    "data.keys()"
   ]
  },
  {
   "cell_type": "code",
   "execution_count": 14,
   "metadata": {
    "collapsed": false
   },
   "outputs": [
    {
     "data": {
      "text/plain": [
       "[{'count': 1351014,\n",
       "  'has_synonyms': True,\n",
       "  'is_moderator_only': False,\n",
       "  'is_required': False,\n",
       "  'name': 'javascript'},\n",
       " {'count': 1231592,\n",
       "  'has_synonyms': True,\n",
       "  'is_moderator_only': False,\n",
       "  'is_required': False,\n",
       "  'name': 'java'},\n",
       " {'count': 1074859,\n",
       "  'has_synonyms': True,\n",
       "  'is_moderator_only': False,\n",
       "  'is_required': False,\n",
       "  'name': 'c#'},\n",
       " {'count': 1054535,\n",
       "  'has_synonyms': True,\n",
       "  'is_moderator_only': False,\n",
       "  'is_required': False,\n",
       "  'name': 'php'},\n",
       " {'count': 967096,\n",
       "  'has_synonyms': True,\n",
       "  'is_moderator_only': False,\n",
       "  'is_required': False,\n",
       "  'name': 'android'}]"
      ]
     },
     "execution_count": 14,
     "metadata": {},
     "output_type": "execute_result"
    }
   ],
   "source": [
    "data['items'][:5]"
   ]
  },
  {
   "cell_type": "markdown",
   "metadata": {},
   "source": [
    "The `items` member of the response can be given to pandas to create a data frame:"
   ]
  },
  {
   "cell_type": "code",
   "execution_count": 15,
   "metadata": {
    "collapsed": false
   },
   "outputs": [
    {
     "data": {
      "text/html": [
       "<div>\n",
       "<table border=\"1\" class=\"dataframe\">\n",
       "  <thead>\n",
       "    <tr style=\"text-align: right;\">\n",
       "      <th></th>\n",
       "      <th>count</th>\n",
       "      <th>has_synonyms</th>\n",
       "      <th>is_moderator_only</th>\n",
       "      <th>is_required</th>\n",
       "      <th>name</th>\n",
       "    </tr>\n",
       "  </thead>\n",
       "  <tbody>\n",
       "    <tr>\n",
       "      <th>0</th>\n",
       "      <td>1351014</td>\n",
       "      <td>True</td>\n",
       "      <td>False</td>\n",
       "      <td>False</td>\n",
       "      <td>javascript</td>\n",
       "    </tr>\n",
       "    <tr>\n",
       "      <th>1</th>\n",
       "      <td>1231592</td>\n",
       "      <td>True</td>\n",
       "      <td>False</td>\n",
       "      <td>False</td>\n",
       "      <td>java</td>\n",
       "    </tr>\n",
       "    <tr>\n",
       "      <th>2</th>\n",
       "      <td>1074859</td>\n",
       "      <td>True</td>\n",
       "      <td>False</td>\n",
       "      <td>False</td>\n",
       "      <td>c#</td>\n",
       "    </tr>\n",
       "    <tr>\n",
       "      <th>3</th>\n",
       "      <td>1054535</td>\n",
       "      <td>True</td>\n",
       "      <td>False</td>\n",
       "      <td>False</td>\n",
       "      <td>php</td>\n",
       "    </tr>\n",
       "    <tr>\n",
       "      <th>4</th>\n",
       "      <td>967096</td>\n",
       "      <td>True</td>\n",
       "      <td>False</td>\n",
       "      <td>False</td>\n",
       "      <td>android</td>\n",
       "    </tr>\n",
       "  </tbody>\n",
       "</table>\n",
       "</div>"
      ],
      "text/plain": [
       "     count has_synonyms is_moderator_only is_required        name\n",
       "0  1351014         True             False       False  javascript\n",
       "1  1231592         True             False       False        java\n",
       "2  1074859         True             False       False          c#\n",
       "3  1054535         True             False       False         php\n",
       "4   967096         True             False       False     android"
      ]
     },
     "execution_count": 15,
     "metadata": {},
     "output_type": "execute_result"
    }
   ],
   "source": [
    "df = pd.DataFrame(r.json()['items'])\n",
    "df.head()"
   ]
  },
  {
   "cell_type": "markdown",
   "metadata": {},
   "source": [
    "Let's see the rank of MATLAB and R in the list:"
   ]
  },
  {
   "cell_type": "code",
   "execution_count": 16,
   "metadata": {
    "collapsed": false
   },
   "outputs": [
    {
     "name": "stdout",
     "output_type": "stream",
     "text": [
      "R: 24\n",
      "MATLAB: 58\n"
     ]
    }
   ],
   "source": [
    "for i, d in enumerate(data['items']):\n",
    "    if d['name']=='r': print('R: {}'.format(i))\n",
    "    if d['name']=='matlab': print('MATLAB: {}'.format(i))"
   ]
  },
  {
   "cell_type": "markdown",
   "metadata": {},
   "source": [
    "Now let's take only the first 10 plus R and MATLAB:"
   ]
  },
  {
   "cell_type": "code",
   "execution_count": 17,
   "metadata": {
    "collapsed": false
   },
   "outputs": [
    {
     "data": {
      "text/html": [
       "<div>\n",
       "<table border=\"1\" class=\"dataframe\">\n",
       "  <thead>\n",
       "    <tr style=\"text-align: right;\">\n",
       "      <th></th>\n",
       "      <th>count</th>\n",
       "      <th>has_synonyms</th>\n",
       "      <th>is_moderator_only</th>\n",
       "      <th>is_required</th>\n",
       "      <th>name</th>\n",
       "    </tr>\n",
       "  </thead>\n",
       "  <tbody>\n",
       "    <tr>\n",
       "      <th>0</th>\n",
       "      <td>1351014</td>\n",
       "      <td>True</td>\n",
       "      <td>False</td>\n",
       "      <td>False</td>\n",
       "      <td>javascript</td>\n",
       "    </tr>\n",
       "    <tr>\n",
       "      <th>1</th>\n",
       "      <td>1231592</td>\n",
       "      <td>True</td>\n",
       "      <td>False</td>\n",
       "      <td>False</td>\n",
       "      <td>java</td>\n",
       "    </tr>\n",
       "    <tr>\n",
       "      <th>2</th>\n",
       "      <td>1074859</td>\n",
       "      <td>True</td>\n",
       "      <td>False</td>\n",
       "      <td>False</td>\n",
       "      <td>c#</td>\n",
       "    </tr>\n",
       "    <tr>\n",
       "      <th>3</th>\n",
       "      <td>1054535</td>\n",
       "      <td>True</td>\n",
       "      <td>False</td>\n",
       "      <td>False</td>\n",
       "      <td>php</td>\n",
       "    </tr>\n",
       "    <tr>\n",
       "      <th>4</th>\n",
       "      <td>967096</td>\n",
       "      <td>True</td>\n",
       "      <td>False</td>\n",
       "      <td>False</td>\n",
       "      <td>android</td>\n",
       "    </tr>\n",
       "    <tr>\n",
       "      <th>5</th>\n",
       "      <td>826567</td>\n",
       "      <td>True</td>\n",
       "      <td>False</td>\n",
       "      <td>False</td>\n",
       "      <td>jquery</td>\n",
       "    </tr>\n",
       "    <tr>\n",
       "      <th>6</th>\n",
       "      <td>723567</td>\n",
       "      <td>True</td>\n",
       "      <td>False</td>\n",
       "      <td>False</td>\n",
       "      <td>python</td>\n",
       "    </tr>\n",
       "    <tr>\n",
       "      <th>7</th>\n",
       "      <td>637114</td>\n",
       "      <td>True</td>\n",
       "      <td>False</td>\n",
       "      <td>False</td>\n",
       "      <td>html</td>\n",
       "    </tr>\n",
       "    <tr>\n",
       "      <th>8</th>\n",
       "      <td>504720</td>\n",
       "      <td>True</td>\n",
       "      <td>False</td>\n",
       "      <td>False</td>\n",
       "      <td>c++</td>\n",
       "    </tr>\n",
       "    <tr>\n",
       "      <th>9</th>\n",
       "      <td>498655</td>\n",
       "      <td>True</td>\n",
       "      <td>False</td>\n",
       "      <td>False</td>\n",
       "      <td>ios</td>\n",
       "    </tr>\n",
       "    <tr>\n",
       "      <th>24</th>\n",
       "      <td>176218</td>\n",
       "      <td>True</td>\n",
       "      <td>False</td>\n",
       "      <td>False</td>\n",
       "      <td>r</td>\n",
       "    </tr>\n",
       "    <tr>\n",
       "      <th>58</th>\n",
       "      <td>69896</td>\n",
       "      <td>True</td>\n",
       "      <td>False</td>\n",
       "      <td>False</td>\n",
       "      <td>matlab</td>\n",
       "    </tr>\n",
       "  </tbody>\n",
       "</table>\n",
       "</div>"
      ],
      "text/plain": [
       "      count has_synonyms is_moderator_only is_required        name\n",
       "0   1351014         True             False       False  javascript\n",
       "1   1231592         True             False       False        java\n",
       "2   1074859         True             False       False          c#\n",
       "3   1054535         True             False       False         php\n",
       "4    967096         True             False       False     android\n",
       "5    826567         True             False       False      jquery\n",
       "6    723567         True             False       False      python\n",
       "7    637114         True             False       False        html\n",
       "8    504720         True             False       False         c++\n",
       "9    498655         True             False       False         ios\n",
       "24   176218         True             False       False           r\n",
       "58    69896         True             False       False      matlab"
      ]
     },
     "execution_count": 17,
     "metadata": {},
     "output_type": "execute_result"
    }
   ],
   "source": [
    "df = pd.concat((df[:10], df[df['name']=='r'], df[df['name']=='matlab']))\n",
    "df.sort_values('count', ascending=False, inplace=True)\n",
    "df"
   ]
  },
  {
   "cell_type": "markdown",
   "metadata": {},
   "source": [
    "We find the indexes for `python`, `matlab`, and `r` in the `name` column in which "
   ]
  },
  {
   "cell_type": "code",
   "execution_count": 18,
   "metadata": {
    "collapsed": false
   },
   "outputs": [
    {
     "data": {
      "text/plain": [
       "(6, 11, 10)"
      ]
     },
     "execution_count": 18,
     "metadata": {},
     "output_type": "execute_result"
    }
   ],
   "source": [
    "names = df.name.tolist()\n",
    "python_idx = names.index('python')\n",
    "matlab_idx = names.index('matlab')\n",
    "r_idx = names.index('r')\n",
    "python_idx, matlab_idx, r_idx"
   ]
  },
  {
   "cell_type": "markdown",
   "metadata": {},
   "source": [
    "Finally, we plot a bat plot of the counts, and highlight the python and matlab bars by coloring them:"
   ]
  },
  {
   "cell_type": "code",
   "execution_count": 19,
   "metadata": {
    "collapsed": false
   },
   "outputs": [
    {
     "data": {
      "image/png": "[encoded data removed]",
      "text/plain": [
       "<matplotlib.figure.Figure at 0x112928e48>"
      ]
     },
     "metadata": {},
     "output_type": "display_data"
    }
   ],
   "source": [
    "ax = df.plot.barh('name', 'count', color='k')\n",
    "patches, labels = ax.get_legend_handles_labels()\n",
    "patches[0][python_idx].set_color('green')\n",
    "patches[0][matlab_idx].set_color('orange')\n",
    "patches[0][r_idx].set_color('blue')\n",
    "plt.ylabel('StackOverflow tag name')\n",
    "plt.xlabel('Count')\n",
    "plt.legend().set_visible(False)\n",
    "sns.despine()"
   ]
  },
  {
   "cell_type": "markdown",
   "metadata": {},
   "source": [
    "## Exercise\n",
    "\n",
    "Create a data frame for the matlab, numpy, scipy, and matplotlib-tagged questions, sort by `count`, and plot a bar plot to compare their counts.\n",
    "\n",
    "See [solution code](https://github.com/yoavram/Py4Eng/blob/master/solutions/requests-sof.py)."
   ]
  },
  {
   "cell_type": "code",
   "execution_count": 47,
   "metadata": {
    "collapsed": false
   },
   "outputs": [
    {
     "data": {
      "image/png": "[encoded data removed]",
      "text/plain": [
       "<matplotlib.figure.Figure at 0x9893240>"
      ]
     },
     "metadata": {},
     "output_type": "display_data"
    }
   ],
   "source": []
  },
  {
   "cell_type": "markdown",
   "metadata": {
    "collapsed": true
   },
   "source": [
    "## Colophon\n",
    "This notebook was written by [Yoav Ram](http://python.yoavram.com) and is part of the [_Python for Engineers_](https://github.com/yoavram/Py4Eng) course.\n",
    "\n",
    "The notebook was written using [Python](http://python.org/) 3.6.1.\n",
    "Dependencies listed in [environment.yml](../environment.yml), full versions in [environment_full.yml](../environment_full.yml).\n",
    "\n",
    "This work is licensed under a CC BY-NC-SA 4.0 International License.\n",
    "\n",
    "![Python logo](https://www.python.org/static/community_logos/python-logo.png)"
   ]
  }
 ],
 "metadata": {
  "kernelspec": {
   "display_name": "Python [default]",
   "language": "python",
   "name": "python3"
  },
  "language_info": {
   "codemirror_mode": {
    "name": "ipython",
    "version": 3
   },
   "file_extension": ".py",
   "mimetype": "text/x-python",
   "name": "python",
   "nbconvert_exporter": "python",
   "pygments_lexer": "ipython3",
   "version": "3.6.2"
  }
 },
 "nbformat": 4,
 "nbformat_minor": 0
}
