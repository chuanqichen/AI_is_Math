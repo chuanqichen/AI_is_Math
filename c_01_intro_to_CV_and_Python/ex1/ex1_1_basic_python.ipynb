{
 "cells": [
  {
   "cell_type": "markdown",
   "metadata": {},
   "source": [
    "# EX 1.1- basic python: Pyramid case\n",
    "Implement a function that get a string input and outputs the same word, only each odd char is lower\n",
    "case and each even letter is upper case\n",
    "You can assume that the input is a valid string which contains only english letters.\n"
   ]
  },
  {
   "cell_type": "code",
   "execution_count": null,
   "metadata": {},
   "outputs": [],
   "source": [
    "\n",
    "\n",
    "def pyramid_case(in_word):\n",
    "    # TODO: return the pyramid case word.\n",
    "    # WRITE IN 10 CODE LINES MAX!!!\n",
    "    pass\n",
    "\n"
   ]
  },
  {
   "cell_type": "code",
   "execution_count": null,
   "metadata": {},
   "outputs": [],
   "source": [
    "\n",
    "\n",
    "def pyramid_case_one_liner(in_word):\n",
    "    # TODO: ~~~BONUS~~~\n",
    "    # return the pyramid case word in one line of code inside the function.\n",
    "    # DO NOT USE \";\" IN YOUR CODE.\n",
    "    pass\n",
    "\n",
    "\n"
   ]
  },
  {
   "cell_type": "code",
   "execution_count": null,
   "metadata": {},
   "outputs": [],
   "source": [
    "# test functions here\n",
    "input_words = [\"hello\", \"world\", \"\", \"I\", \"am\", \"LEARNING\", \"Python\"]\n",
    "\n",
    "print(\"==== pyramid_case() results:\")\n",
    "for word in input_words:\n",
    "    print(pyramid_case(word))\n",
    "\n",
    "print(\"\\n==== pyramid_case_one_liner() results:\")\n",
    "for word in input_words:\n",
    "    print(pyramid_case_one_liner(word))\n",
    "\n",
    "\n"
   ]
  },
  {
   "cell_type": "code",
   "execution_count": null,
   "metadata": {},
   "outputs": [],
   "source": []
  }
 ],
 "metadata": {
  "kernelspec": {
   "display_name": "Python 3 (ipykernel)",
   "language": "python",
   "name": "python3"
  },
  "language_info": {
   "codemirror_mode": {
    "name": "ipython",
    "version": 3
   },
   "file_extension": ".py",
   "mimetype": "text/x-python",
   "name": "python",
   "nbconvert_exporter": "python",
   "pygments_lexer": "ipython3",
   "version": "3.8.10"
  }
 },
 "nbformat": 4,
 "nbformat_minor": 2
}
