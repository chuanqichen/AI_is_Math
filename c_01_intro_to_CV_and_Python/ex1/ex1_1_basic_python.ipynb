{
  "cells": [
    {
      "cell_type": "markdown",
      "metadata": {},
      "source": [
        "# EX 1.1- basic python: Pyramid case\n",
        "Implement a function that get a string input and outputs the same word, only each odd char is lower\n",
        "case and each even letter is upper case\n",
        "You can assume that the input is a valid string which contains only english letters.\n"
      ]
    },
    {
      "cell_type": "code",
      "execution_count": 7,
      "metadata": {},
      "outputs": [],
      "source": [
        "\n",
        "\n",
        "def pyramid_case(in_word):\n",
        "    # TODO: return the pyramid case word.\n",
        "    # WRITE IN 10 CODE LINES MAX!!!\n",
        "    list_word = list(in_word)\n",
        "    for i in range(len(list_word)):\n",
        "        if i%2 == 0: \n",
        "            list_word[i] = list_word[i].upper()\n",
        "        else:\n",
        "            list_word[i]= list_word[i].lower()\n",
        "\n",
        "    return \"\".join(list_word)\n",
        "\n"
      ]
    },
    {
      "cell_type": "code",
      "execution_count": 8,
      "metadata": {},
      "outputs": [],
      "source": [
        "\n",
        "\n",
        "def pyramid_case_one_liner(in_word):\n",
        "    # TODO: ~~~BONUS~~~\n",
        "    # return the pyramid case word in one line of code inside the function.\n",
        "    # DO NOT USE \";\" IN YOUR CODE.\n",
        "    return \"\".join([ in_word[i].upper() if i%2 ==0 else in_word[i].lower() for i in range(len(in_word))])\n",
        "\n",
        "\n"
      ]
    },
    {
      "cell_type": "code",
      "execution_count": 9,
      "metadata": {},
      "outputs": [
        {
          "name": "stdout",
          "output_type": "stream",
          "text": [
            "==== pyramid_case() results:\n",
            "HeLlO\n",
            "WoRlD\n",
            "\n",
            "I\n",
            "Am\n",
            "LeArNiNg\n",
            "PyThOn\n",
            "\n",
            "==== pyramid_case_one_liner() results:\n",
            "HeLlO\n",
            "WoRlD\n",
            "\n",
            "I\n",
            "Am\n",
            "LeArNiNg\n",
            "PyThOn\n"
          ]
        }
      ],
      "source": [
        "# test functions here\n",
        "input_words = [\"hello\", \"world\", \"\", \"I\", \"am\", \"LEARNING\", \"Python\"]\n",
        "\n",
        "print(\"==== pyramid_case() results:\")\n",
        "for word in input_words:\n",
        "    print(pyramid_case(word))\n",
        "\n",
        "print(\"\\n==== pyramid_case_one_liner() results:\")\n",
        "for word in input_words:\n",
        "    print(pyramid_case_one_liner(word))\n",
        "\n",
        "\n"
      ]
    },
    {
      "cell_type": "code",
      "execution_count": null,
      "metadata": {},
      "outputs": [],
      "source": []
    }
  ],
  "metadata": {
    "kernelspec": {
      "display_name": "Python 3.8.10 64-bit",
      "language": "python",
      "name": "python3"
    },
    "language_info": {
      "codemirror_mode": {
        "name": "ipython",
        "version": 3
      },
      "file_extension": ".py",
      "mimetype": "text/x-python",
      "name": "python",
      "nbconvert_exporter": "python",
      "pygments_lexer": "ipython3",
      "version": "3.8.10"
    },
    "vscode": {
      "interpreter": {
        "hash": "916dbcbb3f70747c44a77c7bcd40155683ae19c65e1c03b4aa3499c5328201f1"
      }
    }
  },
  "nbformat": 4,
  "nbformat_minor": 2
}
