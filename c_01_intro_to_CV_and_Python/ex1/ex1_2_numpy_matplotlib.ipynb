{
 "cells": [
  {
   "cell_type": "markdown",
   "metadata": {},
   "source": [
    "# EX 1.2- Numpy & Matplotlib: Build pyramid\n",
    "Correct the mistakes below to reveal the pyramid drawing\n",
    "This ex. is meant to enhance your debugging skills.\n"
   ]
  },
  {
   "cell_type": "code",
   "execution_count": 1,
   "metadata": {},
   "outputs": [],
   "source": [
    "\n",
    "import numpy as np\n",
    "import matplotlib.pyplot as plt\n",
    "\n"
   ]
  },
  {
   "cell_type": "code",
   "execution_count": 84,
   "metadata": {},
   "outputs": [],
   "source": [
    "\n",
    "\n",
    "def half_pyramid(pyramid_size):\n",
    "    # building one half of the pyramid\n",
    "    # THIS FUNCTION IS CORRECT! DO NOT TOUCH\n",
    "    y = np.concatenate(\n",
    "        (np.zeros(pyramid_size), np.arange(pyramid_size))).reshape(1, -1)\n",
    "    x = np.arange(y.shape[1]).reshape(1, -1)\n",
    "    return np.concatenate((x, y), axis=0)\n",
    "\n"
   ]
  },
  {
   "cell_type": "code",
   "execution_count": 87,
   "metadata": {},
   "outputs": [],
   "source": [
    "\n",
    "\n",
    "def build_pyramid(pyramid_size):\n",
    "    xy_first_half = half_pyramid(pyramid_size)\n",
    "    \n",
    "    # TODO: in the 3 lines of code below 3 mistakes were made.\n",
    "    #  correct the mistakes to reveal the correct plot.\n",
    "    #  try to keep as much from the original code as-is, so don't re-write the entire 3 lines\n",
    "    #xy_other_half = np.array(\n",
    "    #    [xy_first_half[0, :] + xy_first_half[0, :].max(), xy_first_half[1, :]])\n",
    "\n",
    "    xy_other_half = np.array(\n",
    "        [-xy_first_half[0, :] + 2*xy_first_half[0, :].max(), xy_first_half[1, :]])\n",
    "    xy_full = np.concatenate((np.flip(xy_other_half, 1), xy_first_half), axis=1)\n",
    "    plt.plot(xy_full[0, :], xy_full[1, :])\n",
    "\n",
    "\n"
   ]
  },
  {
   "cell_type": "code",
   "execution_count": 86,
   "metadata": {},
   "outputs": [
    {
     "data": {
      "image/png": "[encoded data removed]",
      "text/plain": [
       "<Figure size 432x288 with 1 Axes>"
      ]
     },
     "metadata": {
      "needs_background": "light"
     },
     "output_type": "display_data"
    }
   ],
   "source": [
    "pyramid_sizes = [50]\n",
    "pyramid_sizes = [10, 50, 90, 140]\n",
    "\n",
    "plt.figure()\n",
    "for sz in pyramid_sizes:\n",
    "    build_pyramid(sz)\n",
    "plt.title(\"my pyramids\")\n",
    "plt.axis('scaled')\n",
    "plt.show()"
   ]
  },
  {
   "cell_type": "code",
   "execution_count": null,
   "metadata": {},
   "outputs": [],
   "source": []
  }
 ],
 "metadata": {
  "kernelspec": {
   "display_name": "Python 3 (ipykernel)",
   "language": "python",
   "name": "python3"
  },
  "language_info": {
   "codemirror_mode": {
    "name": "ipython",
    "version": 3
   },
   "file_extension": ".py",
   "mimetype": "text/x-python",
   "name": "python",
   "nbconvert_exporter": "python",
   "pygments_lexer": "ipython3",
   "version": "3.8.10"
  }
 },
 "nbformat": 4,
 "nbformat_minor": 2
}
