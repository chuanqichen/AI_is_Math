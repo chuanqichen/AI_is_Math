{
  "cells": [
    {
      "cell_type": "markdown",
      "metadata": {},
      "source": [
        "# EX 1.3- Opencv: forest pyramid\n"
      ]
    },
    {
      "cell_type": "code",
      "execution_count": null,
      "metadata": {},
      "outputs": [],
      "source": [
        "# to run in google colab\n",
        "import sys\n",
        "if 'google.colab' in sys.modules:\n",
        "    import subprocess\n",
        "    subprocess.call('apt-get install subversion'.split())\n",
        "    subprocess.call('svn export https://github.com/YoniChechik/AI_is_Math/trunk/c_01_intro_to_CV_and_Python/ex1/forest.jpg'.split())\n",
        "    subprocess.call('svn export https://github.com/YoniChechik/AI_is_Math/trunk/c_01_intro_to_CV_and_Python/ex1/pyramids.png'.split())\n",
        "    \n"
      ]
    },
    {
      "cell_type": "code",
      "execution_count": null,
      "metadata": {},
      "outputs": [],
      "source": [
        "import numpy as np\n",
        "import matplotlib.pyplot as plt\n",
        "import cv2\n"
      ]
    },
    {
      "cell_type": "code",
      "execution_count": null,
      "metadata": {},
      "outputs": [],
      "source": [
        "\n",
        "forest_img = cv2.imread(\"forest.jpg\")\n",
        "pyramid_img = cv2.imread(\"pyramids.png\")\n",
        "pyramid_img = cv2.cvtColor(pyramid_img,cv2.COLOR_BGR2GRAY)\n",
        "forest_img = cv2.cvtColor(forest_img,cv2.COLOR_BGR2GRAY)\n",
        "\n"
      ]
    },
    {
      "cell_type": "code",
      "execution_count": null,
      "metadata": {},
      "outputs": [],
      "source": [
        "# TODO: your goal is to build the pyramids in the forest!\n",
        "#  Hints to think about:\n",
        "#  - are the images the same size?\n",
        "#  - How to mask/overlay the pixels from pyramids image to forest image (use numpy masks that we've seen in the numpy notebook!!!)\n",
        "#\n",
        "#  TODO: this section can be done in 3-5 lines of nice looking code, try not to write more then 10 lines here.\n",
        "res_im = []\n",
        "\n"
      ]
    },
    {
      "cell_type": "code",
      "execution_count": null,
      "metadata": {},
      "outputs": [],
      "source": [
        "plt.figure()\n",
        "plt.imshow(res_im, cmap='gray', vmin=0, vmax=255)\n",
        "plt.show()\n"
      ]
    },
    {
      "cell_type": "code",
      "execution_count": null,
      "metadata": {},
      "outputs": [],
      "source": []
    }
  ],
  "metadata": {
    "kernelspec": {
      "display_name": "Python 3.8.10 64-bit",
      "language": "python",
      "name": "python3"
    },
    "language_info": {
      "codemirror_mode": {
        "name": "ipython",
        "version": 3
      },
      "file_extension": ".py",
      "mimetype": "text/x-python",
      "name": "python",
      "nbconvert_exporter": "python",
      "pygments_lexer": "ipython3",
      "version": "3.8.10"
    },
    "vscode": {
      "interpreter": {
        "hash": "916dbcbb3f70747c44a77c7bcd40155683ae19c65e1c03b4aa3499c5328201f1"
      }
    }
  },
  "nbformat": 4,
  "nbformat_minor": 2
}
