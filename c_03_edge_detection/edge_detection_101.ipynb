{
 "cells": [
  {
   "cell_type": "markdown",
   "metadata": {},
   "source": [
    "# Edge detection\n",
    "[![Open In Colab](https://colab.research.google.com/assets/colab-badge.svg)](https://colab.research.google.com/github/YoniChechik/AI_is_Math/blob/master/c_03_edge_detection/edge_detection.ipynb)\n",
    "\n"
   ]
  },
  {
   "cell_type": "code",
   "execution_count": null,
   "metadata": {
    "execution": {
     "iopub.execute_input": "2021-11-04T18:36:30.069075Z",
     "iopub.status.busy": "2021-11-04T18:36:30.060270Z",
     "iopub.status.idle": "2021-11-04T18:36:30.866491Z",
     "shell.execute_reply": "2021-11-04T18:36:30.865432Z"
    }
   },
   "outputs": [],
   "source": [
    "# to run in google colab\n",
    "import sys\n",
    "\n",
    "if \"google.colab\" in sys.modules:\n",
    "    import subprocess\n",
    "\n",
    "    subprocess.call(\"apt-get install subversion\".split())\n",
    "    subprocess.call(\n",
    "        \"svn export https://github.com/YoniChechik/AI_is_Math/trunk/c_03_edge_detection/Bikesgray.jpg\".split()\n",
    "    )\n",
    "\n",
    "# save plotly as html frames\n",
    "import plotly.io as pio\n",
    "\n",
    "if (pio.renderers.default != \"vscode\") & (pio.renderers.default != \"colab\"):\n",
    "    pio.renderers.default = \"iframe_connected\"\n"
   ]
  },
  {
   "cell_type": "code",
   "execution_count": null,
   "metadata": {
    "execution": {
     "iopub.execute_input": "2021-11-04T18:36:30.879192Z",
     "iopub.status.busy": "2021-11-04T18:36:30.877568Z",
     "iopub.status.idle": "2021-11-04T18:36:33.818504Z",
     "shell.execute_reply": "2021-11-04T18:36:33.817504Z"
    }
   },
   "outputs": [],
   "source": [
    "import numpy as np\n",
    "import cv2\n",
    "from matplotlib import pyplot as plt\n",
    "import plotly.express as px\n",
    "\n",
    "figsize = (10, 10)\n",
    "\n"
   ]
  },
  {
   "cell_type": "markdown",
   "metadata": {},
   "source": [
    "## Original image\n"
   ]
  },
  {
   "cell_type": "code",
   "execution_count": null,
   "metadata": {
    "execution": {
     "iopub.execute_input": "2021-11-04T18:36:33.830007Z",
     "iopub.status.busy": "2021-11-04T18:36:33.827581Z",
     "iopub.status.idle": "2021-11-04T18:36:34.571194Z",
     "shell.execute_reply": "2021-11-04T18:36:34.571194Z"
    }
   },
   "outputs": [],
   "source": [
    "img = cv2.imread(\"Bikesgray.jpg\")\n",
    "img = cv2.cvtColor(img, cv2.COLOR_BGR2GRAY)\n",
    "plt.figure(figsize=figsize)\n",
    "plt.imshow(img, cmap=\"gray\", vmin=0, vmax=255)\n",
    "plt.title(\"Original image\")\n",
    "plt.show()\n",
    "\n",
    "\n"
   ]
  },
  {
   "cell_type": "markdown",
   "metadata": {},
   "source": [
    "## Edge Detection Using Sobel Operators\n",
    "\n"
   ]
  },
  {
   "cell_type": "markdown",
   "metadata": {},
   "source": [
    "### Vertical Edge"
   ]
  },
  {
   "cell_type": "markdown",
   "metadata": {},
   "source": []
  },
  {
   "cell_type": "code",
   "execution_count": null,
   "metadata": {
    "execution": {
     "iopub.execute_input": "2021-11-04T18:36:34.601992Z",
     "iopub.status.busy": "2021-11-04T18:36:34.589773Z",
     "iopub.status.idle": "2021-11-04T18:36:37.310105Z",
     "shell.execute_reply": "2021-11-04T18:36:37.309104Z"
    }
   },
   "outputs": [],
   "source": [
    "img = img.astype(float)\n",
    "\n",
    "kernel = 1 / 8 * np.array([[-1, 0, +1], [-2, 0, +2], [-1, 0, +1]])\n",
    "print(kernel)\n",
    "sobel_x = cv2.filter2D(img, -1, kernel)\n",
    "plt.figure(figsize=figsize)\n",
    "plt.imshow(sobel_x, cmap='gray')\n"
   ]
  },
  {
   "cell_type": "markdown",
   "metadata": {},
   "source": [
    "### Horizontal Edge"
   ]
  },
  {
   "cell_type": "code",
   "execution_count": null,
   "metadata": {},
   "outputs": [],
   "source": [
    "kernel = kernel.T\n",
    "print(kernel)\n",
    "sobel_y = cv2.filter2D(img, -1, kernel)\n",
    "plt.figure(figsize=figsize)\n",
    "plt.imshow(sobel_y, cmap='gray')"
   ]
  },
  {
   "cell_type": "code",
   "execution_count": null,
   "metadata": {},
   "outputs": [],
   "source": [
    "mag_img = np.sqrt(sobel_x ** 2 + sobel_y ** 2)\n",
    "plt.figure(figsize=figsize)\n",
    "plt.imshow(mag_img, cmap='gray')"
   ]
  },
  {
   "cell_type": "markdown",
   "metadata": {},
   "source": [
    "### Homework\n",
    "Above section \"Edge Detection Using Sobel Operators\" shows how sobel operator works in depth, now let's just call opencv's function:  \n",
    "Sobel(\tsrc, ddepth, dx, dy[, dst[, ksize[, scale[, delta[, borderType]]]]]\t) ->\tdst to do the same edge detection in multiple same steps\n",
    "\n",
    "Refer to: c_01_intro_to_CV_and_Python/introduction-to-opencv/notebooks/2-Image_stats_and_image_processing.ipynb\n",
    "```\n",
    "sobelimage=cv2.cvtColor(input_image,cv2.COLOR_BGR2GRAY)\n",
    "sobelx = cv2.Sobel(sobelimage,cv2.CV_64F,1,0,ksize=9)\n",
    "sobely = cv2.Sobel(sobelimage,cv2.CV_64F,0,1,ksize=9)\n",
    "plt.imshow(sobelx,cmap = 'gray') \n",
    "```\n"
   ]
  },
  {
   "cell_type": "markdown",
   "metadata": {},
   "source": [
    "## <font color=\"red\">TODO: Your Code below, feel free to add more blocks by clicking '+ Code\" </font>"
   ]
  },
  {
   "cell_type": "code",
   "execution_count": null,
   "metadata": {},
   "outputs": [],
   "source": []
  },
  {
   "cell_type": "markdown",
   "metadata": {},
   "source": [
    "## cv2 Canny\n",
    "let's see the results from the default canny of cv2\n"
   ]
  },
  {
   "cell_type": "code",
   "execution_count": null,
   "metadata": {
    "execution": {
     "iopub.execute_input": "2021-11-04T18:36:44.683834Z",
     "iopub.status.busy": "2021-11-04T18:36:44.682792Z",
     "iopub.status.idle": "2021-11-04T18:36:44.807822Z",
     "shell.execute_reply": "2021-11-04T18:36:44.806821Z"
    }
   },
   "outputs": [],
   "source": [
    "res = cv2.Canny(img.astype(np.uint8), 105, 120)\n",
    "plt.figure(figsize=figsize)\n",
    "plt.imshow(res, cmap='gray')"
   ]
  }
 ],
 "metadata": {
  "kernelspec": {
   "display_name": "Python 3.8.10 64-bit",
   "language": "python",
   "name": "python3"
  },
  "language_info": {
   "codemirror_mode": {
    "name": "ipython",
    "version": 3
   },
   "file_extension": ".py",
   "mimetype": "text/x-python",
   "name": "python",
   "nbconvert_exporter": "python",
   "pygments_lexer": "ipython3",
   "version": "3.8.10"
  },
  "vscode": {
   "interpreter": {
    "hash": "916dbcbb3f70747c44a77c7bcd40155683ae19c65e1c03b4aa3499c5328201f1"
   }
  }
 },
 "nbformat": 4,
 "nbformat_minor": 2
}
