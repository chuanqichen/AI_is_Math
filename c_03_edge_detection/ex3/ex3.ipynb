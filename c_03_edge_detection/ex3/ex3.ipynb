{
  "cells": [
    {
      "cell_type": "code",
      "execution_count": null,
      "metadata": {},
      "outputs": [],
      "source": [
        "# to run in google colab\n",
        "import sys\n",
        "\n",
        "if \"google.colab\" in sys.modules:\n",
        "    import subprocess\n",
        "\n",
        "    subprocess.call(\"apt-get install subversion\".split())\n",
        "    subprocess.call(\n",
        "        \"svn export https://github.com/YoniChechik/AI_is_Math/trunk/c_03_edge_detection/ex3/butterfly_noisy.jpg\".split()\n",
        "    )\n",
        "\n"
      ]
    },
    {
      "cell_type": "code",
      "execution_count": null,
      "metadata": {},
      "outputs": [],
      "source": [
        "import numpy as np\n",
        "import matplotlib.pyplot as plt\n",
        "import cv2\n",
        "\n",
        "figsize = (10, 10)\n",
        "\n"
      ]
    },
    {
      "cell_type": "code",
      "execution_count": null,
      "metadata": {},
      "outputs": [],
      "source": [
        "def unnormalized_gaussian(x, sigma):\n",
        "    # TODO: helper function for calculating exponent of (-x) divided by two sigma (one line)\n",
        "    return None\n",
        "\n",
        "\n",
        "def distance(x, y, i, j):\n",
        "    # TODO: get L2 distance function between two points - helper function for calculating \"g_s\" (one line)\n",
        "    return None\n",
        "\n",
        "\n"
      ]
    },
    {
      "cell_type": "code",
      "execution_count": null,
      "metadata": {},
      "outputs": [],
      "source": [
        "def bilateral_one_pixel(source, x, y, d, sigma_r, sigma_s):\n",
        "    # === init vars\n",
        "    filtered_pix = 0\n",
        "    Wp = 0\n",
        "\n",
        "    # TODO:\n",
        "    # 1. run on all neighboors (~3 lines)\n",
        "    # 2. if neighboor out of matrix indices - don't count him in your computation (~2 lines)\n",
        "    # 3. find filtered_pix (~6 lines)\n",
        "\n",
        "    # make result uint8\n",
        "    filtered_pix = np.clip(filtered_pix, 0, 255).astype(np.uint8)\n",
        "    return filtered_pix\n",
        "\n",
        "\n"
      ]
    },
    {
      "cell_type": "code",
      "execution_count": null,
      "metadata": {},
      "outputs": [],
      "source": [
        "def bilateral_filter(source, d, sigma_r, sigma_s):\n",
        "\n",
        "    # build empty filtered_image\n",
        "    filtered_image = np.zeros(source.shape, np.uint8)\n",
        "    # make input float\n",
        "    source = source.astype(float)\n",
        "    # d must be odd!\n",
        "    assert d % 2 == 1, \"d input must be odd\"\n",
        "\n",
        "    # TODO: run on all pixels with bilateral_one_pixel(...) (~4 lines)\n",
        "\n",
        "    return filtered_image\n",
        "\n",
        "\n"
      ]
    },
    {
      "cell_type": "code",
      "execution_count": null,
      "metadata": {},
      "outputs": [],
      "source": [
        "# upload noisy image\n",
        "src = cv2.imread(\"butterfly_noisy.jpg\")\n",
        "src = cv2.cvtColor(src, cv2.COLOR_BGR2GRAY)\n",
        "\n",
        "plt.figure(figsize=(10, 10))\n",
        "plt.imshow(src, cmap=\"gray\", vmin=0, vmax=255)\n",
        "plt.colorbar()\n",
        "plt.show()\n",
        "\n"
      ]
    },
    {
      "cell_type": "code",
      "execution_count": null,
      "metadata": {},
      "outputs": [],
      "source": [
        "# run bilateral_filter(...)\n",
        "d = 5  # edge size of neighborhood perimeter\n",
        "sigma_r = 12  # sigma range\n",
        "sigma_s = 16  # sigma spatial\n",
        "\n",
        "filtered_image = bilateral_filter(src, d, sigma_r, sigma_s)\n",
        "\n",
        "plt.figure(figsize=(10, 10))\n",
        "plt.imshow(filtered_image)\n",
        "plt.colorbar()\n",
        "plt.show()\n",
        "\n"
      ]
    },
    {
      "cell_type": "code",
      "execution_count": null,
      "metadata": {},
      "outputs": [],
      "source": [
        "# compare to opencv\n",
        "filtered_image_OpenCV = cv2.bilateralFilter(src, d, sigma_r, sigma_s)\n",
        "\n",
        "plt.figure(figsize=(10, 10))\n",
        "plt.imshow(filtered_image_OpenCV)\n",
        "plt.colorbar()\n",
        "plt.show()\n",
        "\n"
      ]
    },
    {
      "cell_type": "code",
      "execution_count": null,
      "metadata": {},
      "outputs": [],
      "source": [
        "# compare to regular gaussian blur\n",
        "blur = cv2.GaussianBlur(src, (d, d), sigma_s)\n",
        "plt.figure(figsize=(10, 10))\n",
        "plt.imshow(blur)\n",
        "plt.colorbar()\n",
        "plt.show()\n",
        "\n"
      ]
    },
    {
      "cell_type": "code",
      "execution_count": null,
      "metadata": {},
      "outputs": [],
      "source": [
        "# copare canny results between the two images\n",
        "th_low = 100\n",
        "th_high = 200\n",
        "res = cv2.Canny(filtered_image, th_low, th_high)\n",
        "plt.figure(figsize=(10, 10))\n",
        "plt.imshow(res)\n",
        "plt.colorbar()\n",
        "plt.show()\n",
        "\n",
        "res = cv2.Canny(src, th_low, th_high)\n",
        "plt.figure(figsize=(10, 10))\n",
        "plt.imshow(res)\n",
        "plt.colorbar()\n",
        "plt.show()\n"
      ]
    }
  ],
  "metadata": {
    "kernelspec": {
      "display_name": "Python 3.8.10 64-bit",
      "language": "python",
      "name": "python3"
    },
    "language_info": {
      "codemirror_mode": {
        "name": "ipython",
        "version": 3
      },
      "file_extension": ".py",
      "mimetype": "text/x-python",
      "name": "python",
      "nbconvert_exporter": "python",
      "pygments_lexer": "ipython3",
      "version": "3.8.10"
    },
    "vscode": {
      "interpreter": {
        "hash": "916dbcbb3f70747c44a77c7bcd40155683ae19c65e1c03b4aa3499c5328201f1"
      }
    }
  },
  "nbformat": 4,
  "nbformat_minor": 2
}
