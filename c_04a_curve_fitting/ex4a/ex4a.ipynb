{
  "cells": [
    {
      "cell_type": "markdown",
      "metadata": {},
      "source": [
        "# EX4a: Vignetting \n",
        "In photography and optics, vignetting is a reduction of an \n",
        "image's brightness or saturation toward the periphery compared \n",
        "to the image center.\n",
        "\n",
        "Mechanical vignetting (for example) occurs when light beams emanating from \n",
        "object points located off-axis are partially blocked by \n",
        "external objects such as thick or stacked filters, secondary \n",
        "lenses, and improper lens hoods. [Wikipedia]\n",
        "\n",
        "Read more about it here:\n",
        "\n",
        "https://en.wikipedia.org/wiki/Vignetting\n",
        "\n",
        "https://photographylife.com/what-is-vignetting\n",
        "\n",
        "You are an algorithm engineer in a new cutting-edge camera \n",
        "startup with a new problem of automatically correct vignetting problems.\n",
        "The team wants to correct the vignetting problem no metter what other lenses\n",
        "or lens hoods the user is putting on the camera.\n",
        "\n",
        "Each time the user switches to a new setup, he needs to calibrate the camera\n",
        "by shooting a white wall (calib_im*.jpg).\n",
        "The method you came up with is using least-squares to correct the image\n",
        "from the given calibration map, by taking the beta params (least squares params)\n",
        "and applying it back to each shot image later.\n",
        "\n"
      ]
    },
    {
      "cell_type": "code",
      "execution_count": null,
      "metadata": {},
      "outputs": [],
      "source": [
        "# to run in google colab\n",
        "import sys\n",
        "if 'google.colab' in sys.modules:\n",
        "    import subprocess \n",
        "    subprocess.call('apt-get install subversion'.split())\n",
        "    subprocess.call('svn export https://github.com/YoniChechik/AI_is_Math/trunk/c_04a_curve_fitting/ex4a/calib_im1.jpg'.split())\n",
        "    subprocess.call('svn export https://github.com/YoniChechik/AI_is_Math/trunk/c_04a_curve_fitting/ex4a/calib_im2.jpg'.split())\n",
        "    subprocess.call('svn export https://github.com/YoniChechik/AI_is_Math/trunk/c_04a_curve_fitting/ex4a/calib_im3.jpg'.split())\n",
        "    subprocess.call('svn export https://github.com/YoniChechik/AI_is_Math/trunk/c_04a_curve_fitting/ex4a/vignette_im1.jpg'.split())\n",
        "    subprocess.call('svn export https://github.com/YoniChechik/AI_is_Math/trunk/c_04a_curve_fitting/ex4a/vignette_im2.jpg'.split())\n",
        "    subprocess.call('svn export https://github.com/YoniChechik/AI_is_Math/trunk/c_04a_curve_fitting/ex4a/vignette_im3.jpg'.split())\n",
        "\n",
        "\n"
      ]
    },
    {
      "cell_type": "code",
      "execution_count": null,
      "metadata": {},
      "outputs": [],
      "source": [
        "import numpy as np\n",
        "import matplotlib.pyplot as plt\n",
        "import cv2\n",
        "\n",
        "figsize = (10, 10)\n",
        "\n"
      ]
    },
    {
      "cell_type": "code",
      "execution_count": null,
      "metadata": {},
      "outputs": [],
      "source": [
        "def build_A(im_shape):\n",
        "    # building A from the indices of the image shape.\n",
        "    # This is hard-coded block of code in the camera\n",
        "    # that once out of the factory can't be changed.\n",
        "\n",
        "    # TODO: get X,Y index for each pixel in a matrix:\n",
        "    # use np.meshgrid()\n",
        "    # ~ one line\n",
        "    X, Y = None, None\n",
        "\n",
        "    # TODO: transform to x,y column vectors\n",
        "    x = None\n",
        "    y = None\n",
        "    \n",
        "    # A is the raw dataset from which we will reconstruct the calib map\n",
        "    # A@b = calib_map\n",
        "    # TODO: build A using x,y and function of them\n",
        "    # hint: use np.concatenate()\n",
        "    # this is only one line, but a hard one\n",
        "    A = None\n",
        "    return A\n",
        "\n"
      ]
    },
    {
      "cell_type": "code",
      "execution_count": null,
      "metadata": {},
      "outputs": [],
      "source": [
        "def get_calib_coeffs(calib_map):\n",
        "    # This is the calibration function when he user switches lenses.\n",
        "    # Since it's memory consuming to save the intire calib map,\n",
        "    # we will save only a parametric representation of it using A,b\n",
        "\n",
        "    # TODO: transform calib_map to column veot for least-squares\n",
        "    # one line\n",
        "    z = None\n",
        "\n",
        "    # build A\n",
        "    A = build_A(calib_map.shape)\n",
        "\n",
        "    # TODO: use least-squares to find the beta params for later use.\n",
        "    # one line\n",
        "    b = None\n",
        "\n",
        "    return b\n",
        "\n"
      ]
    },
    {
      "cell_type": "code",
      "execution_count": null,
      "metadata": {},
      "outputs": [],
      "source": [
        "\n",
        "def fix_raw_im(b,vig_im):\n",
        "    # Each image taken is passed through this block to correct for vignetting\n",
        "\n",
        "    # build data matrix A\n",
        "    im_shape_yx = (vig_im.shape[0],vig_im.shape[1])\n",
        "    A = build_A(im_shape_yx)\n",
        "\n",
        "    # TODO: build reconstructed calib map using b params from calibration step\n",
        "    # use A,b (this is the LS part!!!)\n",
        "    # one line\n",
        "    rec1d = None\n",
        "\n",
        "    # transform into 2d image\n",
        "    rec_calib_map = rec1d.reshape(im_shape_yx)\n",
        "    rec_calib_map_3d = np.transpose(np.tile(rec_calib_map,(3,1,1)),(1,2,0))\n",
        "\n",
        "    # TODO: apply calib_map to image to get fixed result\n",
        "    # one line\n",
        "    res = None\n",
        "\n",
        "    return res, rec_calib_map\n",
        "\n",
        "\n"
      ]
    },
    {
      "cell_type": "code",
      "execution_count": null,
      "metadata": {},
      "outputs": [],
      "source": [
        "def calib_testing(calib_map,rec_calib_map):\n",
        "    # test your calib map reconstruction relative to the original \n",
        "    # calib map\n",
        "    # this is just for testing in the lab, not for the end user...\n",
        "\n",
        "    # TODO:what is the RMSE of the reconstruction?\n",
        "    # one line\n",
        "    rmse = None\n",
        "\n",
        "    # TODO: print L1 map of reconstruction\n",
        "    # one line\n",
        "    abs_error_map = None\n",
        "\n",
        "    plt.figure(figsize=figsize)\n",
        "    plt.imshow(abs_error_map)\n",
        "    plt.colorbar()\n",
        "    plt.title(\"rmse error is \"+str(rmse)+\". L1 map:\") \n",
        "    plt.show()\n",
        "\n",
        "\n"
      ]
    },
    {
      "cell_type": "code",
      "execution_count": null,
      "metadata": {},
      "outputs": [],
      "source": [
        "if __name__ is \"__main__\":\n",
        "    for i in range(3):\n",
        "        calib_im = cv2.imread(\"calib_im\"+str(i+1)+\".jpg\")\n",
        "        calib_im = cv2.cvtColor(calib_im,cv2.COLOR_BGR2GRAY)\n",
        "        calib_map = calib_im.astype(float)/255\n",
        "\n",
        "        vig_im = cv2.imread(\"vignette_im\"+str(i+1)+\".jpg\")\n",
        "        vig_im = cv2.cvtColor(vig_im,cv2.COLOR_BGR2RGB)\n",
        "\n",
        "        b = get_calib_coeffs(calib_map)\n",
        "        res, rec_calib_map = fix_raw_im(b,vig_im)\n",
        "\n",
        "        plt.figure(figsize=figsize)\n",
        "        plt.imshow(vig_im)\n",
        "        plt.title(\"original image\")\n",
        "        plt.show()\n",
        "\n",
        "        plt.figure(figsize=figsize)\n",
        "        plt.imshow(res)\n",
        "        plt.title(\"fixed image\")\n",
        "        plt.show()\n",
        "\n",
        "        calib_testing(calib_map,rec_calib_map)\n",
        "\n"
      ]
    },
    {
      "cell_type": "code",
      "execution_count": null,
      "metadata": {},
      "outputs": [],
      "source": []
    }
  ],
  "metadata": {
    "kernelspec": {
      "display_name": "Python 3.8.10 64-bit",
      "language": "python",
      "name": "python3"
    },
    "language_info": {
      "codemirror_mode": {
        "name": "ipython",
        "version": 3
      },
      "file_extension": ".py",
      "mimetype": "text/x-python",
      "name": "python",
      "nbconvert_exporter": "python",
      "pygments_lexer": "ipython3",
      "version": "3.8.10"
    },
    "vscode": {
      "interpreter": {
        "hash": "916dbcbb3f70747c44a77c7bcd40155683ae19c65e1c03b4aa3499c5328201f1"
      }
    }
  },
  "nbformat": 4,
  "nbformat_minor": 2
}
