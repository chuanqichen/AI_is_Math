{
  "cells": [
    {
      "cell_type": "code",
      "execution_count": null,
      "metadata": {
        "collapsed": false
      },
      "outputs": [],
      "source": [
        "%matplotlib inline"
      ]
    },
    {
      "cell_type": "markdown",
      "metadata": {},
      "source": [
        "\n",
        "# Robust linear model estimation using RANSAC\n",
        "\n",
        "In this example we see how to robustly fit a linear model to faulty data using\n",
        "the RANSAC algorithm.\n"
      ]
    },
    {
      "cell_type": "code",
      "execution_count": null,
      "metadata": {
        "collapsed": false
      },
      "outputs": [],
      "source": [
        "import numpy as np\n",
        "from matplotlib import pyplot as plt\n",
        "\n",
        "from sklearn import linear_model, datasets\n",
        "\n",
        "\n",
        "n_samples = 1000\n",
        "n_outliers = 50\n",
        "\n",
        "\n",
        "X, y, coef = datasets.make_regression(\n",
        "    n_samples=n_samples,\n",
        "    n_features=1,\n",
        "    n_informative=1,\n",
        "    noise=10,\n",
        "    coef=True,\n",
        "    random_state=0,\n",
        ")\n",
        "\n",
        "# Add outlier data\n",
        "np.random.seed(0)\n",
        "X[:n_outliers] = 3 + 0.5 * np.random.normal(size=(n_outliers, 1))\n",
        "y[:n_outliers] = -3 + 10 * np.random.normal(size=n_outliers)\n",
        "\n",
        "# Fit line using all data\n",
        "lr = linear_model.LinearRegression()\n",
        "lr.fit(X, y)\n",
        "\n",
        "# Robustly fit linear model with RANSAC algorithm\n",
        "ransac = linear_model.RANSACRegressor()\n",
        "ransac.fit(X, y)\n",
        "inlier_mask = ransac.inlier_mask_\n",
        "outlier_mask = np.logical_not(inlier_mask)\n",
        "\n",
        "# Predict data of estimated models\n",
        "line_X = np.arange(X.min(), X.max())[:, np.newaxis]\n",
        "line_y = lr.predict(line_X)\n",
        "line_y_ransac = ransac.predict(line_X)\n",
        "\n",
        "# Compare estimated coefficients\n",
        "print(\"Estimated coefficients (true, linear regression, RANSAC):\")\n",
        "print(coef, lr.coef_, ransac.estimator_.coef_)\n",
        "\n",
        "lw = 2\n",
        "plt.scatter(\n",
        "    X[inlier_mask], y[inlier_mask], color=\"yellowgreen\", marker=\".\", label=\"Inliers\"\n",
        ")\n",
        "plt.scatter(\n",
        "    X[outlier_mask], y[outlier_mask], color=\"gold\", marker=\".\", label=\"Outliers\"\n",
        ")\n",
        "plt.plot(line_X, line_y, color=\"navy\", linewidth=lw, label=\"Linear regressor\")\n",
        "plt.plot(\n",
        "    line_X,\n",
        "    line_y_ransac,\n",
        "    color=\"cornflowerblue\",\n",
        "    linewidth=lw,\n",
        "    label=\"RANSAC regressor\",\n",
        ")\n",
        "plt.legend(loc=\"lower right\")\n",
        "plt.xlabel(\"Input\")\n",
        "plt.ylabel(\"Response\")\n",
        "plt.show()"
      ]
    }
  ],
  "metadata": {
    "kernelspec": {
      "display_name": "Python 3.8.10 64-bit",
      "language": "python",
      "name": "python3"
    },
    "language_info": {
      "codemirror_mode": {
        "name": "ipython",
        "version": 3
      },
      "file_extension": ".py",
      "mimetype": "text/x-python",
      "name": "python",
      "nbconvert_exporter": "python",
      "pygments_lexer": "ipython3",
      "version": "3.8.10"
    },
    "vscode": {
      "interpreter": {
        "hash": "916dbcbb3f70747c44a77c7bcd40155683ae19c65e1c03b4aa3499c5328201f1"
      }
    }
  },
  "nbformat": 4,
  "nbformat_minor": 0
}
