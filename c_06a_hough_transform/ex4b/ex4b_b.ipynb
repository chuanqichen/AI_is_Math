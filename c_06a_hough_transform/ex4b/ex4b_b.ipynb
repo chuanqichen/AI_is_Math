{
  "cells": [
    {
      "cell_type": "markdown",
      "metadata": {},
      "source": [
        "Let's identify coins!\n",
        "in the image given below we want to detect each coin currency,\n",
        "and we'll do it with cv2.HoughCircles!\n",
        "\n"
      ]
    },
    {
      "cell_type": "code",
      "metadata": {},
      "source": [
        "# to run in google colab\n",
        "import sys\n",
        "if 'google.colab' in sys.modules:\n",
        "    import subprocess \n",
        "    subprocess.call('apt-get install subversion'.split())\n",
        "    subprocess.call('svn export https://github.com/YoniChechik/AI_is_Math/trunk/c_04b_hough_transform/ex4b/coins.png'.split())\n",
        "\n"
      ],
      "outputs": [],
      "execution_count": null
    },
    {
      "cell_type": "code",
      "metadata": {},
      "source": [
        "from matplotlib import pyplot as plt\n",
        "import cv2\n",
        "\n",
        "figsize = (10, 10)\n",
        "\n"
      ],
      "outputs": [],
      "execution_count": null
    },
    {
      "cell_type": "code",
      "metadata": {},
      "source": [
        "im3 = cv2.imread(\"coins.png\")\n",
        "im3 = cv2.cvtColor(im3, cv2.COLOR_BGR2RGB)\n",
        "im = cv2.cvtColor(im3, cv2.COLOR_RGB2GRAY)\n",
        "res = im3.copy()\n",
        "\n",
        "# TODO: fill in the best values possible \n",
        "# to detect the right circle dimeter and place\n",
        "acc_ratio = None\n",
        "min_dist = None\n",
        "canny_upper_th = None\n",
        "acc_th = None\n",
        "circles = cv2.HoughCircles(im, cv2.HOUGH_GRADIENT, acc_ratio,\n",
        "                           min_dist, param1=canny_upper_th,\n",
        "                           param2=acc_th, minRadius=None, maxRadius=None)\n",
        "\n",
        "#=== font vars\n",
        "font = cv2.FONT_HERSHEY_SIMPLEX\n",
        "bottomLeftCornerOfText = (10,500)\n",
        "fontScale = 0.8\n",
        "fontColor = (0,0,0)\n",
        "lineType = 2\n",
        "\n",
        "# ==== for each detected circle\n",
        "for xyr in circles[0, :]:\n",
        "    # draw the outer circle\n",
        "    res = cv2.circle(res, (xyr[0], xyr[1]), xyr[2], (0, 255, 0), 3)\n",
        "\n",
        "    \n",
        "    # TODO: write currency type on each coin.\n",
        "    # use cv2.putText() and the font vars above.\n",
        "    # If you need, different coin sizes can be found here:\n",
        "    # https://avocadoughtoast.com/weights-sizes-us-coins/\n",
        "    pass\n",
        "\n",
        "\n",
        "plt.figure(figsize=figsize)\n",
        "plt.imshow(res)\n",
        "plt.title(\"final result- coins detection\")\n",
        "plt.show()\n",
        "\n"
      ],
      "outputs": [],
      "execution_count": null
    }
  ],
  "metadata": {
    "language_info": {
      "codemirror_mode": {
        "name": "ipython",
        "version": 3
      },
      "file_extension": ".py",
      "mimetype": "text/x-python",
      "name": "python",
      "nbconvert_exporter": "python",
      "pygments_lexer": "ipython3",
      "version": "3"
    }
  },
  "nbformat": 4,
  "nbformat_minor": 2
}